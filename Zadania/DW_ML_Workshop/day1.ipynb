{
 "cells": [
  {
   "cell_type": "markdown",
   "metadata": {},
   "source": [
    "# Dzień pierwszy DWthon - Hack Outside the Box \n",
    "### Cel na dziś: wczytanie i wstępna analiza danych \n",
    "\n",
    "Witaj na DWthon - *hack outside the box* 🤝  Jeśli czujesz głód wiedzy i czujesz, że chcesz się rozwijać szybciej i bardziej efektywnie niż do tej pory, to jesteś we właściwym miejscu 🧠 Moją rolą jest pokazać Ci, jak krok po kroku można wydobyć wartość z danych i uczenia maszynowego. 👀    \n",
    "\n",
    "Pamiętaj, że DWthon trwa 5 dni i nie jest naszym celem zagłębianie się w szczegóły. Celem jest pokazanie Ci, jak postawić pierwsze kroki ku nowej dziedzinie albo nowemu sposobowi myślenia, jeśli zagadnienia techniczne nie są dla Ciebie już zagadką. Z mojego doświadczenia wynika, że czasem nawet osoby zaawansowane technicznie nie działają optymalnie i popadają w tak zwane \"czarne dziury\" (tak w DataWorkshop nazywamy zadania, które pochłaniają bardzo dużo czasu, energii i pieniędzy, a nie zwracają nic konkretnego ;)). W przypadku projektów Machine Learning czy Data Science (akurat w obu przypadkach jest pełno czarnych dziur) można bardzo łatwo popaść w nadmiar pracy i efektu nie będzie lub będzie na tyle nieznaczny, że po podsumowaniu godzin spędzonych nad projektem a dostarczoną wartością bilans będzie raczej powodował smutek. Tak nie musi być! Właśnie po to powstał DWthon, aby pokazać pewien sposób myślenia (!) i ścieżkę działania, która powoduje, że stosunkowo małym wysiłkiem można osiągnąć całkiem sporo. \n",
    "\n",
    "\n",
    "Często odwołuję się w swoich [webinarach](https://bit.ly/3eg9XXM), czy [podcastach](https://bit.ly/3bqocaA) **Biznes Myśli** do **zasady Pareto - 80/20**, która w dużym skrócie mówi o tym, że 80% czegoś (tu może wstawić prawie wszystko, co chcesz np. wartość, energia, straty itd) generowane jest przez 20% czegoś (np. wysiłku, klientów itd.) \n",
    "\n",
    "\n",
    "Zadań, których możesz zrobić jest mnóstwo. Szczególików, nad którymi możesz się skupiać (szczególnie w Machine Learning) jest mnóstwo. Czy warto zaczynać od szczególików i rzeźbienia detali miesiącami, jak można w pierwszej kolejności zerwać nisko wiszące owoce, a dopiero potem, jak to już daje nam konkretną wartość, skupić się na detalach, jeśli faktycznie 1% robi różnicę (zależy od kontekstu). \n",
    "\n",
    "\n",
    "😱 Może się zdziwisz, ale podobnie jest z Twoim rozwojem. Co ma większy sens przeczytanie kilku książek szczegółowo opisujących jakieś procesy, o których nie masz pojęcia na starcie, bo nigdy ich nie doświadczyłeś czy doświadczenie czegoś nawet, jeśli nie rozumie się wszystkiego, ale osiąga się już pewien wynik i zaczyna coraz lepiej rozumieć, jakie szczegóły warto w ogóle zgłębiać? Zastanów się ;) 👀\n",
    "\n",
    "\n",
    "Na koniec ostatnia bardzo ważna rzecz i zaczynamy. Mam prośbę 🙏 Nie porównuj się z innymi. Podczas DWthon każdy jest wygrany. Sam fakt, że tutaj jesteś już jest pewnym krokiem, który został przez Ciebie postawiony, teraz czas na kolejne. Pomyśl o tym, co umiesz w trakcie startu DWthon i każdego dnia zwracaj uwagę na nową rzecz, o której udało Ci się dowiedzieć, czy nową umiejętność, którą udało Ci się zdobyć. Mierz swoją deltę rozwoju, a nie innych :) \n",
    "\n",
    "Zaczynamy! \n",
    "\n",
    "Najpierw obejrzyj wideo poniżej, aby je zobaczyć postaw kursor w komórce poniżej i naciśnij `SHIFT` + `ENTER`\n",
    "\n"
   ]
  },
  {
   "cell_type": "markdown",
   "metadata": {},
   "source": [
    "### Uwaga! \n",
    "\n",
    "Jeśli napotkasz trudności podczas wykonywania zadań z tego notebooka, to koniecznie napisz w kanale [dwthon_day1](https://bit.ly/30sh4El)\n",
    "\n",
    "Pamiętaj, aby szczegółowo doprecyzować, z czym masz problem. Najlepiej wrzuć screen z kodem swoim lub błędem, który widzisz i napisz, którego zadania dotyczy :) "
   ]
  },
  {
   "cell_type": "code",
   "execution_count": 1,
   "metadata": {
    "scrolled": false
   },
   "outputs": [
    {
     "data": {
      "text/html": [
       "<iframe style=\"height:500px;width:100%\" src=\"https://www.youtube.com/embed/oZsGy41Jgs4\" frameborder=\"0\" allow=\"autoplay; encrypted-media\" allowfullscreen></iframe>\n"
      ],
      "text/plain": [
       "<IPython.core.display.HTML object>"
      ]
     },
     "metadata": {},
     "output_type": "display_data"
    }
   ],
   "source": [
    "%%html\n",
    "<iframe style=\"height:500px;width:100%\" src=\"https://www.youtube.com/embed/oZsGy41Jgs4\" frameborder=\"0\" allow=\"autoplay; encrypted-media\" allowfullscreen></iframe>"
   ]
  },
  {
   "cell_type": "markdown",
   "metadata": {},
   "source": [
    "### Krok po kroku \n",
    "\n",
    "Nagrałem dla Ciebie także materiał wideo \"krok po kroku\". W wideo poniżej znajduje się dokładnie to, co w tym notebooku tylko tłumaczę wszystko, aby ułatwić Ci pracę i zrozumienie zagadnień i zadań :) Obejrzyj, jeśli potrzebujesz takiego dodatkowego wsparcia. \n"
   ]
  },
  {
   "cell_type": "code",
   "execution_count": 2,
   "metadata": {},
   "outputs": [
    {
     "data": {
      "text/html": [
       "<iframe style=\"height:500px;width:100%\" src=\"https://www.youtube.com/embed/NMAYudBMe8Q\" frameborder=\"0\" allow=\"autoplay; encrypted-media\" allowfullscreen></iframe>\n"
      ],
      "text/plain": [
       "<IPython.core.display.HTML object>"
      ]
     },
     "metadata": {},
     "output_type": "display_data"
    }
   ],
   "source": [
    "%%html\n",
    "<iframe style=\"height:500px;width:100%\" src=\"https://www.youtube.com/embed/NMAYudBMe8Q\" frameborder=\"0\" allow=\"autoplay; encrypted-media\" allowfullscreen></iframe>"
   ]
  },
  {
   "cell_type": "markdown",
   "metadata": {},
   "source": [
    "## Biblioteki"
   ]
  },
  {
   "cell_type": "code",
   "execution_count": 3,
   "metadata": {},
   "outputs": [],
   "source": [
    "import pandas as pd"
   ]
  },
  {
   "cell_type": "markdown",
   "metadata": {},
   "source": [
    "## Wczytujemy dane\n",
    "\n",
    "Wystarczy jedna linijka kodu, aby wczytać prawie milion wierszy w sekundę 👍"
   ]
  },
  {
   "cell_type": "code",
   "execution_count": 5,
   "metadata": {},
   "outputs": [
    {
     "data": {
      "text/plain": [
       "(820906, 9)"
      ]
     },
     "execution_count": 5,
     "metadata": {},
     "output_type": "execute_result"
    }
   ],
   "source": [
    "df = pd.read_hdf(\"../input/data.h5\")\n",
    "\n",
    "df.shape"
   ]
  },
  {
   "cell_type": "markdown",
   "metadata": {},
   "source": [
    "Zbadajmy krok po kroku co tu się stało:\n",
    "- `pd` to jest skrót, aby odwołać się do biblioteki `pandas` (można powiedzieć \"ksywka\")\n",
    "- `pd.read_hdf` wczytuje nasz zbiór danych w formacie hdf/h5 (to jest specjalny format danych, którego dość często używamy, pomińmy teraz szczegóły i wyjaśnienia, dlaczego właśnie taki forma)\n",
    "- wyniki przypisujemy do zmiennej `df`\n",
    "\n",
    "#### Czym jest wynik?\n",
    "\n",
    "Wynikiem jest `DataFrame`. Tak w `pandas` nazywa się tablica. Jak każda dobra tablica, `DataFrame` ma wiersze oraz kolumny.\n",
    "\n",
    "\n",
    "`df.shape` - zwraca nam \"kształt\", czyli ile jest wierszy i kolumn w naszej (wczytanej) tablicy. W tym przypadku mamy `(820906, 9)`, czyli **820 906** wierszy oraz **9** kolumn.\n",
    "\n",
    "## Szybki przegląd\n",
    "\n",
    "Dwie najważniejsze funkcje na początek to:\n",
    "- `pd.head()` - zwraca nam pierwsze wiersze. Domyślnie zwraca 5 pierwszych wierszy.\n",
    "- `pd.sample()` - zwraca losowe wiersze, domyślnie jeden (`pd.sample(10)` zwróci 10 losowych wierszy)\n",
    "\n",
    "Obie funkcje są przydatne, chociaż warto przyznać, że patrzenie na losowe wiersze (uruchamiając komórkę np. 5-10 razy) może wnieść znacznie więcej wartości dodanej.\n",
    "\n",
    "Spróbuj uruchomić komórkę 10 razy. Spędź 1-2 minutę na to, aby zapoznać się, jakie wartości występują w poszczególnych kolumnach.\n",
    "\n",
    "\n",
    "\n",
    "### 💡 Podpowiedź \n",
    "Zwykle uruchamiamy komórkę `SHIFT` + `ENTER`. Wynikiem jest uruchomienie komórki i \"przeskoczenie\" do kolejnych. Czasem chcemy po prostu uruchomić i zostać w tym samym miejscu. To wtedy możemy użyć `CTRL` + `ENTER`. Spróbuj :) "
   ]
  },
  {
   "cell_type": "code",
   "execution_count": 8,
   "metadata": {},
   "outputs": [
    {
     "data": {
      "text/html": [
       "<div>\n",
       "<style scoped>\n",
       "    .dataframe tbody tr th:only-of-type {\n",
       "        vertical-align: middle;\n",
       "    }\n",
       "\n",
       "    .dataframe tbody tr th {\n",
       "        vertical-align: top;\n",
       "    }\n",
       "\n",
       "    .dataframe thead th {\n",
       "        text-align: right;\n",
       "    }\n",
       "</style>\n",
       "<table border=\"1\" class=\"dataframe\">\n",
       "  <thead>\n",
       "    <tr style=\"text-align: right;\">\n",
       "      <th></th>\n",
       "      <th>order_id</th>\n",
       "      <th>customer_id</th>\n",
       "      <th>product_id</th>\n",
       "      <th>quantity</th>\n",
       "      <th>price_unit</th>\n",
       "      <th>price_total</th>\n",
       "      <th>country_id</th>\n",
       "      <th>order_date</th>\n",
       "      <th>is_canceled</th>\n",
       "    </tr>\n",
       "  </thead>\n",
       "  <tbody>\n",
       "    <tr>\n",
       "      <th>619616</th>\n",
       "      <td>40785</td>\n",
       "      <td>3010</td>\n",
       "      <td>772</td>\n",
       "      <td>10</td>\n",
       "      <td>165</td>\n",
       "      <td>1650</td>\n",
       "      <td>0</td>\n",
       "      <td>2010-07-18 11:31:00</td>\n",
       "      <td>False</td>\n",
       "    </tr>\n",
       "    <tr>\n",
       "      <th>505021</th>\n",
       "      <td>32644</td>\n",
       "      <td>4698</td>\n",
       "      <td>661</td>\n",
       "      <td>2</td>\n",
       "      <td>125</td>\n",
       "      <td>250</td>\n",
       "      <td>0</td>\n",
       "      <td>2010-03-23 11:41:00</td>\n",
       "      <td>False</td>\n",
       "    </tr>\n",
       "    <tr>\n",
       "      <th>623838</th>\n",
       "      <td>41073</td>\n",
       "      <td>2332</td>\n",
       "      <td>872</td>\n",
       "      <td>4</td>\n",
       "      <td>375</td>\n",
       "      <td>1500</td>\n",
       "      <td>0</td>\n",
       "      <td>2010-07-22 12:25:00</td>\n",
       "      <td>False</td>\n",
       "    </tr>\n",
       "    <tr>\n",
       "      <th>144099</th>\n",
       "      <td>10228</td>\n",
       "      <td>36</td>\n",
       "      <td>58</td>\n",
       "      <td>200</td>\n",
       "      <td>179</td>\n",
       "      <td>35800</td>\n",
       "      <td>0</td>\n",
       "      <td>2011-05-25 09:58:00</td>\n",
       "      <td>False</td>\n",
       "    </tr>\n",
       "    <tr>\n",
       "      <th>728778</th>\n",
       "      <td>47682</td>\n",
       "      <td>3831</td>\n",
       "      <td>536</td>\n",
       "      <td>3</td>\n",
       "      <td>254</td>\n",
       "      <td>762</td>\n",
       "      <td>0</td>\n",
       "      <td>2010-10-21 11:52:00</td>\n",
       "      <td>False</td>\n",
       "    </tr>\n",
       "    <tr>\n",
       "      <th>43799</th>\n",
       "      <td>3092</td>\n",
       "      <td>154</td>\n",
       "      <td>95</td>\n",
       "      <td>12</td>\n",
       "      <td>85</td>\n",
       "      <td>1020</td>\n",
       "      <td>0</td>\n",
       "      <td>2011-01-26 10:30:00</td>\n",
       "      <td>False</td>\n",
       "    </tr>\n",
       "    <tr>\n",
       "      <th>79736</th>\n",
       "      <td>5560</td>\n",
       "      <td>756</td>\n",
       "      <td>1167</td>\n",
       "      <td>192</td>\n",
       "      <td>42</td>\n",
       "      <td>8064</td>\n",
       "      <td>19</td>\n",
       "      <td>2011-03-14 13:25:00</td>\n",
       "      <td>False</td>\n",
       "    </tr>\n",
       "    <tr>\n",
       "      <th>495331</th>\n",
       "      <td>32004</td>\n",
       "      <td>4032</td>\n",
       "      <td>130</td>\n",
       "      <td>1</td>\n",
       "      <td>125</td>\n",
       "      <td>125</td>\n",
       "      <td>0</td>\n",
       "      <td>2010-03-12 12:41:00</td>\n",
       "      <td>False</td>\n",
       "    </tr>\n",
       "    <tr>\n",
       "      <th>393808</th>\n",
       "      <td>24692</td>\n",
       "      <td>478</td>\n",
       "      <td>831</td>\n",
       "      <td>12</td>\n",
       "      <td>39</td>\n",
       "      <td>468</td>\n",
       "      <td>0</td>\n",
       "      <td>2011-12-05 10:00:00</td>\n",
       "      <td>False</td>\n",
       "    </tr>\n",
       "    <tr>\n",
       "      <th>534483</th>\n",
       "      <td>34578</td>\n",
       "      <td>531</td>\n",
       "      <td>3514</td>\n",
       "      <td>2</td>\n",
       "      <td>295</td>\n",
       "      <td>590</td>\n",
       "      <td>0</td>\n",
       "      <td>2010-04-23 11:36:00</td>\n",
       "      <td>False</td>\n",
       "    </tr>\n",
       "  </tbody>\n",
       "</table>\n",
       "</div>"
      ],
      "text/plain": [
       "        order_id  customer_id  product_id  quantity  price_unit  price_total  \\\n",
       "619616     40785         3010         772        10         165         1650   \n",
       "505021     32644         4698         661         2         125          250   \n",
       "623838     41073         2332         872         4         375         1500   \n",
       "144099     10228           36          58       200         179        35800   \n",
       "728778     47682         3831         536         3         254          762   \n",
       "43799       3092          154          95        12          85         1020   \n",
       "79736       5560          756        1167       192          42         8064   \n",
       "495331     32004         4032         130         1         125          125   \n",
       "393808     24692          478         831        12          39          468   \n",
       "534483     34578          531        3514         2         295          590   \n",
       "\n",
       "        country_id          order_date  is_canceled  \n",
       "619616           0 2010-07-18 11:31:00        False  \n",
       "505021           0 2010-03-23 11:41:00        False  \n",
       "623838           0 2010-07-22 12:25:00        False  \n",
       "144099           0 2011-05-25 09:58:00        False  \n",
       "728778           0 2010-10-21 11:52:00        False  \n",
       "43799            0 2011-01-26 10:30:00        False  \n",
       "79736           19 2011-03-14 13:25:00        False  \n",
       "495331           0 2010-03-12 12:41:00        False  \n",
       "393808           0 2011-12-05 10:00:00        False  \n",
       "534483           0 2010-04-23 11:36:00        False  "
      ]
     },
     "execution_count": 8,
     "metadata": {},
     "output_type": "execute_result"
    }
   ],
   "source": [
    "df.head()\n",
    "df.sample(10)"
   ]
  },
  {
   "cell_type": "markdown",
   "metadata": {},
   "source": [
    "😯 Może zdziwić Cię ta kolejność, że najpierw patrzymy na dane i dopiero w drugim kroku próbujemy zinterpretować nazwy kolumn.\n",
    "\n",
    "Różnie to w życiu bywa, ale z mojego doświadczenia wynika, że popatrzeć 👀 chwilę dłużej na dane opłaca się bardzo! Nawet kilka minut rozważania i patrzenia na dane czasem może zaoszczędzić dni, tygodnie czy nawet miesiące. Często nie zdajemy sobie sprawy, jak bardzo ludzie, którzy pracują na co dzień z pewnymi danymi są zabiegani i nie mają czasu sprawdzić, jak to jest naprawdę, co mówią fakty. Wynikiem tego jest \"rozjazd\" pomiędzy teorią a stanem faktycznym.\n",
    "\n",
    "## Sklep\n",
    "\n",
    "\n",
    "Jak działa każdy sklep?\n",
    "\n",
    "Są klienci (`customer_id`), którzy kupują produkty (`product_id`) za cenę (`price_unit`) w ilości (`quantity`) i to wszystko łączy się w zamówienie (`order_id`). Dodatkowo mamy czas, kiedy zakup się odbył `order_date`.\n",
    "\n",
    "#### Przykład.\n",
    "Liczba/nazwy są losowe. Używam tego przykładu, aby pobudzić Twoją wyobraźnię.\n",
    "\n",
    "\n",
    "Zośka (`customer_id=1`) składa zamówienie (`order_id`) 8 marca o 10:00:00 (`order_date=08-03-2021 10:00:00`), które składa się z następujących produktów:\n",
    "- **chleb** (`product_id=1`) jedna sztuka (`quantity=1`) za 3 zł (`price_unit=300`)\n",
    "- **pomidory** (`product_id=2`) 5 sztuk (`quantity=5`) za 2,55 zł/szt (`price_unit=255`) razem **2,55 * 5 = 12,75 zł** (`price_total=1275`)\n",
    "  \n",
    "  \n",
    "Jako konsument masz prawo do zwrotu. Jeśli zwracasz (w tych danych zwraca się całe zamówienie, nie pojedynczy produkt, tak po prostu jest, nie myśl dlaczego). W takiej sytuacji będzie: `is_canceled=True`. W tym przypadku mówimy, że zamówienie zostało anulowane.\n",
    "\n",
    "\n",
    "### ☝️ Zwróć uwagę, że `price` trzymamy w groszach.  \n",
    "*Z bardzo prostego powodu, aby nie mieć kłopotów z zaokrąglaniem. Schodzimy na \"fizyczny poziom\" naszego świata. Najmniejszą jednostką pieniądza jest \"grosz\" (cent itd). Dlatego użyjmy tego myślenia też tutaj i zaoszczędzimy sobie sporo nerwów (trochę więcej kontekstu możesz znaleźć np. [tutaj](https://bit.ly/2PI9oMt). Nasze podejście jest 80/20 (80% wartości staramy się wygenerować przy 20% wysiłku), pamiętasz? Dlatego użyjmy bardzo prostego mechanizm, bez komplikowania sobie życia.*\n",
    "\n",
    "\n",
    "## Od czego zacząć analizę?\n",
    "\n",
    "Jeśli pracujesz z projektem biznesowym to, co chcesz znaleźć jak najszybciej? Odpowiedź niemal zawsze jest ta sama niezależnie od kultury i czasu - \"pieniądze\". To jest bardzo prosta reguła, przy pomocy której można dostarczać dużo wartości dodanej firmom i zarabiać jako Data Scientist nawet **23 000 zł** lub więcej miesięcznie w Polsce (o tym więcej mówiłem w tym [filmiku](https://www.youtube.com/watch?v=hxewhurwW3E&t)).\n",
    "\n",
    "Umiejętność dostarczania wartości \"biznesowi\" jest fajna też z innego względu. Dzięki temu pracodawca szuka Ciebie, a nie Ty biegasz za pracodawcą. Możesz myśleć, że żartuję, ale jednak mówię prawdę 😉. Zorganizuj swoje życie w taki sposób, żeby to firmy Ciebie potrzebowały (a nie odwrotnie). Postaram się Ci w tym pomóc, a przynajmniej przekażę, jak to działa u mnie 🤝. To zacznijmy już analizę ;)\n",
    "\n",
    "## Przychody\n",
    "Policzmy na początek, ile pieniędzy zarobił sklep. Dlaczego to jest ważne? Bo jeśli sklep generuje np. 100 zł, to nawet jak wymyślimy bardzo genialny system usprawnienia, to co z tego?  \n",
    "\n",
    "W inną stronę, jeśli sklep generuje 10 milionów lub więcej, to wtedy naprawa o jeden procent to już jest dużo (100 tys, prawda?). Jeśli takich poprawek zrobisz 10 w ciągu roku, to wtedy Twoja pensja ~300k już nie brzmi jak coś magicznego. Widać przyczynę i skutek.\n",
    "\n",
    "Trzymajmy się mocno reguły 80/20. Chcemy skupić się na robieniu takich rzeczy, które faktycznie mają znaczący wpływ. Kierując naszą energię życiową we właściwe miejsce, osiągamy znacznie więcej."
   ]
  },
  {
   "cell_type": "code",
   "execution_count": 9,
   "metadata": {},
   "outputs": [
    {
     "data": {
      "text/plain": [
       "1816145630"
      ]
     },
     "execution_count": 9,
     "metadata": {},
     "output_type": "execute_result"
    }
   ],
   "source": [
    "df[\"price_total\"].sum()"
   ]
  },
  {
   "cell_type": "markdown",
   "metadata": {},
   "source": [
    "`price_total` to jest kombinacja `price_unit` * `quantity` dla danego produktu.\n",
    "Innymi słowy, znajdując sumę (funkcja `.sum()`) dla `price_total` dostajemy informację o przychodach tego sklepu. ☝️ Przypomnę, że `price_total` (oraz `price_unit`) trzymamy w \"groszach\". Właściwie narzućmy od razu kontekst. Sklep znajduje się w Wielkiej Brytanii i tam jest funt szterling £. Jeden funt dzieli się na 100 pensów. Innymi słowy `price` trzymamy w `pensach`.\n",
    "\n",
    "#### Dobra, to ile tam wyszło?\n",
    "\n",
    "Jeśli przyjrzysz się, to zobaczysz, że... **18 161 456.30**, czyli 18+ mln funtów 🧐. Brzmi że mamy, co optymalizować, to bardzo dobrze!\n",
    "\n",
    "\n",
    "Sprawdźmy teraz, ile pieniędzy nam uciekło (zwroty). W tym przypadku mamy zostawić tylko takie wiersze, które mają `is_canceled = True` i następnie obliczyć sumę."
   ]
  },
  {
   "cell_type": "code",
   "execution_count": 10,
   "metadata": {},
   "outputs": [
    {
     "data": {
      "text/plain": [
       "71973973"
      ]
     },
     "execution_count": 10,
     "metadata": {},
     "output_type": "execute_result"
    }
   ],
   "source": [
    "df[ True == df.is_canceled  ][\"price_total\"].sum()"
   ]
  },
  {
   "cell_type": "markdown",
   "metadata": {},
   "source": [
    "Wychodzi na to, że **719 739.73** funtów trzeba było zwrócić. Duuuuuuużo!  \n",
    "To co już warto zapamiętać to to, że z tym można popracować i np. lepiej zrozumieć, które produkty są zwracane lub którzy klienci zwykle zwracają lub jeszcze inne rzeczy!\n",
    "\n",
    "\n",
    "Zbadajmy jeszcze kilka spraw. Ważne parametry:\n",
    "- ile mamy klientów?\n",
    "- ile mamy produktów?\n",
    "\n",
    "\n",
    "W pandas mamy funkcję `nunique()` (☝️ zwróć uwagę na początku na `n`), to zwraca unikalną liczbę wartości. Zobaczmy to w działaniu."
   ]
  },
  {
   "cell_type": "code",
   "execution_count": 11,
   "metadata": {},
   "outputs": [
    {
     "data": {
      "text/plain": [
       "5879"
      ]
     },
     "execution_count": 11,
     "metadata": {},
     "output_type": "execute_result"
    }
   ],
   "source": [
    "df[\"customer_id\"].nunique()"
   ]
  },
  {
   "cell_type": "markdown",
   "metadata": {},
   "source": [
    "Zwróciło nam 5879, to oznacza, że w kolumnie `customer_id` jest tyle unikalnych wartości. Każda wartość jest przypisywana do konkretnej osoby. Dlatego unikalna liczba wartości odpowiada na pytanie, ile mam klientów."
   ]
  },
  {
   "cell_type": "markdown",
   "metadata": {},
   "source": [
    "## Zadanie 1.1\n",
    "\n",
    "Już wiesz, jak znaleźć liczbę klientów, teraz trzeba zrobić to samo dla produktów. Chcemy odpowiedzieć na pytanie, ile produktów mamy w sklepie?\n",
    "\n",
    "\n",
    "### 💡 Podpowiedzi\n",
    "1. Zamiast zawartości `## YOUR CODE HERE` wpisz kod\n",
    "2. Pewnie chcesz użyć `product_id`.\n",
    "3. Zainspiruj się komórką wyżej, gdzie znaleźliśmy liczbę unikalnych `customer_id`."
   ]
  },
  {
   "cell_type": "code",
   "execution_count": 12,
   "metadata": {},
   "outputs": [
    {
     "data": {
      "text/plain": [
       "3878"
      ]
     },
     "execution_count": 12,
     "metadata": {},
     "output_type": "execute_result"
    }
   ],
   "source": [
    "df[\"product_id\"].nunique()"
   ]
  },
  {
   "cell_type": "markdown",
   "metadata": {},
   "source": [
    "## Zadanie 1.2\n",
    "Skoro już wiemy, ile mamy produktów, to sprawdźmy jeszcze, ile ma zamówień.\n",
    "\n",
    "💡 Podpowiedzi\n",
    "1. Zamiast zawartości ## YOUR CODE HERE wpisz kod\n",
    "2. Pewnie chcesz użyć `order_id`."
   ]
  },
  {
   "cell_type": "code",
   "execution_count": 13,
   "metadata": {},
   "outputs": [
    {
     "data": {
      "text/plain": [
       "43908"
      ]
     },
     "execution_count": 13,
     "metadata": {},
     "output_type": "execute_result"
    }
   ],
   "source": [
    "df[\"order_id\"].nunique()"
   ]
  },
  {
   "cell_type": "markdown",
   "metadata": {},
   "source": [
    "To już tyle jako plan minimum. Jak wykonasz zadanie, należy zrobić:\n",
    "1. Zrzut ekranu na którym widać rozwiązania, wtedy dostaniesz bonus  :)  \n",
    "2. Wrzucić rozwiązanie na slacku do pokoju [dwthon_day1_done](https://bit.ly/3brCUyp)\n",
    "3. Dostać bonus za dobrą robotę 💪 i jutro będzie kolejna porcja.\n",
    "\n",
    "Uwaga! Jeśli masz problem z jakimś zadaniem, czegoś nie wiesz, to pamiętaj, że możesz zadawać pytania! Na tym polega nauka :) Pytania związane z 1 dniem DWthon zadawaj w kanale [dwthon_day1](https://bit.ly/30sh4El)."
   ]
  },
  {
   "cell_type": "markdown",
   "metadata": {},
   "source": [
    "## Dodatkowe zadania\n",
    "\n",
    "Nie musisz ich wykonywać, ale jak czujesz \"głód\" i chcesz więcej, to wtedy działaj śmiało 👍.\n",
    "\n",
    "\n",
    "### 🧠 Włączmy myślenie krytycznie. \n",
    "Ta umiejętność jest bardzo potrzebna przy analizowniu danych (i ogólnie przydaje się w życiu).\n",
    "\n",
    "Powyżej było zadanie, ile jest produktów w sklepie, prawda? Ale czy jesteśmy w stanie odpowiedzieć na to pytanie? Pomyśl...\n",
    "\n",
    "\n",
    "Tak naprawdę, nie! Bo nie wiemy, ile jest produktów w sklepie. To co wiemy, jakie produkty sprzedały się co najmniej raz! To jest ogromna różnica, bo może być jeszcze tysiąc innych produktów (których nie ma w naszych danych/zamówieniach), które generują koszty, ale nie sprzedają się w ogóle. Dlatego bardzo uważnie rozważaj, jakie masz dane ;). \n",
    "\n",
    "\n",
    "Policzmy teraz \"średni rachunek\". Wiemy, jakie są przychody. Też wiemy, ile było zamówień, prawda? To podzielmy jedno przez drugie."
   ]
  },
  {
   "cell_type": "code",
   "execution_count": 14,
   "metadata": {},
   "outputs": [
    {
     "data": {
      "text/plain": [
       "41362.5223193951"
      ]
     },
     "execution_count": 14,
     "metadata": {},
     "output_type": "execute_result"
    }
   ],
   "source": [
    "df[\"price_total\"].sum() / df[\"order_id\"].nunique()"
   ]
  },
  {
   "cell_type": "markdown",
   "metadata": {},
   "source": [
    "W tak łatwy sposób dowiedzieliśmy się, że średni rachunek wynosi **413.63** funta. Dość dużo, prawda?\n",
    "\n",
    "Podpowiem Ci, że w tym przypadku chodzi o sklep z prezentami. Jak kupujesz prezenty dla swojej rodziny czy znajomych  (np. na Święta), to jest szansa, że wydaje się podobne pieniądze ;)"
   ]
  },
  {
   "cell_type": "markdown",
   "metadata": {},
   "source": [
    "## 😇 Włączmy myślenie kreatywne\n",
    "\n",
    "Jakie jeszcze 5-10 metryk warto byłoby sprawdzić? Pomyśl na spokojnie, na pewno wymyślisz, daj sobie chwilę czasu. Po prostu masz zrobić dla siebie przestrzeń, porozważać, być może pójść na krótki spacerek, może szybki zimny prysznic 🚿, medytacja lub coś innego, co pobudza Cię do kreatywnego myślenia. "
   ]
  },
  {
   "cell_type": "code",
   "execution_count": 15,
   "metadata": {},
   "outputs": [
    {
     "data": {
      "text/html": [
       "<div>\n",
       "<style scoped>\n",
       "    .dataframe tbody tr th:only-of-type {\n",
       "        vertical-align: middle;\n",
       "    }\n",
       "\n",
       "    .dataframe tbody tr th {\n",
       "        vertical-align: top;\n",
       "    }\n",
       "\n",
       "    .dataframe thead th {\n",
       "        text-align: right;\n",
       "    }\n",
       "</style>\n",
       "<table border=\"1\" class=\"dataframe\">\n",
       "  <thead>\n",
       "    <tr style=\"text-align: right;\">\n",
       "      <th></th>\n",
       "      <th>order_id</th>\n",
       "      <th>customer_id</th>\n",
       "      <th>product_id</th>\n",
       "      <th>quantity</th>\n",
       "      <th>price_unit</th>\n",
       "      <th>price_total</th>\n",
       "      <th>country_id</th>\n",
       "      <th>order_date</th>\n",
       "      <th>is_canceled</th>\n",
       "    </tr>\n",
       "  </thead>\n",
       "  <tbody>\n",
       "    <tr>\n",
       "      <th>0</th>\n",
       "      <td>0</td>\n",
       "      <td>0</td>\n",
       "      <td>0</td>\n",
       "      <td>6</td>\n",
       "      <td>254</td>\n",
       "      <td>1524</td>\n",
       "      <td>0</td>\n",
       "      <td>2010-12-01 08:26:00</td>\n",
       "      <td>False</td>\n",
       "    </tr>\n",
       "    <tr>\n",
       "      <th>1</th>\n",
       "      <td>0</td>\n",
       "      <td>0</td>\n",
       "      <td>1</td>\n",
       "      <td>6</td>\n",
       "      <td>339</td>\n",
       "      <td>2034</td>\n",
       "      <td>0</td>\n",
       "      <td>2010-12-01 08:26:00</td>\n",
       "      <td>False</td>\n",
       "    </tr>\n",
       "    <tr>\n",
       "      <th>2</th>\n",
       "      <td>0</td>\n",
       "      <td>0</td>\n",
       "      <td>2</td>\n",
       "      <td>8</td>\n",
       "      <td>275</td>\n",
       "      <td>2200</td>\n",
       "      <td>0</td>\n",
       "      <td>2010-12-01 08:26:00</td>\n",
       "      <td>False</td>\n",
       "    </tr>\n",
       "    <tr>\n",
       "      <th>3</th>\n",
       "      <td>0</td>\n",
       "      <td>0</td>\n",
       "      <td>3</td>\n",
       "      <td>6</td>\n",
       "      <td>339</td>\n",
       "      <td>2034</td>\n",
       "      <td>0</td>\n",
       "      <td>2010-12-01 08:26:00</td>\n",
       "      <td>False</td>\n",
       "    </tr>\n",
       "    <tr>\n",
       "      <th>4</th>\n",
       "      <td>0</td>\n",
       "      <td>0</td>\n",
       "      <td>3</td>\n",
       "      <td>6</td>\n",
       "      <td>339</td>\n",
       "      <td>2034</td>\n",
       "      <td>0</td>\n",
       "      <td>2010-12-01 08:26:00</td>\n",
       "      <td>False</td>\n",
       "    </tr>\n",
       "  </tbody>\n",
       "</table>\n",
       "</div>"
      ],
      "text/plain": [
       "   order_id  customer_id  product_id  quantity  price_unit  price_total  \\\n",
       "0         0            0           0         6         254         1524   \n",
       "1         0            0           1         6         339         2034   \n",
       "2         0            0           2         8         275         2200   \n",
       "3         0            0           3         6         339         2034   \n",
       "4         0            0           3         6         339         2034   \n",
       "\n",
       "   country_id          order_date  is_canceled  \n",
       "0           0 2010-12-01 08:26:00        False  \n",
       "1           0 2010-12-01 08:26:00        False  \n",
       "2           0 2010-12-01 08:26:00        False  \n",
       "3           0 2010-12-01 08:26:00        False  \n",
       "4           0 2010-12-01 08:26:00        False  "
      ]
     },
     "execution_count": 15,
     "metadata": {},
     "output_type": "execute_result"
    }
   ],
   "source": [
    "df.head()"
   ]
  },
  {
   "cell_type": "markdown",
   "metadata": {},
   "source": [
    "## 🤝🗣️ Pomyśl o kooperacji i komunikacji\n",
    "\n",
    "Podziel się pomysłami, co już udało się Ci wymyślić w poprzednim kroku i podziel się tym na slacku [dwthon_day1_ideas](https://bit.ly/3c9ocLB). Zaangażuj się w dyskusję i zobacz, jak w prosty sposób wytwarza się dużo pomysłów przy współpracy z innymi."
   ]
  },
  {
   "cell_type": "code",
   "execution_count": null,
   "metadata": {},
   "outputs": [],
   "source": []
  },
  {
   "cell_type": "markdown",
   "metadata": {},
   "source": [
    "## Twój Feedback i delta rozwoju \n",
    "\n",
    "Daj mi znać koniecznie, co sprawiło Ci przyjemność, co trudność oraz czego udało się nauczyć w tej krótkiej [ankiecie](https://bit.ly/3rr1bdq). Pozwoli mi ona ulepszyć zadania, a Tobie lepiej trakować swój rozwój: win-win 😇 "
   ]
  },
  {
   "cell_type": "markdown",
   "metadata": {},
   "source": [
    "## Widzimy się jutro!  🙌"
   ]
  }
 ],
 "metadata": {
  "kernelspec": {
   "display_name": "Python 3",
   "language": "python",
   "name": "python3"
  },
  "language_info": {
   "codemirror_mode": {
    "name": "ipython",
    "version": 3
   },
   "file_extension": ".py",
   "mimetype": "text/x-python",
   "name": "python",
   "nbconvert_exporter": "python",
   "pygments_lexer": "ipython3",
   "version": "3.8.6"
  }
 },
 "nbformat": 4,
 "nbformat_minor": 4
}
