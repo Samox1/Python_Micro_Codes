{
 "cells": [
  {
   "cell_type": "markdown",
   "id": "confused-pattern",
   "metadata": {},
   "source": [
    "# Dzień piąty DWthon 👋 - Hack Outside the Box \n",
    "\n",
    "### Celem jest poznanie, czym jest tak zwany \"aha moment\"!\n",
    "\n",
    "Czy wiesz co to jest \"aha-moment\"? To jest taki moment, kiedy mówisz... \"aha\" 😁. Czyli coś Cię olśniło i rzeczywistość (a przynajmniej jej kawałek) stał się bardziej dla Ciebie zrozumiały.\n",
    "\n",
    "O \"aha-momencie\" można długo mówić, lepiej podam Ci kilka przykładów.\n",
    "\n",
    "\n",
    "### Facebook (7 przyjaciół w 10 dni)\n",
    "Jeśli użytkownik dodaje co najmniej **10 znajomych** w ciągu **pierwszych 7 dni** od rejestracji, wtedy ten użytkownik będzie bardziej zaangażowany i na dłużej zostanie w Facebook.\n",
    "\n",
    "### Dropbox (1 plik, 1 folder, 1 urządzenie)\n",
    "Jeśli użytkownik doda co najmniej jeden plik, jeden folder i zsynchronizuje się z co najmniej jednym urządzeniem, to wtedy ten użytkownik zostanie na dłużej.\n",
    "\n",
    "### LinkedIn - X połączeń w Y dni\n",
    "\n",
    "\n",
    "To są proste reguły, które potrafią opisać najważniejsze, co ma się wydarzyć w firmie, aby firma rosła. Innymi słowy to jest stosowanie wprost reguły 80/20.\n",
    "\n",
    "\n",
    "Trudność polega na tym, że aby znaleźć tę prostą regułę, to... no właśnie, jak można ją znaleźć? Przecież takich prostych reguł może być tysiące lub nawet miliony, zabraknie nam czasu, aby je wszystkie sprawdzić. Tutaj na pomoc nam może przyjść `Machine Learning`."
   ]
  },
  {
   "cell_type": "markdown",
   "id": "charitable-underwear",
   "metadata": {},
   "source": [
    "### Zanim zaczniemy | ważne ❗\n",
    "\n",
    "Ankieta numer 5! Każdy dzień DWthon - hack outside the box ma dedykowaną ankietę. Wypełnij ją zanim przejdziesz do nauki. Zajmie Ci to tylko 3 minutki ;) \n",
    "\n",
    "### [Wypełnij ankietę](https://bit.ly/3qxZd9S)  i mierz deltę swego rozwoju :) "
   ]
  },
  {
   "cell_type": "markdown",
   "id": "intense-cherry",
   "metadata": {},
   "source": [
    "### Gdzie zadawać pytania ❓ \n",
    "\n",
    "Jeśli napotkasz trudności podczas wykonywania zadań z tego notebooka, to koniecznie napisz w kanale [dwthon_day5](https://bit.ly/3qEBEMv)\n",
    "\n",
    "Pamiętaj, aby szczegółowo doprecyzować, z czym masz problem. Najlepiej wrzuć screen z kodem swoim lub błędem, który widzisz i napisz, którego zadania dotyczy :)"
   ]
  },
  {
   "cell_type": "code",
   "execution_count": 23,
   "id": "vertical-trade",
   "metadata": {
    "scrolled": true
   },
   "outputs": [
    {
     "data": {
      "text/html": [
       "<iframe style=\"height:500px;width:100%\" src=\"https://www.youtube.com/embed/EeFJLSS3_x0\" frameborder=\"0\" allow=\"autoplay; encrypted-media\" allowfullscreen></iframe>\n"
      ],
      "text/plain": [
       "<IPython.core.display.HTML object>"
      ]
     },
     "metadata": {},
     "output_type": "display_data"
    }
   ],
   "source": [
    "%%html\n",
    "<iframe style=\"height:500px;width:100%\" src=\"https://www.youtube.com/embed/EeFJLSS3_x0\" frameborder=\"0\" allow=\"autoplay; encrypted-media\" allowfullscreen></iframe>"
   ]
  },
  {
   "cell_type": "markdown",
   "id": "civic-specification",
   "metadata": {},
   "source": [
    "### Krok po kroku \n",
    "\n",
    "Nagrałem dla Ciebie także materiał wideo \"krok po kroku\". W wideo poniżej znajduje się dokładnie to, co w tym notebooku tylko tłumaczę wszystko, aby ułatwić Ci pracę i zrozumienie zagadnień i zadań :) Obejrzyj, jeśli potrzebujesz takiego dodatkowego wsparcia. "
   ]
  },
  {
   "cell_type": "code",
   "execution_count": 24,
   "id": "meaningful-worst",
   "metadata": {},
   "outputs": [
    {
     "data": {
      "text/html": [
       "<iframe style=\"height:500px;width:100%\" src=\"https://www.youtube.com/embed/7UTzlVkK17k\" frameborder=\"0\" allow=\"autoplay; encrypted-media\" allowfullscreen></iframe>\n"
      ],
      "text/plain": [
       "<IPython.core.display.HTML object>"
      ]
     },
     "metadata": {},
     "output_type": "display_data"
    }
   ],
   "source": [
    "%%html\n",
    "<iframe style=\"height:500px;width:100%\" src=\"https://www.youtube.com/embed/7UTzlVkK17k\" frameborder=\"0\" allow=\"autoplay; encrypted-media\" allowfullscreen></iframe>"
   ]
  },
  {
   "cell_type": "markdown",
   "id": "partial-nerve",
   "metadata": {},
   "source": [
    "## Biblioteki\n",
    "Potrzebujemy `pandas` i jeszcze trochę więcej innych bibliotek. \n",
    "* `DecisionTreeClassifier` - do trenowania modelu\n",
    "* `sklearn.model_selection` walidacja modelu\n",
    "* `gc` do sprzątania w pamięci RAM\n",
    "\n",
    "Dodatkowo użyjemy nowego bardziej zaawansowanego modelu `xgboost` oraz biblioteki `eli5` do podglądania ważności cech.\n",
    "`from collections import Counter` przyda nam się do wygodnego zliczenia liczby wystąpień (np. ile razy klient kupił produkt x)."
   ]
  },
  {
   "cell_type": "code",
   "execution_count": 1,
   "id": "diverse-hungarian",
   "metadata": {},
   "outputs": [],
   "source": [
    "import pandas as pd\n",
    "import numpy as np\n",
    "\n",
    "from sklearn.tree import DecisionTreeClassifier\n",
    "from sklearn.model_selection import cross_val_score\n",
    "import xgboost as xgb\n",
    "import eli5 \n",
    "from collections import Counter\n",
    "\n",
    "import gc"
   ]
  },
  {
   "cell_type": "markdown",
   "id": "coordinated-composer",
   "metadata": {},
   "source": [
    "## Wczytajmy dane"
   ]
  },
  {
   "cell_type": "code",
   "execution_count": 2,
   "id": "discrete-regression",
   "metadata": {},
   "outputs": [
    {
     "name": "stdout",
     "output_type": "stream",
     "text": [
      "(820906, 9)\n"
     ]
    },
    {
     "data": {
      "text/html": [
       "<div>\n",
       "<style scoped>\n",
       "    .dataframe tbody tr th:only-of-type {\n",
       "        vertical-align: middle;\n",
       "    }\n",
       "\n",
       "    .dataframe tbody tr th {\n",
       "        vertical-align: top;\n",
       "    }\n",
       "\n",
       "    .dataframe thead th {\n",
       "        text-align: right;\n",
       "    }\n",
       "</style>\n",
       "<table border=\"1\" class=\"dataframe\">\n",
       "  <thead>\n",
       "    <tr style=\"text-align: right;\">\n",
       "      <th></th>\n",
       "      <th>order_id</th>\n",
       "      <th>customer_id</th>\n",
       "      <th>product_id</th>\n",
       "      <th>quantity</th>\n",
       "      <th>price_unit</th>\n",
       "      <th>price_total</th>\n",
       "      <th>country_id</th>\n",
       "      <th>order_date</th>\n",
       "      <th>is_canceled</th>\n",
       "    </tr>\n",
       "  </thead>\n",
       "  <tbody>\n",
       "    <tr>\n",
       "      <th>646414</th>\n",
       "      <td>42689</td>\n",
       "      <td>4622</td>\n",
       "      <td>639</td>\n",
       "      <td>1</td>\n",
       "      <td>295</td>\n",
       "      <td>295</td>\n",
       "      <td>0</td>\n",
       "      <td>2010-08-17 13:35:00</td>\n",
       "      <td>False</td>\n",
       "    </tr>\n",
       "    <tr>\n",
       "      <th>593006</th>\n",
       "      <td>38874</td>\n",
       "      <td>5298</td>\n",
       "      <td>1021</td>\n",
       "      <td>2</td>\n",
       "      <td>749</td>\n",
       "      <td>1498</td>\n",
       "      <td>0</td>\n",
       "      <td>2010-06-17 16:20:00</td>\n",
       "      <td>False</td>\n",
       "    </tr>\n",
       "    <tr>\n",
       "      <th>57292</th>\n",
       "      <td>4115</td>\n",
       "      <td>807</td>\n",
       "      <td>1335</td>\n",
       "      <td>12</td>\n",
       "      <td>165</td>\n",
       "      <td>1980</td>\n",
       "      <td>0</td>\n",
       "      <td>2011-02-14 15:35:00</td>\n",
       "      <td>False</td>\n",
       "    </tr>\n",
       "    <tr>\n",
       "      <th>295509</th>\n",
       "      <td>19593</td>\n",
       "      <td>1211</td>\n",
       "      <td>123</td>\n",
       "      <td>18</td>\n",
       "      <td>254</td>\n",
       "      <td>4572</td>\n",
       "      <td>0</td>\n",
       "      <td>2011-10-16 13:23:00</td>\n",
       "      <td>False</td>\n",
       "    </tr>\n",
       "    <tr>\n",
       "      <th>22785</th>\n",
       "      <td>1603</td>\n",
       "      <td>844</td>\n",
       "      <td>2268</td>\n",
       "      <td>24</td>\n",
       "      <td>42</td>\n",
       "      <td>1008</td>\n",
       "      <td>0</td>\n",
       "      <td>2010-12-16 13:44:00</td>\n",
       "      <td>False</td>\n",
       "    </tr>\n",
       "  </tbody>\n",
       "</table>\n",
       "</div>"
      ],
      "text/plain": [
       "        order_id  customer_id  product_id  quantity  price_unit  price_total  \\\n",
       "646414     42689         4622         639         1         295          295   \n",
       "593006     38874         5298        1021         2         749         1498   \n",
       "57292       4115          807        1335        12         165         1980   \n",
       "295509     19593         1211         123        18         254         4572   \n",
       "22785       1603          844        2268        24          42         1008   \n",
       "\n",
       "        country_id          order_date  is_canceled  \n",
       "646414           0 2010-08-17 13:35:00        False  \n",
       "593006           0 2010-06-17 16:20:00        False  \n",
       "57292            0 2011-02-14 15:35:00        False  \n",
       "295509           0 2011-10-16 13:23:00        False  \n",
       "22785            0 2010-12-16 13:44:00        False  "
      ]
     },
     "execution_count": 2,
     "metadata": {},
     "output_type": "execute_result"
    }
   ],
   "source": [
    "df = pd.read_hdf(\"../input/data.h5\")\n",
    "\n",
    "print(df.shape)\n",
    "df.sample(5)"
   ]
  },
  {
   "cell_type": "markdown",
   "id": "present-circle",
   "metadata": {},
   "source": [
    "## Przygotowujemy dane\n",
    "\n",
    "\n",
    "To jest kod z poprzedniej lekcji. Jedynie poukładamy kod w funkcji, aby łatwiej było nam eksperymentować później."
   ]
  },
  {
   "cell_type": "code",
   "execution_count": 3,
   "id": "computational-happiness",
   "metadata": {},
   "outputs": [],
   "source": [
    "df_customers = (\n",
    "    df[ [\"price_total\", \"customer_id\"] ]\n",
    "    .groupby(\"customer_id\")\n",
    "    .agg(\"sum\")\n",
    "    .reset_index()\n",
    "    .sort_values(by=\"price_total\", ascending=False)\n",
    "    .rename(columns={\"price_total\": \"customer_price_total\"})\n",
    ")\n",
    "\n",
    "\n",
    "df_customers[\"cumsum\"] = df_customers[\"customer_price_total\"].cumsum()\n",
    "value_80prc = int(df[\"price_total\"].sum() * 0.8)\n",
    "df_customers[\"most_revenue_customer\"] = df_customers[\"cumsum\"] < value_80prc\n",
    "\n",
    "\n",
    "top_customers = set(df_customers[ df_customers[\"most_revenue_customer\"] ][\"customer_id\"].unique())\n",
    "\n",
    "del df_customers\n",
    "gc.collect()\n",
    "\n",
    "def feature_engineering(df):\n",
    "    df_customers = (\n",
    "        df\n",
    "        .groupby(\"customer_id\", as_index=False)\n",
    "        .agg(\n",
    "            count_orders=(\"order_id\", lambda x: len(set(x))),\n",
    "            count_unq_products=(\"product_id\", lambda x: len(set(x))),\n",
    "            sum_quantity=(\"quantity\", np.sum),\n",
    "            sum_price_unit=(\"price_unit\", np.sum),\n",
    "            sum_price_total=(\"price_total\", np.sum),\n",
    "            count_unq_countries=(\"country_id\", lambda x: len(set(x))),\n",
    "            prob_canceled=(\"is_canceled\", np.mean)\n",
    "        )\n",
    "    )\n",
    "    \n",
    "    \n",
    "    \n",
    "    return df_customers\n",
    "\n",
    "\n",
    "def get_feats(df_customers, black_list=[\"most_revenue_customer\"]):\n",
    "    feats = list(df_customers.select_dtypes([np.number, bool]).columns)\n",
    "    return [x for x in feats if x not in black_list]\n",
    "\n",
    "def get_X_y(df_customers, top_customers, feats):\n",
    "    df_customers[\"most_revenue_customer\"] = df_customers[\"customer_id\"].map(lambda x: x in top_customers)\n",
    "    \n",
    "    X = df_customers[feats].values\n",
    "    y = df_customers[\"most_revenue_customer\"].values\n",
    "    \n",
    "    return X, y\n",
    "\n",
    "\n",
    "def train_and_get_scores(model, X, y, scoring=\"accuracy\", cv=5):\n",
    "\n",
    "    scores = cross_val_score(model, X, y, scoring=scoring, cv=cv)\n",
    "    return np.mean(scores), np.std(scores)"
   ]
  },
  {
   "cell_type": "markdown",
   "id": "current-contest",
   "metadata": {},
   "source": [
    "## Model 1\n",
    "\n",
    "☝️ Dokładnie to, co zrobiliśmy ostatnio."
   ]
  },
  {
   "cell_type": "code",
   "execution_count": 4,
   "id": "talented-skiing",
   "metadata": {},
   "outputs": [
    {
     "data": {
      "text/plain": [
       "(0.9996598639455783, 0.0004165798882284457)"
      ]
     },
     "execution_count": 4,
     "metadata": {},
     "output_type": "execute_result"
    }
   ],
   "source": [
    "df_customers = feature_engineering(df)\n",
    "feats = get_feats(df_customers)\n",
    "X, y = get_X_y(df_customers, top_customers, feats)\n",
    "model = DecisionTreeClassifier(max_depth=5)\n",
    "\n",
    "train_and_get_scores(model, X, y)"
   ]
  },
  {
   "cell_type": "markdown",
   "id": "transparent-oklahoma",
   "metadata": {},
   "source": [
    "Mamy wynik 99.9%.\n",
    "\n",
    "Można się cieszyć, ale... tak naprawdę opowiem Ci o jednym mechanizmie, który regularnie stosuję. Nazywam go wahadło.\n",
    "\n",
    "Idea polega na tym, aby najpierw być dużym optymistą i bardzo upraszczać rzeczywistość na początku. Następnie, jak już mamy dobry wynik, to wchodzimy w \"zupełnie inne buty\". Wchodzimy w rolę aktywnego \"krytyka\", który próbuje zrobić wszystko, aby udowodnić, że to, co zrobiliśmy nie ma sensu. Powtarzamy tak w kółko. Robimy kilka iteracji :)  \n",
    "\n",
    "Najważniejsze jest to, że dzięki przełączaniu się pomiędzy rolami, można bardzo szybko biec od przodu, ale z drugiej strony mieć poczucie, że to nadal ma sens!\n",
    "\n",
    "## 🧠 Włączmy myślenie krytycznie\n",
    "\n",
    "Na ten moment wykonaliśmy pierwszy krok, czyli optymistyczny i dostaliśmy wynik 99%. Bardzo dobrze, ale... Problem polega na tym, że `price_unit_total`jest zbyt mocną cechą. Czyli ta cecha wprost mówi, czy klient należy do segmentu `top_customers` czy nie. Dlatego teraz musimy co najmniej tę cechę wyłączyć i sprawdzić, jak zachowa się model.\n",
    "\n",
    "\n",
    "Wystarczy dodać `sum_price_total` do listy, którą będziemy ignorować. \n",
    "\n",
    "Zobacz 👀.\n",
    "\n",
    "\n",
    "## Model 2"
   ]
  },
  {
   "cell_type": "code",
   "execution_count": 5,
   "id": "weekly-action",
   "metadata": {},
   "outputs": [
    {
     "data": {
      "text/plain": [
       "(0.7725821392386741, 0.2654553956998111)"
      ]
     },
     "execution_count": 5,
     "metadata": {},
     "output_type": "execute_result"
    }
   ],
   "source": [
    "df_customers = feature_engineering(df)\n",
    "feats = get_feats(df_customers, black_list=[\"most_revenue_customer\", \"sum_price_total\"])\n",
    "X, y = get_X_y(df_customers, top_customers, feats)\n",
    "model = DecisionTreeClassifier(max_depth=5)\n",
    "\n",
    "train_and_get_scores(model, X, y)"
   ]
  },
  {
   "cell_type": "markdown",
   "id": "alternate-morgan",
   "metadata": {},
   "source": [
    "Jak widzisz, jakość modelu nam spadła do 77%. Z jednej strony smutna sprawa 😂, ale z drugiej strony używamy modelu ML, aby znajdował mniej oczywiste zależności. Bo te oczywiste człowiek sam łatwo znajdzie sam 🤦‍♂️.\n",
    "\n",
    "\n",
    "### Myślenie optymistyczne\n",
    "To teraz wróćmy znów do bycia optymistą. Pamiętasz na czym polega zasada wahadła? Wahamy się tam i z powrotem ;) \n",
    "\n",
    "\n",
    "Można zmienić model na bardziej zaawansowany i to powinno poprawić wynik. Użyjmy `xgboost`. Ta nazwa może Ci nic nie mówić i to jest ok na tym etapie 👌.\n",
    "\n",
    "## Model 3\n",
    "\n",
    "Zwróć uwagę, że zmieniła się ta linijka: `model = xgb.XGBClassifier(max_depth=5, n_estimators=50, learning_rate=0.3)`."
   ]
  },
  {
   "cell_type": "code",
   "execution_count": 6,
   "id": "scenic-photographer",
   "metadata": {},
   "outputs": [
    {
     "name": "stderr",
     "output_type": "stream",
     "text": [
      "/opt/conda/lib/python3.8/site-packages/xgboost/sklearn.py:888: UserWarning: The use of label encoder in XGBClassifier is deprecated and will be removed in a future release. To remove this warning, do the following: 1) Pass option use_label_encoder=False when constructing XGBClassifier object; and 2) Encode your labels (y) as integers starting with 0, i.e. 0, 1, 2, ..., [num_class - 1].\n",
      "  warnings.warn(label_encoder_deprecation_msg, UserWarning)\n",
      "/opt/conda/lib/python3.8/site-packages/xgboost/sklearn.py:888: UserWarning: The use of label encoder in XGBClassifier is deprecated and will be removed in a future release. To remove this warning, do the following: 1) Pass option use_label_encoder=False when constructing XGBClassifier object; and 2) Encode your labels (y) as integers starting with 0, i.e. 0, 1, 2, ..., [num_class - 1].\n",
      "  warnings.warn(label_encoder_deprecation_msg, UserWarning)\n"
     ]
    },
    {
     "name": "stdout",
     "output_type": "stream",
     "text": [
      "[22:27:54] WARNING: ../src/learner.cc:1061: Starting in XGBoost 1.3.0, the default evaluation metric used with the objective 'binary:logistic' was changed from 'error' to 'logloss'. Explicitly set eval_metric if you'd like to restore the old behavior.\n",
      "[22:27:55] WARNING: ../src/learner.cc:1061: Starting in XGBoost 1.3.0, the default evaluation metric used with the objective 'binary:logistic' was changed from 'error' to 'logloss'. Explicitly set eval_metric if you'd like to restore the old behavior.\n"
     ]
    },
    {
     "name": "stderr",
     "output_type": "stream",
     "text": [
      "/opt/conda/lib/python3.8/site-packages/xgboost/sklearn.py:888: UserWarning: The use of label encoder in XGBClassifier is deprecated and will be removed in a future release. To remove this warning, do the following: 1) Pass option use_label_encoder=False when constructing XGBClassifier object; and 2) Encode your labels (y) as integers starting with 0, i.e. 0, 1, 2, ..., [num_class - 1].\n",
      "  warnings.warn(label_encoder_deprecation_msg, UserWarning)\n",
      "/opt/conda/lib/python3.8/site-packages/xgboost/sklearn.py:888: UserWarning: The use of label encoder in XGBClassifier is deprecated and will be removed in a future release. To remove this warning, do the following: 1) Pass option use_label_encoder=False when constructing XGBClassifier object; and 2) Encode your labels (y) as integers starting with 0, i.e. 0, 1, 2, ..., [num_class - 1].\n",
      "  warnings.warn(label_encoder_deprecation_msg, UserWarning)\n"
     ]
    },
    {
     "name": "stdout",
     "output_type": "stream",
     "text": [
      "[22:27:55] WARNING: ../src/learner.cc:1061: Starting in XGBoost 1.3.0, the default evaluation metric used with the objective 'binary:logistic' was changed from 'error' to 'logloss'. Explicitly set eval_metric if you'd like to restore the old behavior.\n",
      "[22:27:55] WARNING: ../src/learner.cc:1061: Starting in XGBoost 1.3.0, the default evaluation metric used with the objective 'binary:logistic' was changed from 'error' to 'logloss'. Explicitly set eval_metric if you'd like to restore the old behavior.\n",
      "[22:27:55] WARNING: ../src/learner.cc:1061: Starting in XGBoost 1.3.0, the default evaluation metric used with the objective 'binary:logistic' was changed from 'error' to 'logloss'. Explicitly set eval_metric if you'd like to restore the old behavior.\n"
     ]
    },
    {
     "name": "stderr",
     "output_type": "stream",
     "text": [
      "/opt/conda/lib/python3.8/site-packages/xgboost/sklearn.py:888: UserWarning: The use of label encoder in XGBClassifier is deprecated and will be removed in a future release. To remove this warning, do the following: 1) Pass option use_label_encoder=False when constructing XGBClassifier object; and 2) Encode your labels (y) as integers starting with 0, i.e. 0, 1, 2, ..., [num_class - 1].\n",
      "  warnings.warn(label_encoder_deprecation_msg, UserWarning)\n"
     ]
    },
    {
     "data": {
      "text/plain": [
       "(0.8106769431176726, 0.08696513375768444)"
      ]
     },
     "execution_count": 6,
     "metadata": {},
     "output_type": "execute_result"
    }
   ],
   "source": [
    "df_customers = feature_engineering(df)\n",
    "feats = get_feats(df_customers, black_list=[\"most_revenue_customer\", \"sum_price_total\"])\n",
    "X, y = get_X_y(df_customers, top_customers, feats)\n",
    "model = xgb.XGBClassifier(max_depth=5, n_estimators=50, learning_rate=0.3)\n",
    "\n",
    "train_and_get_scores(model, X, y)"
   ]
  },
  {
   "cell_type": "markdown",
   "id": "sustainable-pride",
   "metadata": {},
   "source": [
    "## Mamy wynik 81%.\n",
    "\n",
    "Spróbujmy zrobić pierwszą interpretację modelu i zobaczyć, co wg nieg0 jest ważne."
   ]
  },
  {
   "cell_type": "code",
   "execution_count": 8,
   "id": "traditional-modem",
   "metadata": {},
   "outputs": [
    {
     "name": "stderr",
     "output_type": "stream",
     "text": [
      "/opt/conda/lib/python3.8/site-packages/xgboost/sklearn.py:888: UserWarning: The use of label encoder in XGBClassifier is deprecated and will be removed in a future release. To remove this warning, do the following: 1) Pass option use_label_encoder=False when constructing XGBClassifier object; and 2) Encode your labels (y) as integers starting with 0, i.e. 0, 1, 2, ..., [num_class - 1].\n",
      "  warnings.warn(label_encoder_deprecation_msg, UserWarning)\n"
     ]
    },
    {
     "name": "stdout",
     "output_type": "stream",
     "text": [
      "[22:28:38] WARNING: ../src/learner.cc:1061: Starting in XGBoost 1.3.0, the default evaluation metric used with the objective 'binary:logistic' was changed from 'error' to 'logloss'. Explicitly set eval_metric if you'd like to restore the old behavior.\n"
     ]
    },
    {
     "data": {
      "text/plain": [
       "XGBClassifier(base_score=0.5, booster='gbtree', colsample_bylevel=1,\n",
       "              colsample_bynode=1, colsample_bytree=1, gamma=0, gpu_id=-1,\n",
       "              importance_type='gain', interaction_constraints='',\n",
       "              learning_rate=0.3, max_delta_step=0, max_depth=5,\n",
       "              min_child_weight=1, missing=nan, monotone_constraints='()',\n",
       "              n_estimators=50, n_jobs=4, num_parallel_tree=1, random_state=0,\n",
       "              reg_alpha=0, reg_lambda=1, scale_pos_weight=1, subsample=1,\n",
       "              tree_method='exact', validate_parameters=1, verbosity=None)"
      ]
     },
     "execution_count": 8,
     "metadata": {},
     "output_type": "execute_result"
    }
   ],
   "source": [
    "model.fit(X, y)"
   ]
  },
  {
   "cell_type": "code",
   "execution_count": 9,
   "id": "welcome-logan",
   "metadata": {},
   "outputs": [
    {
     "data": {
      "text/html": [
       "\n",
       "    <style>\n",
       "    table.eli5-weights tr:hover {\n",
       "        filter: brightness(85%);\n",
       "    }\n",
       "</style>\n",
       "\n",
       "\n",
       "\n",
       "    \n",
       "\n",
       "    \n",
       "\n",
       "    \n",
       "\n",
       "    \n",
       "\n",
       "    \n",
       "\n",
       "    \n",
       "\n",
       "\n",
       "    \n",
       "\n",
       "    \n",
       "\n",
       "    \n",
       "\n",
       "    \n",
       "\n",
       "    \n",
       "\n",
       "    \n",
       "\n",
       "\n",
       "    \n",
       "\n",
       "    \n",
       "\n",
       "    \n",
       "\n",
       "    \n",
       "\n",
       "    \n",
       "        <table class=\"eli5-weights eli5-feature-importances\" style=\"border-collapse: collapse; border: none; margin-top: 0em; table-layout: auto;\">\n",
       "    <thead>\n",
       "    <tr style=\"border: none;\">\n",
       "        <th style=\"padding: 0 1em 0 0.5em; text-align: right; border: none;\">Weight</th>\n",
       "        <th style=\"padding: 0 0.5em 0 0.5em; text-align: left; border: none;\">Feature</th>\n",
       "    </tr>\n",
       "    </thead>\n",
       "    <tbody>\n",
       "    \n",
       "        <tr style=\"background-color: hsl(120, 100.00%, 80.00%); border: none;\">\n",
       "            <td style=\"padding: 0 1em 0 0.5em; text-align: right; border: none;\">\n",
       "                0.6835\n",
       "                \n",
       "            </td>\n",
       "            <td style=\"padding: 0 0.5em 0 0.5em; text-align: left; border: none;\">\n",
       "                sum_quantity\n",
       "            </td>\n",
       "        </tr>\n",
       "    \n",
       "        <tr style=\"background-color: hsl(120, 100.00%, 93.71%); border: none;\">\n",
       "            <td style=\"padding: 0 1em 0 0.5em; text-align: right; border: none;\">\n",
       "                0.1309\n",
       "                \n",
       "            </td>\n",
       "            <td style=\"padding: 0 0.5em 0 0.5em; text-align: left; border: none;\">\n",
       "                count_orders\n",
       "            </td>\n",
       "        </tr>\n",
       "    \n",
       "        <tr style=\"background-color: hsl(120, 100.00%, 95.64%); border: none;\">\n",
       "            <td style=\"padding: 0 1em 0 0.5em; text-align: right; border: none;\">\n",
       "                0.0776\n",
       "                \n",
       "            </td>\n",
       "            <td style=\"padding: 0 0.5em 0 0.5em; text-align: left; border: none;\">\n",
       "                sum_price_unit\n",
       "            </td>\n",
       "        </tr>\n",
       "    \n",
       "        <tr style=\"background-color: hsl(120, 100.00%, 96.59%); border: none;\">\n",
       "            <td style=\"padding: 0 1em 0 0.5em; text-align: right; border: none;\">\n",
       "                0.0545\n",
       "                \n",
       "            </td>\n",
       "            <td style=\"padding: 0 0.5em 0 0.5em; text-align: left; border: none;\">\n",
       "                count_unq_products\n",
       "            </td>\n",
       "        </tr>\n",
       "    \n",
       "        <tr style=\"background-color: hsl(120, 100.00%, 97.77%); border: none;\">\n",
       "            <td style=\"padding: 0 1em 0 0.5em; text-align: right; border: none;\">\n",
       "                0.0298\n",
       "                \n",
       "            </td>\n",
       "            <td style=\"padding: 0 0.5em 0 0.5em; text-align: left; border: none;\">\n",
       "                prob_canceled\n",
       "            </td>\n",
       "        </tr>\n",
       "    \n",
       "        <tr style=\"background-color: hsl(120, 100.00%, 98.11%); border: none;\">\n",
       "            <td style=\"padding: 0 1em 0 0.5em; text-align: right; border: none;\">\n",
       "                0.0235\n",
       "                \n",
       "            </td>\n",
       "            <td style=\"padding: 0 0.5em 0 0.5em; text-align: left; border: none;\">\n",
       "                customer_id\n",
       "            </td>\n",
       "        </tr>\n",
       "    \n",
       "        <tr style=\"background-color: hsl(0, 100.00%, 100.00%); border: none;\">\n",
       "            <td style=\"padding: 0 1em 0 0.5em; text-align: right; border: none;\">\n",
       "                0\n",
       "                \n",
       "            </td>\n",
       "            <td style=\"padding: 0 0.5em 0 0.5em; text-align: left; border: none;\">\n",
       "                count_unq_countries\n",
       "            </td>\n",
       "        </tr>\n",
       "    \n",
       "    \n",
       "    </tbody>\n",
       "</table>\n",
       "    \n",
       "\n",
       "    \n",
       "\n",
       "\n",
       "    \n",
       "\n",
       "    \n",
       "\n",
       "    \n",
       "\n",
       "    \n",
       "\n",
       "    \n",
       "\n",
       "    \n",
       "\n",
       "\n",
       "\n"
      ],
      "text/plain": [
       "<IPython.core.display.HTML object>"
      ]
     },
     "execution_count": 9,
     "metadata": {},
     "output_type": "execute_result"
    }
   ],
   "source": [
    "eli5.show_weights(model, feature_names=feats)"
   ]
  },
  {
   "cell_type": "markdown",
   "id": "suited-sweden",
   "metadata": {},
   "source": [
    "### Wstępnie wnioski:\n",
    "#### TOP3 \n",
    "- `sum_quantity` brzmi jako najważniejsza cecha*\n",
    "- `count_orders`\n",
    "- `sum_price_unit`\n",
    "\n",
    "Wyglada na to, że cecha `count_unq_countries` jest mało przydatna.\n",
    "\n",
    "\n",
    "☝️ Trzeba uważać na to, co jest \"ważne\", bo doświadczenie pokazuje, że to może być dość zmienne i w tej zmienności trzeba nauczyć się poruszać.\n",
    "\n",
    "\n",
    "## Następny krok\n",
    "\n",
    "Możemy teraz trochę pofilozofować nad tymi kilkoma cechami, ale to jest mało istotne. Te cechy same w sobie są dość oczywiste. Nie ma poczucia \"dużej\" wartości dodanej. \n",
    "\n",
    "Ciekawostką okazało się, że `sum_quantity` jest istotna. Tylko tutaj też nie ma dużego zaskoczenia.\n",
    "\n",
    "\n",
    "Wygenerujmy zatem więcej cech, niech model znajdzie na co warto zwrócić naszą uwagę :) \n",
    "\n",
    "\n",
    "## Produkty\n",
    "\n",
    "\n",
    "Możemy dodać dla każdego produktu osobną kolumnę i jako wartość w tej kolumnie dodać, ile produktów już było kupionych (czyli suma). W ten sposób chcemy znaleźć, które produkty są \"najciekawsze\", warte tego, aby zwrócić na nie uwagę.\n",
    "\n",
    "☝️ Oczywiście możemy sprawdzić każdy produkt manualnie, ale mamy ich ponad 3.8k, może to nam trochę zająć czasu. Użyjmy lepiej do tego ML, będzie szybciej, sprawniej i efektywniej.\n",
    "\n",
    "Tylko najpierw trzeba przygotować dane. Zmieńmy naszą funkcję `feature_engineering`. "
   ]
  },
  {
   "cell_type": "code",
   "execution_count": 10,
   "id": "nearby-chance",
   "metadata": {},
   "outputs": [
    {
     "data": {
      "text/html": [
       "<div>\n",
       "<style scoped>\n",
       "    .dataframe tbody tr th:only-of-type {\n",
       "        vertical-align: middle;\n",
       "    }\n",
       "\n",
       "    .dataframe tbody tr th {\n",
       "        vertical-align: top;\n",
       "    }\n",
       "\n",
       "    .dataframe thead th {\n",
       "        text-align: right;\n",
       "    }\n",
       "</style>\n",
       "<table border=\"1\" class=\"dataframe\">\n",
       "  <thead>\n",
       "    <tr style=\"text-align: right;\">\n",
       "      <th></th>\n",
       "      <th>customer_id</th>\n",
       "      <th>count_orders</th>\n",
       "      <th>count_unq_products</th>\n",
       "      <th>count_by_products</th>\n",
       "      <th>sum_quantity</th>\n",
       "      <th>sum_price_unit</th>\n",
       "      <th>sum_price_total</th>\n",
       "      <th>count_unq_countries</th>\n",
       "      <th>prob_canceled</th>\n",
       "    </tr>\n",
       "  </thead>\n",
       "  <tbody>\n",
       "    <tr>\n",
       "      <th>0</th>\n",
       "      <td>0</td>\n",
       "      <td>159</td>\n",
       "      <td>93</td>\n",
       "      <td>{0: 89, 1: 73, 2: 69, 3: 68, 4: 32, 5: 36, 6: ...</td>\n",
       "      <td>22976</td>\n",
       "      <td>895827</td>\n",
       "      <td>5746671</td>\n",
       "      <td>1</td>\n",
       "      <td>0.010966</td>\n",
       "    </tr>\n",
       "    <tr>\n",
       "      <th>1</th>\n",
       "      <td>1</td>\n",
       "      <td>40</td>\n",
       "      <td>184</td>\n",
       "      <td>{8: 8, 9: 4, 10: 4, 11: 4, 12: 3, 13: 15, 14: ...</td>\n",
       "      <td>3514</td>\n",
       "      <td>205962</td>\n",
       "      <td>910113</td>\n",
       "      <td>1</td>\n",
       "      <td>0.097727</td>\n",
       "    </tr>\n",
       "    <tr>\n",
       "      <th>2</th>\n",
       "      <td>2</td>\n",
       "      <td>30</td>\n",
       "      <td>139</td>\n",
       "      <td>{25: 9, 26: 7, 27: 7, 28: 3, 29: 4, 30: 10, 31...</td>\n",
       "      <td>8971</td>\n",
       "      <td>95500</td>\n",
       "      <td>1337464</td>\n",
       "      <td>1</td>\n",
       "      <td>0.009050</td>\n",
       "    </tr>\n",
       "    <tr>\n",
       "      <th>3</th>\n",
       "      <td>3</td>\n",
       "      <td>9</td>\n",
       "      <td>40</td>\n",
       "      <td>{44: 7, 1781: 1, 1179: 1, 112: 1, 508: 3, 581:...</td>\n",
       "      <td>1108</td>\n",
       "      <td>18626</td>\n",
       "      <td>226381</td>\n",
       "      <td>1</td>\n",
       "      <td>0.000000</td>\n",
       "    </tr>\n",
       "    <tr>\n",
       "      <th>4</th>\n",
       "      <td>4</td>\n",
       "      <td>14</td>\n",
       "      <td>11</td>\n",
       "      <td>{54: 14, 1496: 2, 2288: 1, 2315: 1, 3432: 1, 4...</td>\n",
       "      <td>390</td>\n",
       "      <td>20028</td>\n",
       "      <td>346978</td>\n",
       "      <td>1</td>\n",
       "      <td>0.307692</td>\n",
       "    </tr>\n",
       "  </tbody>\n",
       "</table>\n",
       "</div>"
      ],
      "text/plain": [
       "   customer_id  count_orders  count_unq_products  \\\n",
       "0            0           159                  93   \n",
       "1            1            40                 184   \n",
       "2            2            30                 139   \n",
       "3            3             9                  40   \n",
       "4            4            14                  11   \n",
       "\n",
       "                                   count_by_products  sum_quantity  \\\n",
       "0  {0: 89, 1: 73, 2: 69, 3: 68, 4: 32, 5: 36, 6: ...         22976   \n",
       "1  {8: 8, 9: 4, 10: 4, 11: 4, 12: 3, 13: 15, 14: ...          3514   \n",
       "2  {25: 9, 26: 7, 27: 7, 28: 3, 29: 4, 30: 10, 31...          8971   \n",
       "3  {44: 7, 1781: 1, 1179: 1, 112: 1, 508: 3, 581:...          1108   \n",
       "4  {54: 14, 1496: 2, 2288: 1, 2315: 1, 3432: 1, 4...           390   \n",
       "\n",
       "   sum_price_unit  sum_price_total  count_unq_countries  prob_canceled  \n",
       "0          895827          5746671                    1       0.010966  \n",
       "1          205962           910113                    1       0.097727  \n",
       "2           95500          1337464                    1       0.009050  \n",
       "3           18626           226381                    1       0.000000  \n",
       "4           20028           346978                    1       0.307692  "
      ]
     },
     "execution_count": 10,
     "metadata": {},
     "output_type": "execute_result"
    }
   ],
   "source": [
    "def feature_engineering(df):\n",
    "    \n",
    "    def counter(vals):\n",
    "        cntr = Counter()\n",
    "        cntr.update(vals)\n",
    "        return cntr\n",
    "    \n",
    "    df_customers = (\n",
    "        df\n",
    "        .groupby(\"customer_id\", as_index=False)\n",
    "        .agg(\n",
    "            count_orders=(\"order_id\", lambda x: len(set(x))),\n",
    "            count_unq_products=(\"product_id\", lambda x: len(set(x))),\n",
    "            count_by_products=(\"product_id\", lambda x:  counter(x) ),\n",
    "            sum_quantity=(\"quantity\", np.sum),\n",
    "            sum_price_unit=(\"price_unit\", np.sum),\n",
    "            sum_price_total=(\"price_total\", np.sum),\n",
    "            count_unq_countries=(\"country_id\", lambda x: len(set(x))),\n",
    "            prob_canceled=(\"is_canceled\", np.mean)\n",
    "        )\n",
    "    )\n",
    "    \n",
    "    \n",
    "    \n",
    "    return df_customers\n",
    "\n",
    "\n",
    "df_customers  = feature_engineering(df)\n",
    "df_customers.head()"
   ]
  },
  {
   "cell_type": "markdown",
   "id": "fatty-complement",
   "metadata": {},
   "source": [
    "Jak widzisz pojawiła się nowa kolumna `count_by_products`. W środku jest słownik. Zobaczmy dokładniej 👀."
   ]
  },
  {
   "cell_type": "code",
   "execution_count": 11,
   "id": "becoming-antigua",
   "metadata": {},
   "outputs": [
    {
     "data": {
      "text/plain": [
       "0       {0: 89, 1: 73, 2: 69, 3: 68, 4: 32, 5: 36, 6: ...\n",
       "1       {8: 8, 9: 4, 10: 4, 11: 4, 12: 3, 13: 15, 14: ...\n",
       "2       {25: 9, 26: 7, 27: 7, 28: 3, 29: 4, 30: 10, 31...\n",
       "3       {44: 7, 1781: 1, 1179: 1, 112: 1, 508: 3, 581:...\n",
       "4       {54: 14, 1496: 2, 2288: 1, 2315: 1, 3432: 1, 4...\n",
       "                              ...                        \n",
       "5874    {1709: 1, 409: 1, 170: 1, 662: 1, 253: 1, 255:...\n",
       "5875    {2368: 1, 300: 1, 1385: 1, 2412: 1, 2059: 1, 1...\n",
       "5876    {1827: 1, 869: 1, 2157: 1, 335: 1, 1931: 1, 21...\n",
       "5877    {1038: 1, 701: 2, 495: 1, 353: 1, 189: 1, 484:...\n",
       "5878                                             {694: 2}\n",
       "Name: count_by_products, Length: 5879, dtype: object"
      ]
     },
     "execution_count": 11,
     "metadata": {},
     "output_type": "execute_result"
    }
   ],
   "source": [
    "df_customers[\"count_by_products\"]"
   ]
  },
  {
   "cell_type": "markdown",
   "id": "brazilian-threshold",
   "metadata": {},
   "source": [
    "W praktyce to oznacza, że  `customer_id=0` kupił np. `product_id=0` - 89 razy, `product_id=1` - 73 razy, `product_id=3` - 68 razy itd.\n",
    "\n",
    "\n",
    "Fajnie byłoby nam wypakować słownik do osobnych kolumn, na szczęście da się to zrobić bardzo łatwo. ⌛️ Tylko poczekaj chwilkę na wykonanie."
   ]
  },
  {
   "cell_type": "code",
   "execution_count": 12,
   "id": "gross-powder",
   "metadata": {},
   "outputs": [
    {
     "data": {
      "text/html": [
       "<div>\n",
       "<style scoped>\n",
       "    .dataframe tbody tr th:only-of-type {\n",
       "        vertical-align: middle;\n",
       "    }\n",
       "\n",
       "    .dataframe tbody tr th {\n",
       "        vertical-align: top;\n",
       "    }\n",
       "\n",
       "    .dataframe thead th {\n",
       "        text-align: right;\n",
       "    }\n",
       "</style>\n",
       "<table border=\"1\" class=\"dataframe\">\n",
       "  <thead>\n",
       "    <tr style=\"text-align: right;\">\n",
       "      <th></th>\n",
       "      <th>product_0</th>\n",
       "      <th>product_1</th>\n",
       "      <th>product_2</th>\n",
       "      <th>product_3</th>\n",
       "      <th>product_4</th>\n",
       "      <th>product_5</th>\n",
       "      <th>product_6</th>\n",
       "      <th>product_7</th>\n",
       "      <th>product_8</th>\n",
       "      <th>product_9</th>\n",
       "      <th>...</th>\n",
       "      <th>product_4216</th>\n",
       "      <th>product_4219</th>\n",
       "      <th>product_4220</th>\n",
       "      <th>product_4222</th>\n",
       "      <th>product_4226</th>\n",
       "      <th>product_4231</th>\n",
       "      <th>product_4236</th>\n",
       "      <th>product_4237</th>\n",
       "      <th>product_4238</th>\n",
       "      <th>product_4239</th>\n",
       "    </tr>\n",
       "  </thead>\n",
       "  <tbody>\n",
       "    <tr>\n",
       "      <th>0</th>\n",
       "      <td>89.0</td>\n",
       "      <td>73.0</td>\n",
       "      <td>69.0</td>\n",
       "      <td>68.0</td>\n",
       "      <td>32.0</td>\n",
       "      <td>36.0</td>\n",
       "      <td>34.0</td>\n",
       "      <td>35.0</td>\n",
       "      <td>18.0</td>\n",
       "      <td>-1.0</td>\n",
       "      <td>...</td>\n",
       "      <td>-1.0</td>\n",
       "      <td>-1.0</td>\n",
       "      <td>-1.0</td>\n",
       "      <td>-1.0</td>\n",
       "      <td>-1.0</td>\n",
       "      <td>-1.0</td>\n",
       "      <td>-1.0</td>\n",
       "      <td>-1.0</td>\n",
       "      <td>-1.0</td>\n",
       "      <td>-1.0</td>\n",
       "    </tr>\n",
       "    <tr>\n",
       "      <th>1</th>\n",
       "      <td>6.0</td>\n",
       "      <td>-1.0</td>\n",
       "      <td>1.0</td>\n",
       "      <td>-1.0</td>\n",
       "      <td>-1.0</td>\n",
       "      <td>-1.0</td>\n",
       "      <td>-1.0</td>\n",
       "      <td>-1.0</td>\n",
       "      <td>8.0</td>\n",
       "      <td>4.0</td>\n",
       "      <td>...</td>\n",
       "      <td>-1.0</td>\n",
       "      <td>-1.0</td>\n",
       "      <td>-1.0</td>\n",
       "      <td>-1.0</td>\n",
       "      <td>-1.0</td>\n",
       "      <td>-1.0</td>\n",
       "      <td>-1.0</td>\n",
       "      <td>-1.0</td>\n",
       "      <td>-1.0</td>\n",
       "      <td>-1.0</td>\n",
       "    </tr>\n",
       "    <tr>\n",
       "      <th>2</th>\n",
       "      <td>-1.0</td>\n",
       "      <td>-1.0</td>\n",
       "      <td>-1.0</td>\n",
       "      <td>-1.0</td>\n",
       "      <td>-1.0</td>\n",
       "      <td>-1.0</td>\n",
       "      <td>-1.0</td>\n",
       "      <td>-1.0</td>\n",
       "      <td>-1.0</td>\n",
       "      <td>-1.0</td>\n",
       "      <td>...</td>\n",
       "      <td>-1.0</td>\n",
       "      <td>-1.0</td>\n",
       "      <td>-1.0</td>\n",
       "      <td>-1.0</td>\n",
       "      <td>-1.0</td>\n",
       "      <td>-1.0</td>\n",
       "      <td>-1.0</td>\n",
       "      <td>-1.0</td>\n",
       "      <td>-1.0</td>\n",
       "      <td>-1.0</td>\n",
       "    </tr>\n",
       "    <tr>\n",
       "      <th>3</th>\n",
       "      <td>-1.0</td>\n",
       "      <td>-1.0</td>\n",
       "      <td>-1.0</td>\n",
       "      <td>-1.0</td>\n",
       "      <td>-1.0</td>\n",
       "      <td>-1.0</td>\n",
       "      <td>-1.0</td>\n",
       "      <td>-1.0</td>\n",
       "      <td>-1.0</td>\n",
       "      <td>-1.0</td>\n",
       "      <td>...</td>\n",
       "      <td>-1.0</td>\n",
       "      <td>-1.0</td>\n",
       "      <td>-1.0</td>\n",
       "      <td>-1.0</td>\n",
       "      <td>-1.0</td>\n",
       "      <td>-1.0</td>\n",
       "      <td>-1.0</td>\n",
       "      <td>-1.0</td>\n",
       "      <td>-1.0</td>\n",
       "      <td>-1.0</td>\n",
       "    </tr>\n",
       "    <tr>\n",
       "      <th>4</th>\n",
       "      <td>-1.0</td>\n",
       "      <td>-1.0</td>\n",
       "      <td>-1.0</td>\n",
       "      <td>-1.0</td>\n",
       "      <td>-1.0</td>\n",
       "      <td>-1.0</td>\n",
       "      <td>-1.0</td>\n",
       "      <td>-1.0</td>\n",
       "      <td>-1.0</td>\n",
       "      <td>-1.0</td>\n",
       "      <td>...</td>\n",
       "      <td>-1.0</td>\n",
       "      <td>-1.0</td>\n",
       "      <td>-1.0</td>\n",
       "      <td>-1.0</td>\n",
       "      <td>-1.0</td>\n",
       "      <td>-1.0</td>\n",
       "      <td>-1.0</td>\n",
       "      <td>-1.0</td>\n",
       "      <td>-1.0</td>\n",
       "      <td>-1.0</td>\n",
       "    </tr>\n",
       "  </tbody>\n",
       "</table>\n",
       "<p>5 rows × 3878 columns</p>\n",
       "</div>"
      ],
      "text/plain": [
       "   product_0  product_1  product_2  product_3  product_4  product_5  \\\n",
       "0       89.0       73.0       69.0       68.0       32.0       36.0   \n",
       "1        6.0       -1.0        1.0       -1.0       -1.0       -1.0   \n",
       "2       -1.0       -1.0       -1.0       -1.0       -1.0       -1.0   \n",
       "3       -1.0       -1.0       -1.0       -1.0       -1.0       -1.0   \n",
       "4       -1.0       -1.0       -1.0       -1.0       -1.0       -1.0   \n",
       "\n",
       "   product_6  product_7  product_8  product_9  ...  product_4216  \\\n",
       "0       34.0       35.0       18.0       -1.0  ...          -1.0   \n",
       "1       -1.0       -1.0        8.0        4.0  ...          -1.0   \n",
       "2       -1.0       -1.0       -1.0       -1.0  ...          -1.0   \n",
       "3       -1.0       -1.0       -1.0       -1.0  ...          -1.0   \n",
       "4       -1.0       -1.0       -1.0       -1.0  ...          -1.0   \n",
       "\n",
       "   product_4219  product_4220  product_4222  product_4226  product_4231  \\\n",
       "0          -1.0          -1.0          -1.0          -1.0          -1.0   \n",
       "1          -1.0          -1.0          -1.0          -1.0          -1.0   \n",
       "2          -1.0          -1.0          -1.0          -1.0          -1.0   \n",
       "3          -1.0          -1.0          -1.0          -1.0          -1.0   \n",
       "4          -1.0          -1.0          -1.0          -1.0          -1.0   \n",
       "\n",
       "   product_4236  product_4237  product_4238  product_4239  \n",
       "0          -1.0          -1.0          -1.0          -1.0  \n",
       "1          -1.0          -1.0          -1.0          -1.0  \n",
       "2          -1.0          -1.0          -1.0          -1.0  \n",
       "3          -1.0          -1.0          -1.0          -1.0  \n",
       "4          -1.0          -1.0          -1.0          -1.0  \n",
       "\n",
       "[5 rows x 3878 columns]"
      ]
     },
     "execution_count": 12,
     "metadata": {},
     "output_type": "execute_result"
    }
   ],
   "source": [
    "df_count_products = df_customers[\"count_by_products\"].apply(pd.Series).fillna(-1)\n",
    "df_count_products.columns = [\"product_{}\".format(x) for x in df_count_products.columns]\n",
    "\n",
    "df_count_products.head(5)"
   ]
  },
  {
   "cell_type": "markdown",
   "id": "collaborative-lobby",
   "metadata": {},
   "source": [
    "Mamy teraz osobny `dataframe` z 3878 kolumnami. Każda kolumna to jest `product_id`. Wartość -1 oznacza brak informacji, czyli  klient nie kupował tego produktu, natomiast każda inna liczba (większa niż 0) oznacza, ile razy ten produkt był kupiony (to jest trochę optymistyczne zdanie, ale na razie możemy przyjąć, że jest ok).\n",
    "\n",
    "☝️ Zwróć uwagę, że pojawiła się linijka zmiany nazwy produktu. `df_count_products.columns = [\"product_{}\".format(x) for x in df_count_products.columns]` W tym miejscu robimy bardzo prostą rzeczy, zamiast samego ID, np. 0 czy 2, dodajemy przedrostek, aby kolumna nazywała się  `product_0` czy `product_2`. To nam przyda się za chwilę.\n",
    "\n",
    "\n",
    "### Następny krok\n",
    "\n",
    "Połączmy `df_count_products` z `df_customers` i wytrenujmy model. Aby to połączyć użyjemy konstrukcji `concat()`. Wynikiem będzie to, że dokleimy to \"z boku\". Innymi słowy liczba wierszy zostanie taka sama, liczba kolumn powiększy się o 3878 😱. Model pewnie ucieszy się, będzie miał, co optymalizować.\n",
    "\n",
    "Łączymy!"
   ]
  },
  {
   "cell_type": "code",
   "execution_count": 13,
   "id": "played-stock",
   "metadata": {},
   "outputs": [
    {
     "data": {
      "text/plain": [
       "(5879, 3887)"
      ]
     },
     "execution_count": 13,
     "metadata": {},
     "output_type": "execute_result"
    }
   ],
   "source": [
    "df_customers = pd.concat([df_customers, df_count_products], axis=1)\n",
    "df_customers.shape"
   ]
  },
  {
   "cell_type": "markdown",
   "id": "exciting-radio",
   "metadata": {},
   "source": [
    "Tak jak spodziewaliśmy się, liczba wierszy została taka sama - 5879 (bo liczba wierszy to są klienci, nowych klientów nie przybyło). Liczba kolumn wzrosła nam do 3887. Możesz o tym pomyśleć, że teraz każdy klient posiada 3887 cech, czyli charakterystyk.\n",
    "\n",
    "## 🤖 Czas na trenowanie modelu\n",
    "\n",
    "Najpierw sprawdźmy, czy jakość modelu się nam poprawiła.\n",
    "\n",
    "Uwaga! Model potrzebuje czasu na trenowanie, więc możesz spokojnie przez chwilę odpocząć. Model wykonuje \"prostą\" i powtarzalną pracę, natomiast po Twojej stronie jest myślenie koncepcyjnie. Przyzwyczajaj się, to jest przyszłość, która już do nas przyszła :)"
   ]
  },
  {
   "cell_type": "code",
   "execution_count": 14,
   "id": "sharp-facial",
   "metadata": {},
   "outputs": [
    {
     "name": "stderr",
     "output_type": "stream",
     "text": [
      "/opt/conda/lib/python3.8/site-packages/xgboost/sklearn.py:888: UserWarning: The use of label encoder in XGBClassifier is deprecated and will be removed in a future release. To remove this warning, do the following: 1) Pass option use_label_encoder=False when constructing XGBClassifier object; and 2) Encode your labels (y) as integers starting with 0, i.e. 0, 1, 2, ..., [num_class - 1].\n",
      "  warnings.warn(label_encoder_deprecation_msg, UserWarning)\n"
     ]
    },
    {
     "name": "stdout",
     "output_type": "stream",
     "text": [
      "[22:38:11] WARNING: ../src/learner.cc:1061: Starting in XGBoost 1.3.0, the default evaluation metric used with the objective 'binary:logistic' was changed from 'error' to 'logloss'. Explicitly set eval_metric if you'd like to restore the old behavior.\n"
     ]
    },
    {
     "name": "stderr",
     "output_type": "stream",
     "text": [
      "/opt/conda/lib/python3.8/site-packages/xgboost/sklearn.py:888: UserWarning: The use of label encoder in XGBClassifier is deprecated and will be removed in a future release. To remove this warning, do the following: 1) Pass option use_label_encoder=False when constructing XGBClassifier object; and 2) Encode your labels (y) as integers starting with 0, i.e. 0, 1, 2, ..., [num_class - 1].\n",
      "  warnings.warn(label_encoder_deprecation_msg, UserWarning)\n"
     ]
    },
    {
     "name": "stdout",
     "output_type": "stream",
     "text": [
      "[22:38:25] WARNING: ../src/learner.cc:1061: Starting in XGBoost 1.3.0, the default evaluation metric used with the objective 'binary:logistic' was changed from 'error' to 'logloss'. Explicitly set eval_metric if you'd like to restore the old behavior.\n"
     ]
    },
    {
     "name": "stderr",
     "output_type": "stream",
     "text": [
      "/opt/conda/lib/python3.8/site-packages/xgboost/sklearn.py:888: UserWarning: The use of label encoder in XGBClassifier is deprecated and will be removed in a future release. To remove this warning, do the following: 1) Pass option use_label_encoder=False when constructing XGBClassifier object; and 2) Encode your labels (y) as integers starting with 0, i.e. 0, 1, 2, ..., [num_class - 1].\n",
      "  warnings.warn(label_encoder_deprecation_msg, UserWarning)\n"
     ]
    },
    {
     "name": "stdout",
     "output_type": "stream",
     "text": [
      "[22:38:40] WARNING: ../src/learner.cc:1061: Starting in XGBoost 1.3.0, the default evaluation metric used with the objective 'binary:logistic' was changed from 'error' to 'logloss'. Explicitly set eval_metric if you'd like to restore the old behavior.\n"
     ]
    },
    {
     "name": "stderr",
     "output_type": "stream",
     "text": [
      "/opt/conda/lib/python3.8/site-packages/xgboost/sklearn.py:888: UserWarning: The use of label encoder in XGBClassifier is deprecated and will be removed in a future release. To remove this warning, do the following: 1) Pass option use_label_encoder=False when constructing XGBClassifier object; and 2) Encode your labels (y) as integers starting with 0, i.e. 0, 1, 2, ..., [num_class - 1].\n",
      "  warnings.warn(label_encoder_deprecation_msg, UserWarning)\n"
     ]
    },
    {
     "name": "stdout",
     "output_type": "stream",
     "text": [
      "[22:38:54] WARNING: ../src/learner.cc:1061: Starting in XGBoost 1.3.0, the default evaluation metric used with the objective 'binary:logistic' was changed from 'error' to 'logloss'. Explicitly set eval_metric if you'd like to restore the old behavior.\n"
     ]
    },
    {
     "name": "stderr",
     "output_type": "stream",
     "text": [
      "/opt/conda/lib/python3.8/site-packages/xgboost/sklearn.py:888: UserWarning: The use of label encoder in XGBClassifier is deprecated and will be removed in a future release. To remove this warning, do the following: 1) Pass option use_label_encoder=False when constructing XGBClassifier object; and 2) Encode your labels (y) as integers starting with 0, i.e. 0, 1, 2, ..., [num_class - 1].\n",
      "  warnings.warn(label_encoder_deprecation_msg, UserWarning)\n"
     ]
    },
    {
     "name": "stdout",
     "output_type": "stream",
     "text": [
      "[22:39:08] WARNING: ../src/learner.cc:1061: Starting in XGBoost 1.3.0, the default evaluation metric used with the objective 'binary:logistic' was changed from 'error' to 'logloss'. Explicitly set eval_metric if you'd like to restore the old behavior.\n"
     ]
    },
    {
     "data": {
      "text/plain": [
       "(0.8474117817339701, 0.08924212099402075)"
      ]
     },
     "execution_count": 14,
     "metadata": {},
     "output_type": "execute_result"
    }
   ],
   "source": [
    "#df_customers = feature_engineering(df)\n",
    "feats = get_feats(df_customers, black_list=[\"most_revenue_customer\", \"sum_price_total\"])\n",
    "X, y = get_X_y(df_customers, top_customers, feats)\n",
    "model = xgb.XGBClassifier(max_depth=5, n_estimators=50, learning_rate=0.3)\n",
    "\n",
    "train_and_get_scores(model, X, y)"
   ]
  },
  {
   "cell_type": "markdown",
   "id": "documented-destiny",
   "metadata": {},
   "source": [
    "Jakość modelu poprawiła się, mamy już ~85%. \n",
    "\n",
    "Przypomnę, że same drzewa decyzyjne dały nam 77%. XGBoost na podstawowych cechach dał nam 81% i teraz mamy 85%.\n",
    "\n",
    "Może się wydawać, że to słabo, bo mieliśmy 99,9%. Chcę taki wynik znowu! \n",
    "\n",
    "Być może to jest przykra wiadomość, ale często model \"stopuje\" się właśnie w okolicy 60-70% i potem trzeba naprawdę postarać się, aby wycisnąć więcej. No chyba, że użyjemy oczywistych zależności, ale to jest mało ciekawe. Lepiej jednak pozwolić modelowi znaleźć coś, co może zaskoczyć.\n",
    "\n",
    "Wytrenujmy model teraz niezależnie, aby można było zajrzeć i sprawdzić, co dla niego jest ważne."
   ]
  },
  {
   "cell_type": "code",
   "execution_count": 15,
   "id": "living-primary",
   "metadata": {},
   "outputs": [
    {
     "name": "stderr",
     "output_type": "stream",
     "text": [
      "/opt/conda/lib/python3.8/site-packages/xgboost/sklearn.py:888: UserWarning: The use of label encoder in XGBClassifier is deprecated and will be removed in a future release. To remove this warning, do the following: 1) Pass option use_label_encoder=False when constructing XGBClassifier object; and 2) Encode your labels (y) as integers starting with 0, i.e. 0, 1, 2, ..., [num_class - 1].\n",
      "  warnings.warn(label_encoder_deprecation_msg, UserWarning)\n"
     ]
    },
    {
     "name": "stdout",
     "output_type": "stream",
     "text": [
      "[22:40:54] WARNING: ../src/learner.cc:1061: Starting in XGBoost 1.3.0, the default evaluation metric used with the objective 'binary:logistic' was changed from 'error' to 'logloss'. Explicitly set eval_metric if you'd like to restore the old behavior.\n"
     ]
    },
    {
     "data": {
      "text/plain": [
       "XGBClassifier(base_score=0.5, booster='gbtree', colsample_bylevel=1,\n",
       "              colsample_bynode=1, colsample_bytree=1, gamma=0, gpu_id=-1,\n",
       "              importance_type='gain', interaction_constraints='',\n",
       "              learning_rate=0.3, max_delta_step=0, max_depth=5,\n",
       "              min_child_weight=1, missing=nan, monotone_constraints='()',\n",
       "              n_estimators=50, n_jobs=4, num_parallel_tree=1, random_state=0,\n",
       "              reg_alpha=0, reg_lambda=1, scale_pos_weight=1, subsample=1,\n",
       "              tree_method='exact', validate_parameters=1, verbosity=None)"
      ]
     },
     "execution_count": 15,
     "metadata": {},
     "output_type": "execute_result"
    }
   ],
   "source": [
    "model.fit(X, y)"
   ]
  },
  {
   "cell_type": "code",
   "execution_count": 17,
   "id": "foreign-blair",
   "metadata": {},
   "outputs": [
    {
     "data": {
      "text/html": [
       "\n",
       "    <style>\n",
       "    table.eli5-weights tr:hover {\n",
       "        filter: brightness(85%);\n",
       "    }\n",
       "</style>\n",
       "\n",
       "\n",
       "\n",
       "    \n",
       "\n",
       "    \n",
       "\n",
       "    \n",
       "\n",
       "    \n",
       "\n",
       "    \n",
       "\n",
       "    \n",
       "\n",
       "\n",
       "    \n",
       "\n",
       "    \n",
       "\n",
       "    \n",
       "\n",
       "    \n",
       "\n",
       "    \n",
       "\n",
       "    \n",
       "\n",
       "\n",
       "    \n",
       "\n",
       "    \n",
       "\n",
       "    \n",
       "\n",
       "    \n",
       "\n",
       "    \n",
       "        <table class=\"eli5-weights eli5-feature-importances\" style=\"border-collapse: collapse; border: none; margin-top: 0em; table-layout: auto;\">\n",
       "    <thead>\n",
       "    <tr style=\"border: none;\">\n",
       "        <th style=\"padding: 0 1em 0 0.5em; text-align: right; border: none;\">Weight</th>\n",
       "        <th style=\"padding: 0 0.5em 0 0.5em; text-align: left; border: none;\">Feature</th>\n",
       "    </tr>\n",
       "    </thead>\n",
       "    <tbody>\n",
       "    \n",
       "        <tr style=\"background-color: hsl(120, 100.00%, 80.00%); border: none;\">\n",
       "            <td style=\"padding: 0 1em 0 0.5em; text-align: right; border: none;\">\n",
       "                0.0992\n",
       "                \n",
       "            </td>\n",
       "            <td style=\"padding: 0 0.5em 0 0.5em; text-align: left; border: none;\">\n",
       "                sum_quantity\n",
       "            </td>\n",
       "        </tr>\n",
       "    \n",
       "        <tr style=\"background-color: hsl(120, 100.00%, 93.97%); border: none;\">\n",
       "            <td style=\"padding: 0 1em 0 0.5em; text-align: right; border: none;\">\n",
       "                0.0179\n",
       "                \n",
       "            </td>\n",
       "            <td style=\"padding: 0 0.5em 0 0.5em; text-align: left; border: none;\">\n",
       "                product_545\n",
       "            </td>\n",
       "        </tr>\n",
       "    \n",
       "        <tr style=\"background-color: hsl(120, 100.00%, 94.24%); border: none;\">\n",
       "            <td style=\"padding: 0 1em 0 0.5em; text-align: right; border: none;\">\n",
       "                0.0168\n",
       "                \n",
       "            </td>\n",
       "            <td style=\"padding: 0 0.5em 0 0.5em; text-align: left; border: none;\">\n",
       "                product_99\n",
       "            </td>\n",
       "        </tr>\n",
       "    \n",
       "        <tr style=\"background-color: hsl(120, 100.00%, 94.80%); border: none;\">\n",
       "            <td style=\"padding: 0 1em 0 0.5em; text-align: right; border: none;\">\n",
       "                0.0145\n",
       "                \n",
       "            </td>\n",
       "            <td style=\"padding: 0 0.5em 0 0.5em; text-align: left; border: none;\">\n",
       "                count_orders\n",
       "            </td>\n",
       "        </tr>\n",
       "    \n",
       "        <tr style=\"background-color: hsl(120, 100.00%, 95.13%); border: none;\">\n",
       "            <td style=\"padding: 0 1em 0 0.5em; text-align: right; border: none;\">\n",
       "                0.0132\n",
       "                \n",
       "            </td>\n",
       "            <td style=\"padding: 0 0.5em 0 0.5em; text-align: left; border: none;\">\n",
       "                product_1777\n",
       "            </td>\n",
       "        </tr>\n",
       "    \n",
       "        <tr style=\"background-color: hsl(120, 100.00%, 95.16%); border: none;\">\n",
       "            <td style=\"padding: 0 1em 0 0.5em; text-align: right; border: none;\">\n",
       "                0.0131\n",
       "                \n",
       "            </td>\n",
       "            <td style=\"padding: 0 0.5em 0 0.5em; text-align: left; border: none;\">\n",
       "                product_847\n",
       "            </td>\n",
       "        </tr>\n",
       "    \n",
       "        <tr style=\"background-color: hsl(120, 100.00%, 95.34%); border: none;\">\n",
       "            <td style=\"padding: 0 1em 0 0.5em; text-align: right; border: none;\">\n",
       "                0.0124\n",
       "                \n",
       "            </td>\n",
       "            <td style=\"padding: 0 0.5em 0 0.5em; text-align: left; border: none;\">\n",
       "                product_1280\n",
       "            </td>\n",
       "        </tr>\n",
       "    \n",
       "        <tr style=\"background-color: hsl(120, 100.00%, 95.44%); border: none;\">\n",
       "            <td style=\"padding: 0 1em 0 0.5em; text-align: right; border: none;\">\n",
       "                0.0120\n",
       "                \n",
       "            </td>\n",
       "            <td style=\"padding: 0 0.5em 0 0.5em; text-align: left; border: none;\">\n",
       "                product_209\n",
       "            </td>\n",
       "        </tr>\n",
       "    \n",
       "        <tr style=\"background-color: hsl(120, 100.00%, 95.91%); border: none;\">\n",
       "            <td style=\"padding: 0 1em 0 0.5em; text-align: right; border: none;\">\n",
       "                0.0103\n",
       "                \n",
       "            </td>\n",
       "            <td style=\"padding: 0 0.5em 0 0.5em; text-align: left; border: none;\">\n",
       "                product_1604\n",
       "            </td>\n",
       "        </tr>\n",
       "    \n",
       "        <tr style=\"background-color: hsl(120, 100.00%, 95.95%); border: none;\">\n",
       "            <td style=\"padding: 0 1em 0 0.5em; text-align: right; border: none;\">\n",
       "                0.0101\n",
       "                \n",
       "            </td>\n",
       "            <td style=\"padding: 0 0.5em 0 0.5em; text-align: left; border: none;\">\n",
       "                product_2908\n",
       "            </td>\n",
       "        </tr>\n",
       "    \n",
       "        <tr style=\"background-color: hsl(120, 100.00%, 96.00%); border: none;\">\n",
       "            <td style=\"padding: 0 1em 0 0.5em; text-align: right; border: none;\">\n",
       "                0.0100\n",
       "                \n",
       "            </td>\n",
       "            <td style=\"padding: 0 0.5em 0 0.5em; text-align: left; border: none;\">\n",
       "                product_218\n",
       "            </td>\n",
       "        </tr>\n",
       "    \n",
       "        <tr style=\"background-color: hsl(120, 100.00%, 96.03%); border: none;\">\n",
       "            <td style=\"padding: 0 1em 0 0.5em; text-align: right; border: none;\">\n",
       "                0.0099\n",
       "                \n",
       "            </td>\n",
       "            <td style=\"padding: 0 0.5em 0 0.5em; text-align: left; border: none;\">\n",
       "                product_17\n",
       "            </td>\n",
       "        </tr>\n",
       "    \n",
       "        <tr style=\"background-color: hsl(120, 100.00%, 96.03%); border: none;\">\n",
       "            <td style=\"padding: 0 1em 0 0.5em; text-align: right; border: none;\">\n",
       "                0.0098\n",
       "                \n",
       "            </td>\n",
       "            <td style=\"padding: 0 0.5em 0 0.5em; text-align: left; border: none;\">\n",
       "                product_949\n",
       "            </td>\n",
       "        </tr>\n",
       "    \n",
       "        <tr style=\"background-color: hsl(120, 100.00%, 96.04%); border: none;\">\n",
       "            <td style=\"padding: 0 1em 0 0.5em; text-align: right; border: none;\">\n",
       "                0.0098\n",
       "                \n",
       "            </td>\n",
       "            <td style=\"padding: 0 0.5em 0 0.5em; text-align: left; border: none;\">\n",
       "                sum_price_unit\n",
       "            </td>\n",
       "        </tr>\n",
       "    \n",
       "        <tr style=\"background-color: hsl(120, 100.00%, 96.09%); border: none;\">\n",
       "            <td style=\"padding: 0 1em 0 0.5em; text-align: right; border: none;\">\n",
       "                0.0097\n",
       "                \n",
       "            </td>\n",
       "            <td style=\"padding: 0 0.5em 0 0.5em; text-align: left; border: none;\">\n",
       "                product_285\n",
       "            </td>\n",
       "        </tr>\n",
       "    \n",
       "        <tr style=\"background-color: hsl(120, 100.00%, 96.20%); border: none;\">\n",
       "            <td style=\"padding: 0 1em 0 0.5em; text-align: right; border: none;\">\n",
       "                0.0092\n",
       "                \n",
       "            </td>\n",
       "            <td style=\"padding: 0 0.5em 0 0.5em; text-align: left; border: none;\">\n",
       "                product_643\n",
       "            </td>\n",
       "        </tr>\n",
       "    \n",
       "        <tr style=\"background-color: hsl(120, 100.00%, 96.25%); border: none;\">\n",
       "            <td style=\"padding: 0 1em 0 0.5em; text-align: right; border: none;\">\n",
       "                0.0091\n",
       "                \n",
       "            </td>\n",
       "            <td style=\"padding: 0 0.5em 0 0.5em; text-align: left; border: none;\">\n",
       "                product_1721\n",
       "            </td>\n",
       "        </tr>\n",
       "    \n",
       "        <tr style=\"background-color: hsl(120, 100.00%, 96.32%); border: none;\">\n",
       "            <td style=\"padding: 0 1em 0 0.5em; text-align: right; border: none;\">\n",
       "                0.0088\n",
       "                \n",
       "            </td>\n",
       "            <td style=\"padding: 0 0.5em 0 0.5em; text-align: left; border: none;\">\n",
       "                product_918\n",
       "            </td>\n",
       "        </tr>\n",
       "    \n",
       "        <tr style=\"background-color: hsl(120, 100.00%, 96.32%); border: none;\">\n",
       "            <td style=\"padding: 0 1em 0 0.5em; text-align: right; border: none;\">\n",
       "                0.0088\n",
       "                \n",
       "            </td>\n",
       "            <td style=\"padding: 0 0.5em 0 0.5em; text-align: left; border: none;\">\n",
       "                product_2075\n",
       "            </td>\n",
       "        </tr>\n",
       "    \n",
       "        <tr style=\"background-color: hsl(120, 100.00%, 96.40%); border: none;\">\n",
       "            <td style=\"padding: 0 1em 0 0.5em; text-align: right; border: none;\">\n",
       "                0.0086\n",
       "                \n",
       "            </td>\n",
       "            <td style=\"padding: 0 0.5em 0 0.5em; text-align: left; border: none;\">\n",
       "                product_7\n",
       "            </td>\n",
       "        </tr>\n",
       "    \n",
       "        <tr style=\"background-color: hsl(120, 100.00%, 96.44%); border: none;\">\n",
       "            <td style=\"padding: 0 1em 0 0.5em; text-align: right; border: none;\">\n",
       "                0.0084\n",
       "                \n",
       "            </td>\n",
       "            <td style=\"padding: 0 0.5em 0 0.5em; text-align: left; border: none;\">\n",
       "                product_2309\n",
       "            </td>\n",
       "        </tr>\n",
       "    \n",
       "        <tr style=\"background-color: hsl(120, 100.00%, 96.45%); border: none;\">\n",
       "            <td style=\"padding: 0 1em 0 0.5em; text-align: right; border: none;\">\n",
       "                0.0084\n",
       "                \n",
       "            </td>\n",
       "            <td style=\"padding: 0 0.5em 0 0.5em; text-align: left; border: none;\">\n",
       "                product_472\n",
       "            </td>\n",
       "        </tr>\n",
       "    \n",
       "        <tr style=\"background-color: hsl(120, 100.00%, 96.48%); border: none;\">\n",
       "            <td style=\"padding: 0 1em 0 0.5em; text-align: right; border: none;\">\n",
       "                0.0083\n",
       "                \n",
       "            </td>\n",
       "            <td style=\"padding: 0 0.5em 0 0.5em; text-align: left; border: none;\">\n",
       "                product_51\n",
       "            </td>\n",
       "        </tr>\n",
       "    \n",
       "        <tr style=\"background-color: hsl(120, 100.00%, 96.54%); border: none;\">\n",
       "            <td style=\"padding: 0 1em 0 0.5em; text-align: right; border: none;\">\n",
       "                0.0081\n",
       "                \n",
       "            </td>\n",
       "            <td style=\"padding: 0 0.5em 0 0.5em; text-align: left; border: none;\">\n",
       "                product_477\n",
       "            </td>\n",
       "        </tr>\n",
       "    \n",
       "        <tr style=\"background-color: hsl(120, 100.00%, 96.64%); border: none;\">\n",
       "            <td style=\"padding: 0 1em 0 0.5em; text-align: right; border: none;\">\n",
       "                0.0078\n",
       "                \n",
       "            </td>\n",
       "            <td style=\"padding: 0 0.5em 0 0.5em; text-align: left; border: none;\">\n",
       "                product_940\n",
       "            </td>\n",
       "        </tr>\n",
       "    \n",
       "        <tr style=\"background-color: hsl(120, 100.00%, 96.66%); border: none;\">\n",
       "            <td style=\"padding: 0 1em 0 0.5em; text-align: right; border: none;\">\n",
       "                0.0077\n",
       "                \n",
       "            </td>\n",
       "            <td style=\"padding: 0 0.5em 0 0.5em; text-align: left; border: none;\">\n",
       "                product_365\n",
       "            </td>\n",
       "        </tr>\n",
       "    \n",
       "        <tr style=\"background-color: hsl(120, 100.00%, 96.84%); border: none;\">\n",
       "            <td style=\"padding: 0 1em 0 0.5em; text-align: right; border: none;\">\n",
       "                0.0071\n",
       "                \n",
       "            </td>\n",
       "            <td style=\"padding: 0 0.5em 0 0.5em; text-align: left; border: none;\">\n",
       "                product_3133\n",
       "            </td>\n",
       "        </tr>\n",
       "    \n",
       "        <tr style=\"background-color: hsl(120, 100.00%, 96.85%); border: none;\">\n",
       "            <td style=\"padding: 0 1em 0 0.5em; text-align: right; border: none;\">\n",
       "                0.0071\n",
       "                \n",
       "            </td>\n",
       "            <td style=\"padding: 0 0.5em 0 0.5em; text-align: left; border: none;\">\n",
       "                product_727\n",
       "            </td>\n",
       "        </tr>\n",
       "    \n",
       "        <tr style=\"background-color: hsl(120, 100.00%, 96.86%); border: none;\">\n",
       "            <td style=\"padding: 0 1em 0 0.5em; text-align: right; border: none;\">\n",
       "                0.0070\n",
       "                \n",
       "            </td>\n",
       "            <td style=\"padding: 0 0.5em 0 0.5em; text-align: left; border: none;\">\n",
       "                product_1387\n",
       "            </td>\n",
       "        </tr>\n",
       "    \n",
       "        <tr style=\"background-color: hsl(120, 100.00%, 96.86%); border: none;\">\n",
       "            <td style=\"padding: 0 1em 0 0.5em; text-align: right; border: none;\">\n",
       "                0.0070\n",
       "                \n",
       "            </td>\n",
       "            <td style=\"padding: 0 0.5em 0 0.5em; text-align: left; border: none;\">\n",
       "                product_9\n",
       "            </td>\n",
       "        </tr>\n",
       "    \n",
       "        <tr style=\"background-color: hsl(120, 100.00%, 96.95%); border: none;\">\n",
       "            <td style=\"padding: 0 1em 0 0.5em; text-align: right; border: none;\">\n",
       "                0.0068\n",
       "                \n",
       "            </td>\n",
       "            <td style=\"padding: 0 0.5em 0 0.5em; text-align: left; border: none;\">\n",
       "                product_159\n",
       "            </td>\n",
       "        </tr>\n",
       "    \n",
       "        <tr style=\"background-color: hsl(120, 100.00%, 97.00%); border: none;\">\n",
       "            <td style=\"padding: 0 1em 0 0.5em; text-align: right; border: none;\">\n",
       "                0.0066\n",
       "                \n",
       "            </td>\n",
       "            <td style=\"padding: 0 0.5em 0 0.5em; text-align: left; border: none;\">\n",
       "                product_269\n",
       "            </td>\n",
       "        </tr>\n",
       "    \n",
       "        <tr style=\"background-color: hsl(120, 100.00%, 97.06%); border: none;\">\n",
       "            <td style=\"padding: 0 1em 0 0.5em; text-align: right; border: none;\">\n",
       "                0.0064\n",
       "                \n",
       "            </td>\n",
       "            <td style=\"padding: 0 0.5em 0 0.5em; text-align: left; border: none;\">\n",
       "                product_1646\n",
       "            </td>\n",
       "        </tr>\n",
       "    \n",
       "        <tr style=\"background-color: hsl(120, 100.00%, 97.08%); border: none;\">\n",
       "            <td style=\"padding: 0 1em 0 0.5em; text-align: right; border: none;\">\n",
       "                0.0064\n",
       "                \n",
       "            </td>\n",
       "            <td style=\"padding: 0 0.5em 0 0.5em; text-align: left; border: none;\">\n",
       "                product_670\n",
       "            </td>\n",
       "        </tr>\n",
       "    \n",
       "        <tr style=\"background-color: hsl(120, 100.00%, 97.09%); border: none;\">\n",
       "            <td style=\"padding: 0 1em 0 0.5em; text-align: right; border: none;\">\n",
       "                0.0063\n",
       "                \n",
       "            </td>\n",
       "            <td style=\"padding: 0 0.5em 0 0.5em; text-align: left; border: none;\">\n",
       "                product_475\n",
       "            </td>\n",
       "        </tr>\n",
       "    \n",
       "        <tr style=\"background-color: hsl(120, 100.00%, 97.09%); border: none;\">\n",
       "            <td style=\"padding: 0 1em 0 0.5em; text-align: right; border: none;\">\n",
       "                0.0063\n",
       "                \n",
       "            </td>\n",
       "            <td style=\"padding: 0 0.5em 0 0.5em; text-align: left; border: none;\">\n",
       "                product_846\n",
       "            </td>\n",
       "        </tr>\n",
       "    \n",
       "        <tr style=\"background-color: hsl(120, 100.00%, 97.12%); border: none;\">\n",
       "            <td style=\"padding: 0 1em 0 0.5em; text-align: right; border: none;\">\n",
       "                0.0062\n",
       "                \n",
       "            </td>\n",
       "            <td style=\"padding: 0 0.5em 0 0.5em; text-align: left; border: none;\">\n",
       "                product_349\n",
       "            </td>\n",
       "        </tr>\n",
       "    \n",
       "        <tr style=\"background-color: hsl(120, 100.00%, 97.13%); border: none;\">\n",
       "            <td style=\"padding: 0 1em 0 0.5em; text-align: right; border: none;\">\n",
       "                0.0062\n",
       "                \n",
       "            </td>\n",
       "            <td style=\"padding: 0 0.5em 0 0.5em; text-align: left; border: none;\">\n",
       "                product_711\n",
       "            </td>\n",
       "        </tr>\n",
       "    \n",
       "        <tr style=\"background-color: hsl(120, 100.00%, 97.14%); border: none;\">\n",
       "            <td style=\"padding: 0 1em 0 0.5em; text-align: right; border: none;\">\n",
       "                0.0062\n",
       "                \n",
       "            </td>\n",
       "            <td style=\"padding: 0 0.5em 0 0.5em; text-align: left; border: none;\">\n",
       "                product_1314\n",
       "            </td>\n",
       "        </tr>\n",
       "    \n",
       "        <tr style=\"background-color: hsl(120, 100.00%, 97.14%); border: none;\">\n",
       "            <td style=\"padding: 0 1em 0 0.5em; text-align: right; border: none;\">\n",
       "                0.0062\n",
       "                \n",
       "            </td>\n",
       "            <td style=\"padding: 0 0.5em 0 0.5em; text-align: left; border: none;\">\n",
       "                product_195\n",
       "            </td>\n",
       "        </tr>\n",
       "    \n",
       "        <tr style=\"background-color: hsl(120, 100.00%, 97.15%); border: none;\">\n",
       "            <td style=\"padding: 0 1em 0 0.5em; text-align: right; border: none;\">\n",
       "                0.0061\n",
       "                \n",
       "            </td>\n",
       "            <td style=\"padding: 0 0.5em 0 0.5em; text-align: left; border: none;\">\n",
       "                product_2109\n",
       "            </td>\n",
       "        </tr>\n",
       "    \n",
       "        <tr style=\"background-color: hsl(120, 100.00%, 97.16%); border: none;\">\n",
       "            <td style=\"padding: 0 1em 0 0.5em; text-align: right; border: none;\">\n",
       "                0.0061\n",
       "                \n",
       "            </td>\n",
       "            <td style=\"padding: 0 0.5em 0 0.5em; text-align: left; border: none;\">\n",
       "                product_89\n",
       "            </td>\n",
       "        </tr>\n",
       "    \n",
       "        <tr style=\"background-color: hsl(120, 100.00%, 97.18%); border: none;\">\n",
       "            <td style=\"padding: 0 1em 0 0.5em; text-align: right; border: none;\">\n",
       "                0.0060\n",
       "                \n",
       "            </td>\n",
       "            <td style=\"padding: 0 0.5em 0 0.5em; text-align: left; border: none;\">\n",
       "                product_1437\n",
       "            </td>\n",
       "        </tr>\n",
       "    \n",
       "        <tr style=\"background-color: hsl(120, 100.00%, 97.18%); border: none;\">\n",
       "            <td style=\"padding: 0 1em 0 0.5em; text-align: right; border: none;\">\n",
       "                0.0060\n",
       "                \n",
       "            </td>\n",
       "            <td style=\"padding: 0 0.5em 0 0.5em; text-align: left; border: none;\">\n",
       "                product_500\n",
       "            </td>\n",
       "        </tr>\n",
       "    \n",
       "        <tr style=\"background-color: hsl(120, 100.00%, 97.28%); border: none;\">\n",
       "            <td style=\"padding: 0 1em 0 0.5em; text-align: right; border: none;\">\n",
       "                0.0057\n",
       "                \n",
       "            </td>\n",
       "            <td style=\"padding: 0 0.5em 0 0.5em; text-align: left; border: none;\">\n",
       "                product_1484\n",
       "            </td>\n",
       "        </tr>\n",
       "    \n",
       "        <tr style=\"background-color: hsl(120, 100.00%, 97.29%); border: none;\">\n",
       "            <td style=\"padding: 0 1em 0 0.5em; text-align: right; border: none;\">\n",
       "                0.0057\n",
       "                \n",
       "            </td>\n",
       "            <td style=\"padding: 0 0.5em 0 0.5em; text-align: left; border: none;\">\n",
       "                product_1474\n",
       "            </td>\n",
       "        </tr>\n",
       "    \n",
       "        <tr style=\"background-color: hsl(120, 100.00%, 97.32%); border: none;\">\n",
       "            <td style=\"padding: 0 1em 0 0.5em; text-align: right; border: none;\">\n",
       "                0.0056\n",
       "                \n",
       "            </td>\n",
       "            <td style=\"padding: 0 0.5em 0 0.5em; text-align: left; border: none;\">\n",
       "                product_642\n",
       "            </td>\n",
       "        </tr>\n",
       "    \n",
       "        <tr style=\"background-color: hsl(120, 100.00%, 97.33%); border: none;\">\n",
       "            <td style=\"padding: 0 1em 0 0.5em; text-align: right; border: none;\">\n",
       "                0.0056\n",
       "                \n",
       "            </td>\n",
       "            <td style=\"padding: 0 0.5em 0 0.5em; text-align: left; border: none;\">\n",
       "                product_632\n",
       "            </td>\n",
       "        </tr>\n",
       "    \n",
       "        <tr style=\"background-color: hsl(120, 100.00%, 97.36%); border: none;\">\n",
       "            <td style=\"padding: 0 1em 0 0.5em; text-align: right; border: none;\">\n",
       "                0.0055\n",
       "                \n",
       "            </td>\n",
       "            <td style=\"padding: 0 0.5em 0 0.5em; text-align: left; border: none;\">\n",
       "                product_43\n",
       "            </td>\n",
       "        </tr>\n",
       "    \n",
       "        <tr style=\"background-color: hsl(120, 100.00%, 97.37%); border: none;\">\n",
       "            <td style=\"padding: 0 1em 0 0.5em; text-align: right; border: none;\">\n",
       "                0.0055\n",
       "                \n",
       "            </td>\n",
       "            <td style=\"padding: 0 0.5em 0 0.5em; text-align: left; border: none;\">\n",
       "                product_125\n",
       "            </td>\n",
       "        </tr>\n",
       "    \n",
       "    \n",
       "        \n",
       "            <tr style=\"background-color: hsl(120, 100.00%, 97.37%); border: none;\">\n",
       "                <td colspan=\"2\" style=\"padding: 0 0.5em 0 0.5em; text-align: center; border: none; white-space: nowrap;\">\n",
       "                    <i>&hellip; 3835 more &hellip;</i>\n",
       "                </td>\n",
       "            </tr>\n",
       "        \n",
       "    \n",
       "    </tbody>\n",
       "</table>\n",
       "    \n",
       "\n",
       "    \n",
       "\n",
       "\n",
       "    \n",
       "\n",
       "    \n",
       "\n",
       "    \n",
       "\n",
       "    \n",
       "\n",
       "    \n",
       "\n",
       "    \n",
       "\n",
       "\n",
       "\n"
      ],
      "text/plain": [
       "<IPython.core.display.HTML object>"
      ]
     },
     "execution_count": 17,
     "metadata": {},
     "output_type": "execute_result"
    }
   ],
   "source": [
    "eli5.show_weights(model, feature_names=feats, top=50)"
   ]
  },
  {
   "cell_type": "markdown",
   "id": "technical-novel",
   "metadata": {},
   "source": [
    "No teraz już przynajmniej mamy na co popatrzeć :). Widać, że ważność produktu `product_545` oraz `product_99` jest ponad `count_orders`. Oczywiście, tak jak mówiłem, tutaj trzeba ostrożnie wyciągać wnioski. Natomiast to, co jest jednoznaczne to to, że `product_id=545` zasłużył na to, aby zwrócić na niego uwagę 🥳. To sprawdźmy :)."
   ]
  },
  {
   "cell_type": "code",
   "execution_count": 18,
   "id": "original-cargo",
   "metadata": {},
   "outputs": [
    {
     "data": {
      "text/plain": [
       "168"
      ]
     },
     "execution_count": 18,
     "metadata": {},
     "output_type": "execute_result"
    }
   ],
   "source": [
    "customer_ids_by_product = set(df[ df[\"product_id\"] == 545 ][\"customer_id\"].unique())\n",
    "len(customer_ids_by_product )"
   ]
  },
  {
   "cell_type": "markdown",
   "id": "dimensional-income",
   "metadata": {},
   "source": [
    "Ten produkt kupiło nie tak wielu klientów, tylko 168. Sprawdźmy, ilu z nich należy do segmentu `most_revenue_customer`."
   ]
  },
  {
   "cell_type": "code",
   "execution_count": 19,
   "id": "tracked-value",
   "metadata": {},
   "outputs": [
    {
     "data": {
      "text/plain": [
       "0.4166666666666667"
      ]
     },
     "execution_count": 19,
     "metadata": {},
     "output_type": "execute_result"
    }
   ],
   "source": [
    "df_customers[ df_customers.customer_id.isin(customer_ids_by_product) ][\"most_revenue_customer\"].mean()"
   ]
  },
  {
   "cell_type": "markdown",
   "id": "meaning-southwest",
   "metadata": {},
   "source": [
    "No widzimy, że mamy 42% klientów, którzy kupili co najmniej `product_id=545` i należą do segmentu `most_revenue_customer`.\n",
    "\n",
    "Przypomnę, że normalnie mamy 22% klientów, którzy należą do segmentu `most_revenue_customer`."
   ]
  },
  {
   "cell_type": "code",
   "execution_count": 20,
   "id": "equipped-check",
   "metadata": {},
   "outputs": [
    {
     "data": {
      "text/plain": [
       "0.225208368770199"
      ]
     },
     "execution_count": 20,
     "metadata": {},
     "output_type": "execute_result"
    }
   ],
   "source": [
    "df_customers[\"most_revenue_customer\"].mean()"
   ]
  },
  {
   "cell_type": "markdown",
   "id": "demonstrated-result",
   "metadata": {},
   "source": [
    "Możemy na szybko postawić hipotezę (do zbadania) -  jeśli klient kupił `product_id=545` to prawdopodobieństwo, że będzie należał do segmentu `most_revenue_customer` prawie podwaja się (od 23% do 42%). Brzmi jako \"aha moment\". Tę hipotezę warto jeszcze zbadać dokładniej, ale jeżeli ona faktycznie działa, to oznacza, że warto sprawić, aby więcej ludzi kupowało właśnie `product_id=545`.\n",
    "\n",
    "#### Sprawdźmy, ile kosztuje ten produkt. Może to jakiś luksus ⚜️."
   ]
  },
  {
   "cell_type": "code",
   "execution_count": 21,
   "id": "electric-annual",
   "metadata": {},
   "outputs": [
    {
     "data": {
      "text/plain": [
       "125    126\n",
       "39     103\n",
       "42       5\n",
       "246      3\n",
       "106      1\n",
       "Name: price_unit, dtype: int64"
      ]
     },
     "execution_count": 21,
     "metadata": {},
     "output_type": "execute_result"
    }
   ],
   "source": [
    "df[ df.product_id == 545 ][\"price_unit\"].value_counts()"
   ]
  },
  {
   "cell_type": "markdown",
   "id": "minus-massage",
   "metadata": {},
   "source": [
    "Z ceną tego produktu bywa różnie, ale najczęściej cena jednostkowa, to jedynie 1,25 lub 3,9 😱. Taki ciekawy wniosek udało się znaleźć w tak łatwy sposób."
   ]
  },
  {
   "cell_type": "markdown",
   "id": "therapeutic-manor",
   "metadata": {},
   "source": [
    "## Zadanie 5.1\n",
    "\n",
    "\n",
    "Twoim zadaniem jest zrobić podobną analizę dla produktu.\n",
    "\n",
    "\n",
    "### 💡 Podpowiedzi: \n",
    "\n",
    "1. Przygotuj `df_products`\n",
    "2. Dodaj więcej cech, przed dodaliśmy `product_id`, ale możesz zrobić symetryczne lub wymyśl coś innego (może `order_id`) lub jeszcze coś innego, jest sporo pomysłów :) \n",
    "3. Wytrenuj model. \n",
    "4. Zobacz, co dla modelu było najbardziej istotne."
   ]
  },
  {
   "cell_type": "code",
   "execution_count": null,
   "id": "weighted-honolulu",
   "metadata": {},
   "outputs": [],
   "source": [
    "### YOUR CODE HERE"
   ]
  },
  {
   "cell_type": "markdown",
   "id": "least-florist",
   "metadata": {},
   "source": [
    "Jak **wykonasz** zadanie, należy zrobić:\n",
    "\n",
    "1. Zrzut ekranu na którym widać rozwiązania, wtedy dostaniesz bonus :)\n",
    "2. Wrzucić rozwiązanie na slacku do pokoju **[#dwthon_day5_done](https://bit.ly/3teY3l8)**\n",
    "3. Dostać bonus za dobrą robotę 💪 i jutro będzie kolejna porcja.\n",
    "\n",
    "*Uwaga! Jeśli masz problem z jakimś zadaniem, czegoś nie wiesz, to pamiętaj, że możesz zadawać pytania! Na tym polega nauka :) Pytania związane z 2 dniem DWthon zadawaj w kanale [#dwthon_day5](https://bit.ly/3qEBEMv)*."
   ]
  },
  {
   "cell_type": "markdown",
   "id": "meaning-start",
   "metadata": {},
   "source": [
    "## 🧠 Włączmy myślenie krytycznie\n",
    "\n",
    "\n",
    "Ta cała nasza analiza była oparta na `price_total`, czyli przychodach. Co ze zwrotami? Być może nastąpił czas nieco bardziej wejść do króliczej nory?\n",
    "\n",
    "Na co jeszcze warto zwrócić krytyczną uwagę?  Podpowiem, że jeszcze jest sporo rzeczy ;)"
   ]
  },
  {
   "cell_type": "markdown",
   "id": "documented-sight",
   "metadata": {},
   "source": [
    "## 😇 Włączmy myślenie kreatywne\n",
    "\n",
    "Pomyśl, jak możesz wykorzystać tę wiedzę, którą tutaj udało Ci się zdobyć?\n",
    "\n",
    "Najlepiej, aby padły przykłady z Twojego podwórka. Jeśli nie masz (ale pomyśl, bo to tylko może się wydawać, że nie ma) to pomyśl o swoim otoczeniu.\n",
    "\n",
    "Od razu powiem, że nie chodzi tylko o e-commerce. To może być dowolna branża. Reguła 80/20 jest uniwersalna. To samo dotyczy \"aha-momentów\"."
   ]
  },
  {
   "cell_type": "markdown",
   "id": "electronic-compression",
   "metadata": {},
   "source": [
    "## 🤝🗣️ Pomyśl o kooperacji i komunikacji\n",
    "\n",
    "#### ☝️ Podziel się swoimi przemyśleniami na slacku **[#dwthon_day5_ideas](https://bit.ly/3qFcb5R)**. Jeśli masz pomysł, ale nie masz kodu - poproś na slacku o pomoc, aby ktoś pomógł Ci napisać kod. Natomiast jeśli masz kod, to koniecznie podziel się. Dzięki temu ktoś inny będzie w stanie łatwo powtórzyć i podzielić się swoimi przemyśleniami. Dzięki temu każdy zyskuje :).\n"
   ]
  },
  {
   "cell_type": "code",
   "execution_count": 22,
   "id": "developed-arnold",
   "metadata": {},
   "outputs": [
    {
     "data": {
      "text/html": [
       "<iframe style=\"height:500px;width:100%\" src=\"https://www.youtube.com/embed/qC2MZcjGfcM\" frameborder=\"0\" allow=\"autoplay; encrypted-media\" allowfullscreen></iframe>\n"
      ],
      "text/plain": [
       "<IPython.core.display.HTML object>"
      ]
     },
     "metadata": {},
     "output_type": "display_data"
    }
   ],
   "source": [
    "%%html\n",
    "<iframe style=\"height:500px;width:100%\" src=\"https://www.youtube.com/embed/qC2MZcjGfcM\" frameborder=\"0\" allow=\"autoplay; encrypted-media\" allowfullscreen></iframe>"
   ]
  },
  {
   "cell_type": "markdown",
   "id": "joined-renewal",
   "metadata": {},
   "source": [
    "## Twój Feedback i delta rozwoju \n",
    "\n",
    "Daj mi znać koniecznie, co sprawiło Ci przyjemność, co trudność oraz czego udało się nauczyć w tej krótkiej [ankiecie](https://bit.ly/3rEnOLD). Pozwoli mi ona ulepszyć zadania, a Tobie lepiej trakować swój rozwój: win-win 😇"
   ]
  },
  {
   "cell_type": "markdown",
   "id": "passing-character",
   "metadata": {},
   "source": [
    "## 💪 Pochwal się światu, że DWthon za Tobą 💪 \n",
    "\n",
    "Udało Ci się! Jesteś na mecie, koniecznie powiedz o tym innym. Być może kogoś to zmotywuje do działania, a dodatkowo warto mówić głośno o nowych umiejętnościach i doświadczeniach, bo nigdy nie wiesz, jaka furtka może się otworzyć ;) \n",
    "\n",
    "Pamiętaj o #dwthon #hackoutsidethebox ;) \n",
    "\n",
    "Śmiało nas oznaczaj, będzie nam miło :))\n"
   ]
  },
  {
   "cell_type": "markdown",
   "id": "suspected-aircraft",
   "metadata": {},
   "source": [
    "## 🙌 Życzymy wszystkiego dobrego, wykorzystaj moc ML do dobrych spraw, o których możesz podyskutować w tym kanale:  [the_world_needs_ml](https://bit.ly/3vgNfFa) 🙌 \n",
    "\n",
    "Dowiesz się tam także więcej o [Fundacji DataWorkshop](https://bit.ly/3ewa29S) i o tym, jak można zaangażować się w jej działania :) "
   ]
  },
  {
   "cell_type": "markdown",
   "id": "reflected-singles",
   "metadata": {},
   "source": [
    "## 🤖 Obejrzyj webinarium: [10 najpopularniejszych błędów w uczeniu maszynowym](https://bit.ly/3qKQbqg) 🤖 "
   ]
  },
  {
   "cell_type": "code",
   "execution_count": null,
   "id": "golden-australian",
   "metadata": {},
   "outputs": [],
   "source": []
  }
 ],
 "metadata": {
  "kernelspec": {
   "display_name": "Python 3",
   "language": "python",
   "name": "python3"
  },
  "language_info": {
   "codemirror_mode": {
    "name": "ipython",
    "version": 3
   },
   "file_extension": ".py",
   "mimetype": "text/x-python",
   "name": "python",
   "nbconvert_exporter": "python",
   "pygments_lexer": "ipython3",
   "version": "3.8.6"
  }
 },
 "nbformat": 4,
 "nbformat_minor": 5
}
