{
 "cells": [
  {
   "cell_type": "markdown",
   "metadata": {},
   "source": [
    "# Dzień drugi DWthon - Hack Outside the Box \n",
    "\n",
    "## Celem jest poznać zasadę Pareto w praktyce!\n",
    "\n",
    "\n",
    "Staniemy dzisiaj na głowie 🤸, ale dzięki temu zobaczysz, że istnieje reguła, kiedy można robić mniej, ale dostawać więcej! Brzmi nierealistycznie? Jest tylko jeden sposób, aby się przekonać :)   \n",
    "\n",
    "Niestety zwykle mamy na odwrót, robimy więcej i dostajemy mniej (wpadamy w tak zwane \"czarne dziury\"). Dlaczego tak jest? Wybranie właściwych rzeczy nie jest łatwe. W tej lekcji należy sobie przede wszystkim uświadomić, że taka reguła istnieje! W kolejnej zobaczysz, jak ML moż być pomocny w podpowiadaniu Ci, które rzeczy są najwłaściwsze w danym kontekście :) "
   ]
  },
  {
   "cell_type": "markdown",
   "metadata": {},
   "source": [
    "### Zanim zaczniemy | ważne (!)\n",
    "\n",
    "Dużo mówimy o rozwoju podczas naszych inicjatyw. Postanowiliśmy też tym razem spróbować zmierzyć Twój rozwój. Po co? \n",
    "Przede wszystkim, aby zwrócić Twoją uwagę na bardzo ważną rzecz, o której niestety większość zapomina. Mam na myśli \"deltę rozwoju\". Czy da się jakoś zmierzyć, jak bardzo udało Ci się rozwinąć? :) Spróbujmy! \n",
    "\n",
    "Każdy dzień DWthon - hack outside the box ma dedykowaną ankietę. Wypełnij ją zanim przejdziesz do nauki. Na koniec może być miła niespodzianka :) Zajmie Ci to 4 minutki. \n",
    "\n",
    "### [Wypełnij ankietę](https://bit.ly/3qrAh3J)  i mierz deltę swego rozwoju :) "
   ]
  },
  {
   "cell_type": "markdown",
   "metadata": {},
   "source": [
    "### Uwaga! \n",
    "\n",
    "Jeśli napotkasz trudności podczas wykonywania zadań z tego notebooka, to koniecznie napisz w kanale [dwthon_day2](https://bit.ly/3eh85Ov)\n",
    "\n",
    "Pamiętaj, aby szczegółowo doprecyzować, z czym masz problem. Najlepiej wrzuć screen z kodem swoim lub błędem, który widzisz i napisz, którego zadania dotyczy :) "
   ]
  },
  {
   "cell_type": "code",
   "execution_count": null,
   "metadata": {
    "scrolled": true
   },
   "outputs": [],
   "source": [
    "%%html\n",
    "<iframe style=\"height:500px;width:100%\" src=\"https://www.youtube.com/embed/rXB6Pm-xBp0\" frameborder=\"0\" allow=\"autoplay; encrypted-media\" allowfullscreen></iframe>"
   ]
  },
  {
   "cell_type": "markdown",
   "metadata": {},
   "source": [
    "### Krok po kroku \n",
    "\n",
    "Nagrałem dla Ciebie także materiał wideo \"krok po kroku\". W wideo poniżej znajduje się dokładnie to, co w tym notebooku tylko tłumaczę wszystko, aby ułatwić Ci pracę i zrozumienie zagadnień i zadań :) Obejrzyj, jeśli potrzebujesz takiego dodatkowego wsparcia. "
   ]
  },
  {
   "cell_type": "code",
   "execution_count": null,
   "metadata": {},
   "outputs": [],
   "source": [
    "%%html\n",
    "<iframe style=\"height:500px;width:100%\" src=\"https://www.youtube.com/embed/Sn1rU-cEit0\" frameborder=\"0\" allow=\"autoplay; encrypted-media\" allowfullscreen></iframe>"
   ]
  },
  {
   "cell_type": "markdown",
   "metadata": {},
   "source": [
    "## Reguła 80/20 \n",
    "Jest przede wszystkim **praktyczna** (w ramach DataWorkshop zajmujemy się praktycznymi rzeczami, czyli takimi, które sprawdzają się w życiu). Warto zdać sobie sprawę, że reguła 80/20 dotyczy wielu aspektów naszego życia (również Twojego 😱, tak, tak).\n",
    "\n",
    "Podam Ci trochę przykładów, aby pobudzić Twoją wyobraźnię. Czy wiesz, że:\n",
    "- 20% pracowników generuje 80% wyników;\n",
    "- 20% ludzi powoduje 80% wypadków samochodowych;\n",
    "- 20% artykułów spożywczych to 80% całkowitego rachunku (zobacz, jak to jest u Ciebie, np. przy większych zakupach w weekend);\n",
    "- 20% populacji odpowiedzialna jest  za 80% kosztów społecznych, w tym przestępstw, świadczeń opieki zdrowotnej itp; \n",
    "- 20% naprawionych bugów zmniejsza 80% błędów (które de-facto występują);\n",
    "- 20% kodu dostarcza 80% funkcjonalności biznesowej (między innymi Microsoft to potwierdził w 2002).\n",
    "\n",
    "Więcej przykładów możesz znaleźć [87 odcinku Biznes Myśli](https://bit.ly/2OsnYa4). \n",
    "\n",
    "*☝️ Polecam zasubskrybować teraz* **Biznes Myśli** *na [Youtube](https://bit.ly/2MSO8lS), [Spotify](https://bit.ly/38i1fVr), [iTunes - Apple](https://bit.ly/3rqYnwX), [Google Podcasts](https://bit.ly/2MXbeYI)*."
   ]
  },
  {
   "cell_type": "markdown",
   "metadata": {},
   "source": [
    "---- \n",
    "Można powiedzieć, że istnieje takie prawo natury, kiedy \"mniejszość robi większość i odwrotnie\". Ta zasada nawet ma swoją nazwę: Zasada Pareto.\n",
    "\n",
    "Ważne, aby to po tej lekcji stało się dla Ciebie oczywiste, że ta zasada nas otacza (a nawet czasem osacza ;)) w wielu wymiarach naszego życia codziennego i mało tego ma bezpośredni wpływ na to, jak żyjemy, jak się czujemy i czy jesteśmy szczęśliwi. Nawet aż tak bardzo wpływa...\n",
    "\n",
    "Podam Ci namacalny przykład. 20% to jeden dzień roboczy z pięciu. Porozważajmy 🤔. Pracujesz jeden dzień w tygodniu i dostajesz 80% wartości 😱. Chcesz tak umieć? 😉 Owszem, to wszystko zależy od kontekstu i nie zawsze jest łatwe, bo inaczej każdy by to stosował, prawda? Z drugiej strony, ciężko to nazwać *rocket science* 🚀. Raczej chodzi w większości przypadków o zmianę myślenia i użycia właściwych narzędzi, aniżeli bycie geniuszem...  Poza tym geniusz polega na tym, że uporczywie dopytujesz \"świat\", co zrobić, aby dało się żyć łatwiej i dostajesz odpowiedź 😀 \n",
    "\n",
    "## Zaczynamy!\n",
    "\n",
    "Koniec rozważań, przechodzimy do działania :) Najpierw wczytajmy potrzebne biblioteki na dzisiaj. "
   ]
  },
  {
   "cell_type": "code",
   "execution_count": null,
   "metadata": {},
   "outputs": [],
   "source": [
    "import pandas as pd\n",
    "import helper as h"
   ]
  },
  {
   "cell_type": "markdown",
   "metadata": {},
   "source": [
    "Potrzebujemy `pandas` jak ostatnio oraz pojawiła się moja pomocnicza biblioteka `helper`, gdzie jest więcej zaawansowanego kodu, który przyda się później. Nie musisz go analizować.\n",
    "\n",
    "## Wczytajmy dane\n",
    "\n",
    "Pamiętasz, jak to zrobić, prawda? Używamy do tego funkcji `pd.read_hdf`."
   ]
  },
  {
   "cell_type": "code",
   "execution_count": null,
   "metadata": {},
   "outputs": [],
   "source": [
    "df = pd.read_hdf(\"../input/data.h5\")\n",
    "\n",
    "print(df.shape)\n",
    "df.sample(5)"
   ]
  },
  {
   "cell_type": "markdown",
   "metadata": {},
   "source": [
    "## Grupowanie\n",
    "\n",
    "W pierwszej kolejności poznajmy kolejną przydatną funkcję w Python, a mianowicie `groupby`. To jest funkcja, która umożliwia grupowanie. \n",
    "\n",
    "Do czego to może być przydatne?\n",
    "\n",
    "Załóżmy, że chcemy zliczyć koszt zamówienia.\n",
    "W tej chwili jedno zamówienie może zawierać jeden lub więcej produktów.\n",
    "\n",
    "Zobaczmy to na przykładzie. Obrazek jest wart więcej niż 1000 słów ;) \n",
    "![](../images/order123.jpg)\n"
   ]
  },
  {
   "cell_type": "markdown",
   "metadata": {},
   "source": [
    "Opiszę obrazek przy pomocy obecnego formatu danych.\n",
    "\n",
    "Załóżmy, że chleb ma ID  1 (`product_id=1`), pomidory mają ID 2 (`product_id=2`)\n",
    " i ziemniaki ID=3 (`product_id3`).\n",
    " \n",
    "| order_id | product_id | quantity | price_unit | price_total |\n",
    "| --- | --- | --- |--- | --- |\n",
    "| 123 | 1 | 1 | 4 | 4 |\n",
    "| 123 | 2 | 5 | 2 | 10 |\n",
    "| 123 | 3 | 10 | 1 | 10 |"
   ]
  },
  {
   "cell_type": "markdown",
   "metadata": {},
   "source": [
    "W tym przykładzie (dla uproszczenia) pominąłem, kto kupił, czyli `customer_id`, ponieważ to będzie kolejne ID.\n",
    "\n",
    "Przyjrzyj się przez kilka minut, co jest na obrazku i co w tabelce. Następnie zrób sobie test. Spróbuj patrząc na obrazek przepisać to w postaci tabelki. Dlaczego to jest ważne? Bo wtedy zaczniesz rozumieć \"o co chodzi\", a przestaniesz jedynie wykonywać kolejne polecenia :). Spędź na to zadanie spokojnie ⌛️5-10 minut. Warto, aby ten przykład stał się oczywisty.\n",
    "\n",
    "\n",
    "### Koszt zamówienia\n",
    "Jak widzisz w tabelce mamy wszystkie informacje z obrazka oprócz jednej. Koszt całego zamówienia. Aby tę informację zdobyć musimy zsumować trzy wartości z ostatniej kolumny `price_total`. Natomiast pamiętaj, że w naszej tabelce jest ponad 40k zamówień. \n",
    "\n",
    "## Zadanie 2.1\n",
    "Swoją drogą, pamiętasz, jak sprawdzić, ile mamy zamówień? Napisz kod poniżej. \n",
    "\n",
    "### 💡 Podpowiedź\n",
    "Zawsze możesz podejrzeć, jak to zrobiliśmy w pierwszym dniu (notebook z wczoraj). "
   ]
  },
  {
   "cell_type": "code",
   "execution_count": null,
   "metadata": {},
   "outputs": [],
   "source": [
    "### YOUR CODE HERE"
   ]
  },
  {
   "cell_type": "markdown",
   "metadata": {},
   "source": [
    "Jak wykonasz zadanie, należy zrobić:\n",
    "1. Zrzut ekranu na którym widać rozwiązania, wtedy dostaniesz bonus  :)  \n",
    "2. Wrzucić rozwiązanie na slacku do pokoju [dwthon_day2_done](https://bit.ly/3t5CNyx)\n",
    "3. Dostać bonus za dobrą robotę 💪 i jutro będzie kolejna porcja.\n",
    "\n",
    "Uwaga! Jeśli masz problem z jakimś zadaniem, czegoś nie wiesz, to pamiętaj, że możesz zadawać pytania! Na tym polega nauka :) Pytania związane z 2 dniem DWthon zadawaj w kanale [dwthon_day2](https://bit.ly/3eh85Ov)."
   ]
  },
  {
   "cell_type": "markdown",
   "metadata": {},
   "source": [
    "Potrzebujemy w \"jakiś\" sposób pozbierać wszystkie `price_total` do jednego worka dla każdego zamówienia. Następnie jak już będziemy mieli te wartości w jednym worku, to zostanie nam tylko je zsumować.\n",
    "\n",
    "Jak widzisz mamy dwa kroki:\n",
    "- grupowanie `df.groupby` (zbieranie do jednego worka);\n",
    "- suma (lub inna akcja) wartości w tym worku `.agg`.\n",
    "\n",
    "Zobaczmy, jak to wygląda w kodzie."
   ]
  },
  {
   "cell_type": "code",
   "execution_count": null,
   "metadata": {},
   "outputs": [],
   "source": [
    "df[ [\"order_id\", \"price_total\"] ].groupby(\"order_id\").agg('sum')"
   ]
  },
  {
   "cell_type": "markdown",
   "metadata": {},
   "source": [
    "Wynikiem jest suma każdego zamówienia (z obrazka to była liczba 24 zł).\n",
    "\n",
    "Np. już wiemy, że `order_id=0` był wart **£278.12** lub `order_id=52205` jest warty **£473.51**. ☝️ Przypomnę, że price_total (oraz price_unit) trzymamy pensach.\n",
    "\n",
    "Zbadajmy jeszcze raz ten kod, aby mieć pewność, że rozumiemy wszystko na 100%:\n",
    "`df[ [\"order_id\", \"price_total\"] ].groupby(\"order_id\").agg('sum')`\n",
    "\n",
    "Możemy go rozłożyć na 3 części:\n",
    "- `df[ [\"order_id\", \"price_total\"] ]` z całej naszej tablicy wyciągamy tylko 2 kolumny, bo akurat one są nam potrzebne (możemy ten krok pominąć, wtedy będziemy mieć sumę dla wszystkiego, ale np. sumować `product_id` nie ma sensu);\n",
    "- `groupby(\"order_id\")` zbieramy dane do worka po kluczu `order_id`, innymi słowy w tym przypadku 'worek\" jest zamówieniem i w środku są wszystkie produkty tego zamówienia; \n",
    "- `agg('sum')` jak już mamy `price_total` dla każdego produktu w zamówieniu, robimy sumę w wyniku, czego dostajemy wartość całego zamówienia.\n",
    "\n",
    "\n",
    "## Sortowanie\n",
    "Fajnie byłoby posortować nasze zamówienia w sposób malejący. Na pierwszym miejscu będzie najdroższe zamówienie, na ostatnim miejscu najtańsze. Użyjmy do tego funkcji `.sort_values()`."
   ]
  },
  {
   "cell_type": "code",
   "execution_count": null,
   "metadata": {},
   "outputs": [],
   "source": [
    "(\n",
    "    df[ [\"order_id\", \"price_total\"] ]\n",
    "     .groupby(\"order_id\")\n",
    "     .agg('sum')\n",
    "     .sort_values(by=\"price_total\", ascending=False)\n",
    ")"
   ]
  },
  {
   "cell_type": "markdown",
   "metadata": {},
   "source": [
    "`.sort_values(by=\"price_total\", ascending=False)` ta funkcja sortuje wg kolumny, która została w przekazana w `by=???`, natomiast parametr o dziwnej i trudnej nazwie `ascending` wskazuje kierunek sortowania. Domyślnie `ascending=True`, czyli sortuje rosnąco. W naszym przypadku chcemy na odwrót, aby najdroższe zamówienie było jako #1, a najtańsze jako ostatnie.\n",
    "\n",
    "`.reset_index()` robię pewną rzecz techniczną jako \"przerzucanie\" wartości `order_id` z indeksu do kolumny o nazwie (`order_id`). Jeśli to brzmi dla Ciebie zbyt zagadkowo, to możesz spokojnie to pominąć, to tylko malutki szczególik, który nie jest aż tak istotny na początku.\n",
    "\n",
    "Zwróć uwagę, że nasza linia kodu staje się coraz dłuższa i to dlatego rozbiliśmy ją na kawałki i dodaliśmy nawiasy, czyli zamiast tego:\n",
    "\n",
    "```\n",
    "df[ [\"order_id\", \"price_total\"] ].groupby(\"order_id\").agg('sum').sort_values(by=\"price_total\", ascending=False).reset_index()\n",
    "```\n",
    "\n",
    "mamy tak:\n",
    "\n",
    "```\n",
    "(\n",
    "    df[ [\"order_id\", \"price_total\"] ]\n",
    "     .groupby(\"order_id\")\n",
    "     .agg('sum')\n",
    "     .sort_values(by=\"price_total\", ascending=False)\n",
    "     .reset_index()\n",
    ")\n",
    "```\n",
    "\n",
    "Dzięki temu kod staje się bardziej czytelny i da się dodawać kolejne warunki (jeszcze można kontynuować ;)).\n",
    "\n",
    "## Zadanie 2.2\n",
    "\n",
    "Teraz zróbmy podobnie tylko kluczem do worka będzie `customer_id`. Innymi słowy, chcemy zliczyć, ile przychodów przyniósł nam poszczególny klient. Np. Zośka za cały czas istnienia sklepu wpłaciła 10 000 zł, Jacek 5 000 zł.\n",
    "\n",
    "Twoim zadaniem, jest \"coś\" zmienić w poprzednim kodzie, aby mieć sumę przychodów dla każdego klienta (zamiast zamówienia).\n",
    "\n",
    "### 💡 Podpowiedź\n",
    "Zamiast `order_id` użyj `customer_id`. "
   ]
  },
  {
   "cell_type": "code",
   "execution_count": null,
   "metadata": {},
   "outputs": [],
   "source": [
    "### YOUR CODE HERE"
   ]
  },
  {
   "cell_type": "markdown",
   "metadata": {},
   "source": [
    "Jak wykonasz zadanie, należy zrobić:\n",
    "1. Zrzut ekranu na którym widać rozwiązania, wtedy dostaniesz bonus  :)  \n",
    "2. Wrzucić rozwiązanie na slacku do pokoju [dwthon_day2_done](https://bit.ly/3t5CNyx)\n",
    "3. Dostać bonus za dobrą robotę 💪 i jutro będzie kolejna porcja.\n",
    "\n",
    "Uwaga! Jeśli masz problem z jakimś zadaniem, czegoś nie wiesz, to pamiętaj, że możesz zadawać pytania! Na tym polega nauka :) Pytania związane z 2 dniem DWthon zadawaj w kanale [dwthon_day2](https://bit.ly/3eh85Ov)."
   ]
  },
  {
   "cell_type": "markdown",
   "metadata": {},
   "source": [
    "## Mniejszość  \"robi\" większość i odwrotnie\n",
    "\n",
    "Obiecałem, że pokażę Ci, że mniejszość generuje większość i na odwrót. Jesteśmy już bardzo blisko tego, aby to zrobić, jedynie potrzebujemy wykonać sumę poszczególnych przychodów dla klientów. Dodając każdy kolejny wiersz (zamówienie) do siebie, np. po 10 wierszach będziemy mieć sumę zamówień dla pierwszych dziesięciu klientów. Kiedy sumujemy wszystko to dostaniemy cały przychód sklepu.\n",
    "\n",
    "Do tego celu mamy funkcję `cumsum()`."
   ]
  },
  {
   "cell_type": "code",
   "execution_count": null,
   "metadata": {},
   "outputs": [],
   "source": [
    "sorted_orders = (\n",
    "    df[ [\"customer_id\", \"price_total\"] ]\n",
    "     .groupby(\"customer_id\")\n",
    "     .agg('sum')\n",
    "     .sort_values(by=\"price_total\", ascending=False)\n",
    "    .reset_index()\n",
    ")\n",
    "\n",
    "sorted_orders[\"price_cumsum\"] = sorted_orders[\"price_total\"].cumsum()\n",
    "\n",
    "sorted_orders.head(10)"
   ]
  },
  {
   "cell_type": "code",
   "execution_count": null,
   "metadata": {},
   "outputs": [],
   "source": [
    "61130939 + 53007160"
   ]
  },
  {
   "cell_type": "markdown",
   "metadata": {},
   "source": [
    "Zobacz to na na przykładzie.\n",
    "\n",
    "Najwięcej wydał klient `customer_id=448` i ma wartość **£611 309.39** (☝️ brzmi jako wartość wielopokojowego mieszkania w Krakowie czy Warszawie, ale ludzi mają różny apetyt na prezenty).\n",
    "\n",
    "Drugi \"najbogatszy\" klient to `customer_id=907` i wydał **£530 071.60**.\n",
    "\n",
    "Teraz dodajac `£611 309.39` (`customer_id=448`) + `£530 071.60` (`customer_id=907`) dostajemy sumę `£1 141 380.99`. To jest druga wartość w `price_cumsum` (czyli sum pierwszych dwóch klientów - ich wydatków). W trzecim wierszu będzie suma trzech zamówień itd.\n",
    "\n",
    "`£611 309.39` + `£530 071.60` + `£336 951.10` = `£1 478 332.09`\n",
    "\n",
    "Mam nadzieje, że już rozumiesz, jakie dalej są wartości w kolumnie `price_cumsum` (po polsku mówi się na to *suma skumulowana*, natomiast po angielsku `Cumulative Sum` lub w skrócie `cumsum`).\n",
    "\n",
    "### 🧠 Włączmy krytycznie myślenie.\n",
    "\n",
    "Teraz w łatwy sposób możemy znaleźć klientów, którzy generują 80%. Tylko przed tym zróbmy jeden dodatkowy `double-check`, aby upewnić się, że wszystko nam się zgadza. Sprawdźmy przychody sklepu na dwa sposoby:\n",
    "- suma `price_total`\n",
    "- ostatni wiersz w `price_cumsum`\n",
    "\n",
    "\n",
    "Wartości mają być identyczne, ale to co ma być w teorii dość często nie zgadza się w praktyce, więc warto zobaczyć."
   ]
  },
  {
   "cell_type": "code",
   "execution_count": null,
   "metadata": {},
   "outputs": [],
   "source": [
    "df[\"price_total\"].sum()"
   ]
  },
  {
   "cell_type": "markdown",
   "metadata": {},
   "source": [
    "Funkcja `tail` jest odwrotnością do funkcji `head` i umożliwia pobrać ostatni wiersz."
   ]
  },
  {
   "cell_type": "code",
   "execution_count": null,
   "metadata": {},
   "outputs": [],
   "source": [
    "sorted_orders[\"price_cumsum\"].tail(1).values[0]"
   ]
  },
  {
   "cell_type": "markdown",
   "metadata": {},
   "source": [
    "Jak widać, wartości zgadzają się. \n",
    "\n",
    "💷 Mamy `£8 161 456.30 `, czyli ponad `£18 mln.`. Policzmy teraz 80% z tej kwoty."
   ]
  },
  {
   "cell_type": "code",
   "execution_count": null,
   "metadata": {},
   "outputs": [],
   "source": [
    "1816145630 * 0.8"
   ]
  },
  {
   "cell_type": "markdown",
   "metadata": {},
   "source": [
    "80% to `£14 529 165.04`, czyli ponad £14 mln. Teraz zbierzmy \"najbogatszych\" klientów, którzy dadzą nam tę kwotę. Przez to, że mamy naszych klientów już posortowanych oraz wyliczyliśmy sumę skumulowaną, to został nam jeden prosty krok."
   ]
  },
  {
   "cell_type": "code",
   "execution_count": null,
   "metadata": {},
   "outputs": [],
   "source": [
    "value_80prc = int(1816145630 * 0.8)\n",
    "top_clients =sorted_orders[ sorted_orders[\"price_cumsum\"] < value_80prc ][\"customer_id\"]"
   ]
  },
  {
   "cell_type": "markdown",
   "metadata": {},
   "source": [
    "Ta konstrukcja może wydawać się trudna na początek `sorted_orders[ sorted_orders[\"price_cumsum\"] < value_80prc ]`\n",
    "\n",
    "Zobacz, jak wygląda schemat:\n",
    "`df[ df[\"a\"] < 80 ]`\n",
    "\n",
    "W tym przypadku mamy tablicę (`dataframe`) o nazwie `df`. Chcemy pofiltrować wiersze (dostać taką samą lub mniejszą tablicę). To oznacza, że chcemy zostawić tylko takie wiersze w tablicy, które spełniają warunek `df[\"a\"] < 80`. Ten warunek oznacza, że mają zostać tylko wiersze, które w kolumnie `a` mają wartość mniejszą niż 80.\n",
    "\n",
    "W naszym przypadku jest to samo, tylko nazwy zmiennych są trochę trudniejsze. Zobacz:\n",
    "\n",
    "```\n",
    "sorted_orders[ sorted_orders[\"price_cumsum\"] < value_80prc ]\n",
    "```\n",
    "\n",
    "Chcemy zostawić tylko tych klientów, którzy wspólnie (jak najszybciej) tworzą nam 80% przychodów.\n",
    "\n",
    "\n",
    "\n",
    "🤔 Teraz chwila prawdy.... Sprawdźmy, ile klientów tworzy 80% przychodów."
   ]
  },
  {
   "cell_type": "code",
   "execution_count": null,
   "metadata": {},
   "outputs": [],
   "source": [
    "len(top_clients)"
   ]
  },
  {
   "cell_type": "markdown",
   "metadata": {},
   "source": [
    "Mamy **1 324**, którzy generują 80% przychodu (czyli ponad **£14 mln**). Ile mamy wszystkich klientów, pamiętasz? Zawsze można sprawdzić jeszcze raz ;)"
   ]
  },
  {
   "cell_type": "code",
   "execution_count": null,
   "metadata": {},
   "outputs": [],
   "source": [
    "df[\"customer_id\"].nunique()"
   ]
  },
  {
   "cell_type": "markdown",
   "metadata": {},
   "source": [
    "Wszystkich klientów mamy **5 879**. Podzielmy teraz jedno przez drugie."
   ]
  },
  {
   "cell_type": "code",
   "execution_count": null,
   "metadata": {},
   "outputs": [],
   "source": [
    "1324 / 5879"
   ]
  },
  {
   "cell_type": "markdown",
   "metadata": {},
   "source": [
    "Innymi słowy, w tym przypadku sytuacja wygląda tak, że ~23% klientów generuje 80% przychodu.\n",
    "\n",
    "### 😯 Ale, czemu 23%, a nie dokładnie 20%? \n",
    "\n",
    "To wszystko zależy od wiele czynników. W tej regule najważniejsze jest to, że mniejszość (czyli 23%), tworzy większość (czyli 80%). Owszem dość często to faktycznie też wygląda dosłownie 20%, ale nie przywiązuj się wprost do tej liczby 20. To może oscylować od 5% do 30% (i być traktowane jako mniejszość). Chociaż warto przyznać, że dość często pojawia się liczba około 20%. \n",
    "\n",
    "\n",
    "## Zadanie 2.3\n",
    "\n",
    "Policzyliśmy regułę 80/20 dla klientów, teraz czas aby wykonać to samo dla produktów. Innymi słowy, chcemy sprawdzić, czy ta reguła również działa dla produktów.\n",
    "\n",
    "Pytanie jest takie: czy mniejszość produktów (ok. 20%) generuje większość przychodów (80%)?\n",
    "\n",
    "\n",
    "## 💡 Podpowiedź\n",
    "* W tym przypadku zamiast `customer_id`, należy użyć `product_id`.\n",
    "* Na spokojnie pomyśl i dasz radę. Tu jest naprawdę \"trochę\" do zmiany. Ewentualnie zrób przerwę na chwilę, może odpocznij jakoś inaczej 🛀 - lub bardziej aktywnie 🏊🏼🚴🏇 i wróć do zadania jeszcze raz. Na pewno dasz radę!"
   ]
  },
  {
   "cell_type": "code",
   "execution_count": null,
   "metadata": {},
   "outputs": [],
   "source": [
    "## YOUR CODE HERE"
   ]
  },
  {
   "cell_type": "markdown",
   "metadata": {},
   "source": [
    "Jak wykonasz zadanie, należy zrobić:\n",
    "1. Zrzut ekranu na którym widać rozwiązania, wtedy dostaniesz bonus  :)  \n",
    "2. Wrzucić rozwiązanie na slacku do pokoju [dwthon_day2_done](https://bit.ly/3t5CNyx)\n",
    "3. Dostać bonus za dobrą robotę 💪 i jutro będzie kolejna porcja.\n",
    "\n",
    "Uwaga! Jeśli masz problem z jakimś zadaniem, czegoś nie wiesz, to pamiętaj, że możesz zadawać pytania! Na tym polega nauka :) Pytania związane z 2 dniem DWthon zadawaj w kanale [dwthon_day2](https://bit.ly/3eh85Ov)."
   ]
  },
  {
   "cell_type": "markdown",
   "metadata": {},
   "source": [
    "## Dodatkowe zadania\n",
    "\n",
    "Nie musisz ich wykonywać, ale jak czujesz \"głód\" wiedzy i chcesz więcej, to wtedy śmiało 👍. \n",
    "\n",
    "Czas na żąglowanie danymi i pomysłami 🤹.\n",
    "\n",
    "### 🧠 Włączmy myślenie krytycznie. \n",
    "\n",
    "W tej chwili rozważaliśmy na temat przychodów. Natomiast warto wziąć pod uwagę jeszcze temat zwrotów. Bo to jest istotna rzecz w każdym biznesie.\n",
    "\n",
    "Każdy zwrot oznacza tak naprawdę stratę. Dlaczego?\n",
    "\n",
    "To wynika z kilku powodów:\n",
    "- pozyskanie klienta kosztuje (np. koszt na reklamę);\n",
    "- obsługa zamówienia kosztuje;\n",
    "- zwrot kosztuje;\n",
    "- koszt transakcji też zwykle kosztuje (płatność przez bramkę płatności, zwykle jeden lub nawet kilka procent dociera do kogoś innego niż właściciel sklepu). \n",
    "\n",
    "\n",
    "Dlatego warto policzyć i wziąć pod uwagę zwroty? \n",
    "\n",
    "#### Zwroty\n",
    "Najpierw zrobimy wykres, aby zobaczyć, że ze zwrotami też nie ma \"symetrii\". Użyjmy już gotowej funkcji, aby trochę przyspieszyć."
   ]
  },
  {
   "cell_type": "code",
   "execution_count": null,
   "metadata": {},
   "outputs": [],
   "source": [
    "h.plot_canceled(df)"
   ]
  },
  {
   "cell_type": "markdown",
   "metadata": {},
   "source": [
    "- Niebieski słupek to przychody\n",
    "- Pomarańczowy to zwroty\n",
    "\n",
    "Mamy co najmniej trzy wymiary:\n",
    "- klienci (`customer`)\n",
    "- zamówienia (`orders`) \n",
    "- produkty (`products`)\n",
    "\n",
    "Zobacz, jeśli chodzi o klientów to mamy proporcję: 5879 vs 2446. To brzmi, że co najmniej 2446 klientów zrobiło zwrot co najmniej raz (ale może częściej, do tego jeszcze warto wrócić). To brzmi, że ok. 41% zwraca.\n",
    "\n",
    "Jeśli chodzi o zamówienia, to widać, że mniejszość jest zwracana. Mamy proporcję: 43 908 vs 7 290. Innymi słowy, tylko ~17% zamówień jest zwracana.\n",
    "\n",
    "\n",
    "## 😇 Włączmy myślenie kreatywne\n",
    "\n",
    "Popatrz teraz na wymiar produktów i spróbuj zrobić samodzielne wnioski.  Co to oznacza dla sklepu?\n",
    "\n",
    "\n",
    "## 🤝🗣️ Uruchom kooperację i komunikację\n",
    "\n",
    "Podziel się swoimi przemyśleniami na slacku [dwthon_day2_ideas](https://bit.ly/3vfem3w)."
   ]
  },
  {
   "cell_type": "markdown",
   "metadata": {},
   "source": [
    "--- \n",
    "## 🧠 Włączmy myślenie krytycznie\n",
    "\n",
    "Powyżej liczyliśmy, ile zapłacił klient. Swoją drogą ta metryka nazywa się `LTV` czyli `Lifetime Value` i oznacza, ile klient wyda w sklepie za cały czas. To jest ważny parametr, który warto umieć wyliczyć. To wcale nie jest łatwo zrobić, ale ML może tu pomóc.\n",
    "\n",
    "Tylko zwróć uwagę, że to może być tylko wycinek `LTV`. Bo nie mamy gwarancji, że mamy historię od początku (bo może wtedy był inny sklep, inna baza i wiele innych rzeczy odmiennych) oraz nie wiemy, czy to koniec. Być może Zośka dopiero się rozkręca i wyda jeszcze 10 razy tyle, co do tej pory. To akurat jest bardzo trudne umieć powiedzieć, kiedy dany klient już więcej nie wróci... Natomiast trzeba zdawać sobie z tego sprawę, że takie momenty są.\n",
    "\n",
    "## 😇 Włączmy myślenie kreatywne\n",
    "\n",
    "Pomyśl, jak możemy zdefiniować, że klient już \"nie wróci\". Jak do tego można podejść, oprócz tego,  że zadzwonimy i zapytamy wprost (co też jest słabe, bo człowiek zawsze może zmienić zdanie, po to jest człowiekiem) jak również sama procedura jest niewygodna (po co męczyć klientów) oraz kosztowna (ile trzeba ludzi, aby 📞 zadzwonić do tysiący osób i spędzić z nimi nawet 10-15 min)?\n",
    "\n",
    "\n",
    "Jeszcze raz zadajmy pytanie: **jak możemy zdefiniować, że klient dokonał ostatniego zakupu w \"sklepie\"?**. Dlaczego ważne jest odpowiedzenie na to pytanie? \n",
    "\n",
    "Chcemy to wiedzieć, ponieważ wtedy wiemy, ile możemy \"zainwestować\" w klienta wydając na pozyskanie go. \n",
    "\n",
    "\n",
    "Ewentualnie, warto rozważyć, czy możemy aktywować klienta, który potencjalnie o nas \"zapomniał\" i jak to można zrobić mądrze?\n",
    "\n",
    "## 🤝🗣️ Kooperacja i komunikacja\n",
    "\n",
    "Podziel się swoimi przemyśleniami na slacku [dwthon_day2_ideas](https://bit.ly/3vfem3w)."
   ]
  },
  {
   "cell_type": "markdown",
   "metadata": {},
   "source": [
    "## 🎂 Deser\n",
    "\n",
    "Przygotowałem dla Ciebie pomocniczą funkcję, aby porobić wykresy i zobaczyć, jak rozkłada się wartość w trzech wymiarach:\n",
    "- klienci, produkty, zamówienia;\n",
    "- przychody, zyski;\n",
    "\n",
    "Zbadajmy np. wykresy, które charakteryzują klientów."
   ]
  },
  {
   "cell_type": "code",
   "execution_count": null,
   "metadata": {},
   "outputs": [],
   "source": [
    "args = {\n",
    "    'df': df,\n",
    "    'sel_x_prct': 'auto_80',\n",
    "    'main_feat': 'customer_id', \n",
    "    'price_feat': 'price_total', \n",
    "}\n",
    "\n",
    "h.plot_pareto(**args)"
   ]
  },
  {
   "cell_type": "markdown",
   "metadata": {},
   "source": [
    "- Na osi X masz w % klientów\n",
    "- Na osi Y masz w % przychód\n",
    "\n",
    "Zielona pionowa kreska pokazuje miejsca, gdzie osiągamy 80% przychodu. W tym przypadku mamy ok. 22.5% klientów, którzy  generują 80% przychodów.\n",
    "\n",
    "Sprawdźmy teraz to samo tylko dla produktów."
   ]
  },
  {
   "cell_type": "code",
   "execution_count": null,
   "metadata": {},
   "outputs": [],
   "source": [
    "args = {\n",
    "    'df': df,\n",
    "    'sel_x_prct': 'auto_80',\n",
    "    'main_feat': 'product_id', \n",
    "    'price_feat': 'price_total', \n",
    "}\n",
    "\n",
    "h.plot_pareto(**args)"
   ]
  },
  {
   "cell_type": "markdown",
   "metadata": {},
   "source": [
    "Zobaczmy wykres dla zamówień :) "
   ]
  },
  {
   "cell_type": "code",
   "execution_count": null,
   "metadata": {},
   "outputs": [],
   "source": [
    "args = {\n",
    "    'df': df,\n",
    "    'sel_x_prct': 'auto_80',\n",
    "    'main_feat': 'order_id', \n",
    "    'price_feat': 'price_total', \n",
    "}\n",
    "\n",
    "h.plot_pareto(**args)"
   ]
  },
  {
   "cell_type": "markdown",
   "metadata": {},
   "source": [
    "W tym przypadku jest tak, że ok. 39% zamówień musi się wydarzyć, abyśmy mogli wytworzyć wartość 80%. Nadal 39% to mniejszość ;)"
   ]
  },
  {
   "cell_type": "markdown",
   "metadata": {},
   "source": [
    "Zapraszam na slacka :) :)"
   ]
  },
  {
   "cell_type": "code",
   "execution_count": null,
   "metadata": {},
   "outputs": [],
   "source": []
  }
 ],
 "metadata": {
  "kernelspec": {
   "display_name": "Python 3",
   "language": "python",
   "name": "python3"
  },
  "language_info": {
   "codemirror_mode": {
    "name": "ipython",
    "version": 3
   },
   "file_extension": ".py",
   "mimetype": "text/x-python",
   "name": "python",
   "nbconvert_exporter": "python",
   "pygments_lexer": "ipython3",
   "version": "3.8.6"
  }
 },
 "nbformat": 4,
 "nbformat_minor": 4
}
