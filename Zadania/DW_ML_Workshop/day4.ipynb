{
 "cells": [
  {
   "cell_type": "markdown",
   "id": "scientific-facial",
   "metadata": {},
   "source": [
    "# Dzień czwarty DWthon - Hack Outside the Box \n",
    "\n",
    "### Celem jest wytrenować modele - zajmiemy się  `machine learning` w działaniu 🤖\n",
    "\n",
    "\n",
    "Dzisiaj wytrenujemy kilka modeli. Najpierw poznasz drzewa decyzyjne, a następnie zastosujemy `gradient boosting`. Jeślli dopiero zaczynasz, to te nazwy nic Ci nie mówią. Właściwie i nie muszą, najważniejsze dzisiaj jest to, aby udało Ci się wytrenować modele, nawet jeśli jest to dla Ciebie \"black-box\", czyli nie wiesz, co tam się dzieje w środku, ale wiesz, że udało się wytrenować!"
   ]
  },
  {
   "cell_type": "markdown",
   "id": "legendary-roberts",
   "metadata": {},
   "source": [
    "### Zanim zaczniemy | ważne ❗\n",
    "\n",
    "Każdy dzień DWthon - hack outside the box ma dedykowaną ankietę. Wypełnij ją zanim przejdziesz do nauki. Zajmie Ci to tylko 3 minutki ;) \n",
    "\n",
    "### [Wypełnij ankietę](https://bit.ly/3qJ3Jm9)  i mierz deltę swego rozwoju :) "
   ]
  },
  {
   "cell_type": "markdown",
   "id": "optimum-screening",
   "metadata": {},
   "source": [
    "### Gdzie zadawać pytania ❓ \n",
    "\n",
    "Jeśli napotkasz trudności podczas wykonywania zadań z tego notebooka, to koniecznie napisz w kanale [dwthon_day4](https://bit.ly/30zgHbn)\n",
    "\n",
    "Pamiętaj, aby szczegółowo doprecyzować, z czym masz problem. Najlepiej wrzuć screen z kodem swoim lub błędem, który widzisz i napisz, którego zadania dotyczy :)"
   ]
  },
  {
   "cell_type": "code",
   "execution_count": 1,
   "id": "aggregate-variance",
   "metadata": {
    "scrolled": true
   },
   "outputs": [
    {
     "data": {
      "text/html": [
       "<iframe style=\"height:500px;width:100%\" src=\"https://www.youtube.com/embed/ntJGWqkFINE\" frameborder=\"0\" allow=\"autoplay; encrypted-media\" allowfullscreen></iframe>\n"
      ],
      "text/plain": [
       "<IPython.core.display.HTML object>"
      ]
     },
     "metadata": {},
     "output_type": "display_data"
    }
   ],
   "source": [
    "%%html\n",
    "<iframe style=\"height:500px;width:100%\" src=\"https://www.youtube.com/embed/ntJGWqkFINE\" frameborder=\"0\" allow=\"autoplay; encrypted-media\" allowfullscreen></iframe>"
   ]
  },
  {
   "cell_type": "markdown",
   "id": "satisfactory-wrist",
   "metadata": {},
   "source": [
    "### Krok po kroku \n",
    "\n",
    "Nagrałem dla Ciebie także materiał wideo \"krok po kroku\". W wideo poniżej znajduje się dokładnie to, co w tym notebooku tylko tłumaczę wszystko, aby ułatwić Ci pracę i zrozumienie zagadnień i zadań :) Obejrzyj, jeśli potrzebujesz takiego dodatkowego wsparcia. "
   ]
  },
  {
   "cell_type": "code",
   "execution_count": 2,
   "id": "micro-mailing",
   "metadata": {},
   "outputs": [
    {
     "data": {
      "text/html": [
       "<iframe style=\"height:500px;width:100%\" src=\"https://www.youtube.com/embed/Jxo4Oy_KxfY\" frameborder=\"0\" allow=\"autoplay; encrypted-media\" allowfullscreen></iframe>\n"
      ],
      "text/plain": [
       "<IPython.core.display.HTML object>"
      ]
     },
     "metadata": {},
     "output_type": "display_data"
    }
   ],
   "source": [
    "%%html\n",
    "<iframe style=\"height:500px;width:100%\" src=\"https://www.youtube.com/embed/Jxo4Oy_KxfY\" frameborder=\"0\" allow=\"autoplay; encrypted-media\" allowfullscreen></iframe>"
   ]
  },
  {
   "cell_type": "markdown",
   "id": "friendly-marine",
   "metadata": {},
   "source": [
    "## Biblioteki\n",
    "\n",
    "Potrzebujemy `pandas` i jeszcze trochę więcej innych bibliotek. \n",
    "* `DecisionTreeClassifier` - do trenowania modelu\n",
    "* `sklearn.model_selection` walidacja modelu\n",
    "* `gc` do sprzątania w pamięci RAM"
   ]
  },
  {
   "cell_type": "code",
   "execution_count": 3,
   "id": "sweet-knock",
   "metadata": {},
   "outputs": [],
   "source": [
    "import pandas as pd\n",
    "import numpy as np\n",
    "\n",
    "from sklearn.tree import DecisionTreeClassifier\n",
    "from sklearn.model_selection import cross_val_score, GroupKFold\n",
    "\n",
    "import gc"
   ]
  },
  {
   "cell_type": "markdown",
   "id": "associate-morrison",
   "metadata": {},
   "source": [
    "## Wczytajmy dane"
   ]
  },
  {
   "cell_type": "code",
   "execution_count": 4,
   "id": "available-organic",
   "metadata": {},
   "outputs": [
    {
     "name": "stdout",
     "output_type": "stream",
     "text": [
      "(820906, 9)\n"
     ]
    },
    {
     "data": {
      "text/html": [
       "<div>\n",
       "<style scoped>\n",
       "    .dataframe tbody tr th:only-of-type {\n",
       "        vertical-align: middle;\n",
       "    }\n",
       "\n",
       "    .dataframe tbody tr th {\n",
       "        vertical-align: top;\n",
       "    }\n",
       "\n",
       "    .dataframe thead th {\n",
       "        text-align: right;\n",
       "    }\n",
       "</style>\n",
       "<table border=\"1\" class=\"dataframe\">\n",
       "  <thead>\n",
       "    <tr style=\"text-align: right;\">\n",
       "      <th></th>\n",
       "      <th>order_id</th>\n",
       "      <th>customer_id</th>\n",
       "      <th>product_id</th>\n",
       "      <th>quantity</th>\n",
       "      <th>price_unit</th>\n",
       "      <th>price_total</th>\n",
       "      <th>country_id</th>\n",
       "      <th>order_date</th>\n",
       "      <th>is_canceled</th>\n",
       "    </tr>\n",
       "  </thead>\n",
       "  <tbody>\n",
       "    <tr>\n",
       "      <th>183352</th>\n",
       "      <td>13066</td>\n",
       "      <td>618</td>\n",
       "      <td>254</td>\n",
       "      <td>1</td>\n",
       "      <td>165</td>\n",
       "      <td>165</td>\n",
       "      <td>0</td>\n",
       "      <td>2011-07-10 15:25:00</td>\n",
       "      <td>False</td>\n",
       "    </tr>\n",
       "    <tr>\n",
       "      <th>329853</th>\n",
       "      <td>21359</td>\n",
       "      <td>68</td>\n",
       "      <td>1596</td>\n",
       "      <td>2</td>\n",
       "      <td>195</td>\n",
       "      <td>390</td>\n",
       "      <td>0</td>\n",
       "      <td>2011-11-04 15:08:00</td>\n",
       "      <td>False</td>\n",
       "    </tr>\n",
       "    <tr>\n",
       "      <th>185886</th>\n",
       "      <td>13233</td>\n",
       "      <td>662</td>\n",
       "      <td>90</td>\n",
       "      <td>1</td>\n",
       "      <td>39</td>\n",
       "      <td>39</td>\n",
       "      <td>0</td>\n",
       "      <td>2011-07-13 12:06:00</td>\n",
       "      <td>False</td>\n",
       "    </tr>\n",
       "    <tr>\n",
       "      <th>197056</th>\n",
       "      <td>13923</td>\n",
       "      <td>3135</td>\n",
       "      <td>15</td>\n",
       "      <td>4</td>\n",
       "      <td>1195</td>\n",
       "      <td>4780</td>\n",
       "      <td>0</td>\n",
       "      <td>2011-07-24 16:05:00</td>\n",
       "      <td>False</td>\n",
       "    </tr>\n",
       "    <tr>\n",
       "      <th>41835</th>\n",
       "      <td>2951</td>\n",
       "      <td>1233</td>\n",
       "      <td>1183</td>\n",
       "      <td>10</td>\n",
       "      <td>145</td>\n",
       "      <td>1450</td>\n",
       "      <td>4</td>\n",
       "      <td>2011-01-24 10:12:00</td>\n",
       "      <td>False</td>\n",
       "    </tr>\n",
       "  </tbody>\n",
       "</table>\n",
       "</div>"
      ],
      "text/plain": [
       "        order_id  customer_id  product_id  quantity  price_unit  price_total  \\\n",
       "183352     13066          618         254         1         165          165   \n",
       "329853     21359           68        1596         2         195          390   \n",
       "185886     13233          662          90         1          39           39   \n",
       "197056     13923         3135          15         4        1195         4780   \n",
       "41835       2951         1233        1183        10         145         1450   \n",
       "\n",
       "        country_id          order_date  is_canceled  \n",
       "183352           0 2011-07-10 15:25:00        False  \n",
       "329853           0 2011-11-04 15:08:00        False  \n",
       "185886           0 2011-07-13 12:06:00        False  \n",
       "197056           0 2011-07-24 16:05:00        False  \n",
       "41835            4 2011-01-24 10:12:00        False  "
      ]
     },
     "execution_count": 4,
     "metadata": {},
     "output_type": "execute_result"
    }
   ],
   "source": [
    "df = pd.read_hdf(\"../input/data.h5\")\n",
    "\n",
    "print(df.shape)\n",
    "df.sample(5)"
   ]
  },
  {
   "cell_type": "markdown",
   "id": "cutting-entity",
   "metadata": {},
   "source": [
    "## 🎯 Zmienna docelowa \n",
    "\n",
    "Musimy ustalić, co chcemy prognazować. Możemy prognozować różne rzeczy, ML model chętnie nam w tym pomoże. Natomiast musimy jawnie mu pokazać, na czym nam zależy! Pomyśl w ten sposób. *Machine Learning* (ML) jest taką wróżką 🧚, która próbuje spełnić to, na czym nam zależy, ale musimy wiedzieć, czego chcemy :). \n",
    "\n",
    "Załóżmy, że na początek, chcemy umieć prognazować, czy klient X należy do segmentu `most_revenue_customer`. W takim razie policzmy `top_customers` (tak, jak to robiliśmy ostatnio)."
   ]
  },
  {
   "cell_type": "code",
   "execution_count": 5,
   "id": "exotic-exposure",
   "metadata": {},
   "outputs": [
    {
     "data": {
      "text/plain": [
       "0"
      ]
     },
     "execution_count": 5,
     "metadata": {},
     "output_type": "execute_result"
    }
   ],
   "source": [
    "df_customers = (\n",
    "    df[ [\"price_total\", \"customer_id\"] ]\n",
    "    .groupby(\"customer_id\")\n",
    "    .agg(\"sum\")\n",
    "    .reset_index()\n",
    "    .sort_values(by=\"price_total\", ascending=False)\n",
    "    .rename(columns={\"price_total\": \"customer_price_total\"})\n",
    ")\n",
    "\n",
    "\n",
    "df_customers[\"cumsum\"] = df_customers[\"customer_price_total\"].cumsum()\n",
    "value_80prc = int(df[\"price_total\"].sum() * 0.8)\n",
    "df_customers[\"most_revenue_customer\"] = df_customers[\"cumsum\"] < value_80prc\n",
    "\n",
    "\n",
    "top_customers = set(df_customers[ df_customers[\"most_revenue_customer\"] ][\"customer_id\"].unique())\n",
    "\n",
    "del df_customers\n",
    "gc.collect()"
   ]
  },
  {
   "cell_type": "markdown",
   "id": "patient-convert",
   "metadata": {},
   "source": [
    "Na końcu wywołaliśmy: \n",
    "\n",
    "```\n",
    "del df_customers\n",
    "gc.collect()\n",
    "```\n",
    "\n",
    "To dlatego, aby zwolnić pamięć. Już nie potrzebujemy zmiennej `df_customers`, potrzebowaliśmy jej to po to, aby wyliczyć `top_customers`. Słowa kluczowe `del` zwalnia zasoby, natomiast `gc.collect()` woła \"sprzątacz\" (ang. `garbage collector`), aby posprzątał jak najszybciej. \n",
    "\n",
    "Tak nawiasem mówiąc, fajnny jest ten świat IT - chcesz posprzątać 🗑️, wtedy wołasz `gc.collect()` i już masz 💪.\n",
    "\n",
    "\n",
    "## Klienci\n",
    "Teraz mamy nasz oryginalny zbiór danych sprowadzić do pojedyńczych klientów. Innymi słowy jeden wiersz to jeden unikalny klient. W tym celu użyjemy tak jak ostatnio `groupby` po `customer_id`.\n",
    "\n",
    "\n",
    "Dodatkowo zrobimy bardziej zaawansowaną agregację, ponieważ przyszedł na to już czas:).\n",
    "\n",
    "Jako przykład: `count_orders=(\"order_id\", lambda x: len(set(x)))`\n",
    "\n",
    "Ten wpis oznacza, że nowa kolumna będzie miała nazwę `count_orders`. Natomiast aby ta kolumna powstała, to bierzemy oryginalną kolumnę o nazwie `order_id` i używamy do tego funkcję agregującą `lambda x: len(set(x))`. Konkretnie w tym przypadku liczymy liczbę unikalnych zamowień.\n",
    "\n",
    "##### ☝️Uwaga! Jeśli to, co jest poniżej w `agg` dla Ciebie jest trudne, nie przejmuj się tym! Na ten moment to jest malo istotne, aby dokładnie zrozumieć, jak to pisze się na poziomie kodu. Ważne jest to, że rozumisz, że chcemy dla każdego klienta policzyć, ile ma zamówień albo ile kupił unikalnych produktów itd."
   ]
  },
  {
   "cell_type": "code",
   "execution_count": 6,
   "id": "lightweight-purse",
   "metadata": {},
   "outputs": [
    {
     "data": {
      "text/html": [
       "<div>\n",
       "<style scoped>\n",
       "    .dataframe tbody tr th:only-of-type {\n",
       "        vertical-align: middle;\n",
       "    }\n",
       "\n",
       "    .dataframe tbody tr th {\n",
       "        vertical-align: top;\n",
       "    }\n",
       "\n",
       "    .dataframe thead th {\n",
       "        text-align: right;\n",
       "    }\n",
       "</style>\n",
       "<table border=\"1\" class=\"dataframe\">\n",
       "  <thead>\n",
       "    <tr style=\"text-align: right;\">\n",
       "      <th></th>\n",
       "      <th>customer_id</th>\n",
       "      <th>count_orders</th>\n",
       "      <th>count_unq_products</th>\n",
       "      <th>sum_quantity</th>\n",
       "      <th>sum_price_unit</th>\n",
       "      <th>sum_price_total</th>\n",
       "      <th>count_unq_countries</th>\n",
       "      <th>prob_canceled</th>\n",
       "      <th>most_revenue_customer</th>\n",
       "    </tr>\n",
       "  </thead>\n",
       "  <tbody>\n",
       "    <tr>\n",
       "      <th>0</th>\n",
       "      <td>0</td>\n",
       "      <td>159</td>\n",
       "      <td>93</td>\n",
       "      <td>22976</td>\n",
       "      <td>895827</td>\n",
       "      <td>5746671</td>\n",
       "      <td>1</td>\n",
       "      <td>0.010966</td>\n",
       "      <td>True</td>\n",
       "    </tr>\n",
       "    <tr>\n",
       "      <th>1</th>\n",
       "      <td>1</td>\n",
       "      <td>40</td>\n",
       "      <td>184</td>\n",
       "      <td>3514</td>\n",
       "      <td>205962</td>\n",
       "      <td>910113</td>\n",
       "      <td>1</td>\n",
       "      <td>0.097727</td>\n",
       "      <td>True</td>\n",
       "    </tr>\n",
       "    <tr>\n",
       "      <th>2</th>\n",
       "      <td>2</td>\n",
       "      <td>30</td>\n",
       "      <td>139</td>\n",
       "      <td>8971</td>\n",
       "      <td>95500</td>\n",
       "      <td>1337464</td>\n",
       "      <td>1</td>\n",
       "      <td>0.009050</td>\n",
       "      <td>True</td>\n",
       "    </tr>\n",
       "    <tr>\n",
       "      <th>3</th>\n",
       "      <td>3</td>\n",
       "      <td>9</td>\n",
       "      <td>40</td>\n",
       "      <td>1108</td>\n",
       "      <td>18626</td>\n",
       "      <td>226381</td>\n",
       "      <td>1</td>\n",
       "      <td>0.000000</td>\n",
       "      <td>False</td>\n",
       "    </tr>\n",
       "    <tr>\n",
       "      <th>4</th>\n",
       "      <td>4</td>\n",
       "      <td>14</td>\n",
       "      <td>11</td>\n",
       "      <td>390</td>\n",
       "      <td>20028</td>\n",
       "      <td>346978</td>\n",
       "      <td>1</td>\n",
       "      <td>0.307692</td>\n",
       "      <td>True</td>\n",
       "    </tr>\n",
       "    <tr>\n",
       "      <th>...</th>\n",
       "      <td>...</td>\n",
       "      <td>...</td>\n",
       "      <td>...</td>\n",
       "      <td>...</td>\n",
       "      <td>...</td>\n",
       "      <td>...</td>\n",
       "      <td>...</td>\n",
       "      <td>...</td>\n",
       "      <td>...</td>\n",
       "    </tr>\n",
       "    <tr>\n",
       "      <th>5874</th>\n",
       "      <td>5874</td>\n",
       "      <td>2</td>\n",
       "      <td>46</td>\n",
       "      <td>213</td>\n",
       "      <td>15654</td>\n",
       "      <td>48343</td>\n",
       "      <td>1</td>\n",
       "      <td>0.040000</td>\n",
       "      <td>False</td>\n",
       "    </tr>\n",
       "    <tr>\n",
       "      <th>5875</th>\n",
       "      <td>5875</td>\n",
       "      <td>1</td>\n",
       "      <td>21</td>\n",
       "      <td>261</td>\n",
       "      <td>4944</td>\n",
       "      <td>30081</td>\n",
       "      <td>1</td>\n",
       "      <td>0.000000</td>\n",
       "      <td>False</td>\n",
       "    </tr>\n",
       "    <tr>\n",
       "      <th>5876</th>\n",
       "      <td>5876</td>\n",
       "      <td>1</td>\n",
       "      <td>69</td>\n",
       "      <td>367</td>\n",
       "      <td>33622</td>\n",
       "      <td>110868</td>\n",
       "      <td>1</td>\n",
       "      <td>0.000000</td>\n",
       "      <td>False</td>\n",
       "    </tr>\n",
       "    <tr>\n",
       "      <th>5877</th>\n",
       "      <td>5877</td>\n",
       "      <td>1</td>\n",
       "      <td>33</td>\n",
       "      <td>85</td>\n",
       "      <td>7995</td>\n",
       "      <td>13458</td>\n",
       "      <td>1</td>\n",
       "      <td>0.000000</td>\n",
       "      <td>False</td>\n",
       "    </tr>\n",
       "    <tr>\n",
       "      <th>5878</th>\n",
       "      <td>5878</td>\n",
       "      <td>2</td>\n",
       "      <td>1</td>\n",
       "      <td>2</td>\n",
       "      <td>2190</td>\n",
       "      <td>2190</td>\n",
       "      <td>1</td>\n",
       "      <td>0.500000</td>\n",
       "      <td>False</td>\n",
       "    </tr>\n",
       "  </tbody>\n",
       "</table>\n",
       "<p>5879 rows × 9 columns</p>\n",
       "</div>"
      ],
      "text/plain": [
       "      customer_id  count_orders  count_unq_products  sum_quantity  \\\n",
       "0               0           159                  93         22976   \n",
       "1               1            40                 184          3514   \n",
       "2               2            30                 139          8971   \n",
       "3               3             9                  40          1108   \n",
       "4               4            14                  11           390   \n",
       "...           ...           ...                 ...           ...   \n",
       "5874         5874             2                  46           213   \n",
       "5875         5875             1                  21           261   \n",
       "5876         5876             1                  69           367   \n",
       "5877         5877             1                  33            85   \n",
       "5878         5878             2                   1             2   \n",
       "\n",
       "      sum_price_unit  sum_price_total  count_unq_countries  prob_canceled  \\\n",
       "0             895827          5746671                    1       0.010966   \n",
       "1             205962           910113                    1       0.097727   \n",
       "2              95500          1337464                    1       0.009050   \n",
       "3              18626           226381                    1       0.000000   \n",
       "4              20028           346978                    1       0.307692   \n",
       "...              ...              ...                  ...            ...   \n",
       "5874           15654            48343                    1       0.040000   \n",
       "5875            4944            30081                    1       0.000000   \n",
       "5876           33622           110868                    1       0.000000   \n",
       "5877            7995            13458                    1       0.000000   \n",
       "5878            2190             2190                    1       0.500000   \n",
       "\n",
       "      most_revenue_customer  \n",
       "0                      True  \n",
       "1                      True  \n",
       "2                      True  \n",
       "3                     False  \n",
       "4                      True  \n",
       "...                     ...  \n",
       "5874                  False  \n",
       "5875                  False  \n",
       "5876                  False  \n",
       "5877                  False  \n",
       "5878                  False  \n",
       "\n",
       "[5879 rows x 9 columns]"
      ]
     },
     "execution_count": 6,
     "metadata": {},
     "output_type": "execute_result"
    }
   ],
   "source": [
    "df_customers = (\n",
    "    df\n",
    "    .groupby(\"customer_id\", as_index=False)\n",
    "    .agg(\n",
    "        count_orders=(\"order_id\", lambda x: len(set(x))),\n",
    "        count_unq_products=(\"product_id\", lambda x: len(set(x))),\n",
    "        sum_quantity=(\"quantity\", np.sum),\n",
    "        sum_price_unit=(\"price_unit\", np.sum),\n",
    "        sum_price_total=(\"price_total\", np.sum),\n",
    "        count_unq_countries=(\"country_id\", lambda x: len(set(x))),\n",
    "        prob_canceled=(\"is_canceled\", np.mean)\n",
    "    )\n",
    ")\n",
    "\n",
    "df_customers[\"most_revenue_customer\"] = df_customers[\"customer_id\"].map(lambda x: x in top_customers)\n",
    "\n",
    "df_customers"
   ]
  },
  {
   "cell_type": "markdown",
   "id": "recent-california",
   "metadata": {},
   "source": [
    "Dodatkowo używaliśmy wcześniej wyliczonego `top_customers`, aby powstała nasza zmienna docelowa `most_revenue_customer`.\n",
    "\n",
    "Sprawdźmy przy okazji (przypomnijmy), jaki jest rozkład."
   ]
  },
  {
   "cell_type": "code",
   "execution_count": 7,
   "id": "talented-arizona",
   "metadata": {},
   "outputs": [
    {
     "data": {
      "text/plain": [
       "False    0.774792\n",
       "True     0.225208\n",
       "Name: most_revenue_customer, dtype: float64"
      ]
     },
     "execution_count": 7,
     "metadata": {},
     "output_type": "execute_result"
    }
   ],
   "source": [
    "df_customers[\"most_revenue_customer\"].value_counts(normalize=True)"
   ]
  },
  {
   "cell_type": "markdown",
   "id": "finished-harassment",
   "metadata": {},
   "source": [
    "Mamy 22,5% klilentów należących do `top_customers`. \n",
    "\n",
    "Dobra! Czas na trenowanie modelu."
   ]
  },
  {
   "cell_type": "markdown",
   "id": "posted-occurrence",
   "metadata": {},
   "source": [
    "# Szybki słowniczek ML\n",
    "\n",
    "\n",
    "## Co to jest algorytm (np. drzewa decyzyjne)?\n",
    "To jest pewna sekwencja kroków, która będzie wykonywana, aby trenować model (i nauczyć go najlepiej).\n",
    "\n",
    "\n",
    "## Czym jest model?\n",
    "Jest pewnym \"stanem\" tego, co udało się znaleźć w danych historycznych.\n",
    "\n",
    "Przykład przez analogię.\n",
    "\n",
    "Algorytm - to jest przepis na danie. Model to jest przygotowane dane. \n",
    "Przepis jest jeden, ale dań może powstać million i będą różne w zależności od tego, co było podane \"na wejściu\" (wrzucone do miski).\n",
    "\n",
    "\n",
    "## Co to oznacza trenować model?\n",
    "\n",
    "Jest to proces, kiedy model poszukuje zależności (korelacji) w danych historycznych. Wynikiem trenowania jest model, którego potem możemy używać do prognozowania przyszłości (lub w inny sposób, są różne kreatywne podejścia).\n",
    "\n",
    "\n",
    "## Co to są cechy?\n",
    "To są właściwości obiektów. W naszym przypadku cechami dla klienta może być: liczba zamówień, liczba produktów itd.\n",
    "\n",
    "Można powiedzieć, że cechy to są kolumny w naszej tablicy (pomijając zmienną docelową).\n",
    "\n",
    "## Co to jest zmienna docelowa?\n",
    "To jest to, co model będzie prognozował. \n",
    "\n",
    "Można powiedzieć, że to jest kolumna w naszej tabeli, na której nam zależy.\n",
    "\n",
    "\n",
    "## Dlaczego zmienna docelowa nie może być w cechach?\n",
    "Model jest \"sprytny\". On od razu \"złapie\", że to jest odpowiedź i będzie ją zwracał. Natomiast jaka jest z tego wartość? Jeśli ma z góry wiadomą odpowiedź. To nie ma sensu przepuszczać tego przez model.\n",
    "\n",
    "Przykład.\n",
    "\n",
    "Jeśli my z góry wiemy, że ten klient należy do segmentu `top_customers`, to już to wiemy. Po co nam wtedy model? Druga sprawa, że zwykle nie wiemy, ale znamy inne cechy tego klienta (np. ilu już dokonał zamówień, jakie produkty kupił itd.) i na podstawie tej informacji próbujemy wnioskować, czy będzie należał do segmentu `top_customers` czy też nie.\n",
    "\n",
    "\n",
    "## Po co trenujemy model?\n",
    "Zwykle po to, aby prognozować w przyszłość. W naszym przypadku chodzi o bardziej kreatywne podejście i dokładnie to zobaczysz jutro. Dzisiaj skupmy się na tym, aby wytrenować model i to dobrze, wg metryki sukcesu.\n",
    "\n",
    "\n",
    "## Co to jest metryka sukcesu?\n",
    "To jest sposób, aby zmierzyć jakość modelu. Pomyśl o tym w ten sposób. Mamy dwa różne modele. Mamy dwa rożne wyniki, w jaki sposób możemy stwierdzić, który model jest lepszy? Metryka sukcesu sprowadza się do tego, że \"kompresuje\" jakość modelu do pojedynczej liczby. Wtedy dwa różne modele dostaje dwie różne liczby, które można porównać pomiędzy sobą.\n",
    "\n",
    "Przykładową metryką jest dokładność. Np. model A ma dokładność 95%, model B ma 99%. Wychodzi na to, ze model B jest lepszy. Chociaż co do metryki jest bardzo dużo niuansów, które koniecznie trzeba rozumieć, ale nie wnikajmy w te szczególiki teraz.\n",
    "\n",
    "\n",
    "\n",
    "### 🤔Zwróć uwagę, że liczba pytań \"dlaczego?\" może być znacznie większa. Celem DWthon jest bardziej przeprowadzić Cię od punktu A do punktu B  i pokazać, że też możesz, nawet jeśli czasem bardzo mocno prowadzę Ci rączkę. Jeśli sam proces Ci spodobał się to kolejnym krokiem jest poznać więcej szczegółów, jak działa model, jak działa walidacja i jeszcze sporo ważnych niuansów. Zapraszam Cię na 8 tygodniowy [online kurs praktyczne uczenie maszynowe od podstaw](https://bit.ly/3cnCk3K). Już mamy sprzedanych 1000+. Tu możesz zobaczyć [opinie absolwentów](https://bit.ly/3vcz3wU).\n",
    "\n",
    "\n",
    "Przygotujemy teraz cechy.\n",
    "\n",
    "Poniżej będzie kod, który robi prostą rzeczy, mianowicie zostawia tylko takie kolumne, które są numerczyne albo `boolean` (czyli kolumne, które mają wartości `True` lub `False`)."
   ]
  },
  {
   "cell_type": "code",
   "execution_count": 8,
   "id": "union-french",
   "metadata": {},
   "outputs": [
    {
     "data": {
      "text/plain": [
       "['customer_id',\n",
       " 'count_orders',\n",
       " 'count_unq_products',\n",
       " 'sum_quantity',\n",
       " 'sum_price_unit',\n",
       " 'sum_price_total',\n",
       " 'count_unq_countries',\n",
       " 'prob_canceled',\n",
       " 'most_revenue_customer']"
      ]
     },
     "execution_count": 8,
     "metadata": {},
     "output_type": "execute_result"
    }
   ],
   "source": [
    "feats = list(df_customers.select_dtypes([np.number, bool]).columns)\n",
    "\n",
    "feats"
   ]
  },
  {
   "cell_type": "markdown",
   "id": "blond-commonwealth",
   "metadata": {},
   "source": [
    "Jak widzisz mamy już nazwy cech, ale trafiło do nich `most_revenue_customer`, czyli nasza zmienna docelowa. Należy ją usunąć. Możemy zrobić taką listę cech, którą chemy zignorować. W tej chwili w tej liście będzie tylko jedna kolumna `most_revenue_customer`, ale spokojnie można dodawać więcej."
   ]
  },
  {
   "cell_type": "code",
   "execution_count": null,
   "id": "union-anthony",
   "metadata": {},
   "outputs": [],
   "source": [
    "black_list = [\"most_revenue_customer\"]\n",
    "feats = [x for x in feats if x not in black_list]"
   ]
  },
  {
   "cell_type": "markdown",
   "id": "amateur-assembly",
   "metadata": {},
   "source": [
    "Został nam minimalny krok do postawienia, aby powstał tak zwany `X` oraz `y`.\n",
    "\n",
    "- `X` - to jest macierz cech.\n",
    "- `y` - to jest nasza zmienna docelowa."
   ]
  },
  {
   "cell_type": "code",
   "execution_count": 9,
   "id": "heard-handling",
   "metadata": {},
   "outputs": [],
   "source": [
    "X = df_customers[feats].values\n",
    "y = df_customers[\"most_revenue_customer\"].values"
   ]
  },
  {
   "cell_type": "markdown",
   "id": "nearby-crime",
   "metadata": {},
   "source": [
    "### Trenujemy model\n",
    "\n",
    "Na początkek użyjemy drzewa decyzjnego. Jak wspomniałem wcześniej, nie musisz wiedzieć z góry, jak działa ten model, potraktuj go jako \"black-box\", który \"jakoś\" potrafi się uczyć."
   ]
  },
  {
   "cell_type": "code",
   "execution_count": 10,
   "id": "functional-testament",
   "metadata": {},
   "outputs": [
    {
     "data": {
      "text/plain": [
       "(1.0, 0.0)"
      ]
     },
     "execution_count": 10,
     "metadata": {},
     "output_type": "execute_result"
    }
   ],
   "source": [
    "scores = cross_val_score(DecisionTreeClassifier(max_depth=5), X, y, scoring=\"accuracy\", cv=5)\n",
    "np.mean(scores), np.std(scores)"
   ]
  },
  {
   "cell_type": "markdown",
   "id": "romance-helicopter",
   "metadata": {},
   "source": [
    "Dostaliśmy bardzo dobry wynik: 99% dokładności. Gratuluję! Wlaśnie powstał Twój pierwszy model."
   ]
  },
  {
   "cell_type": "markdown",
   "id": "fixed-mandate",
   "metadata": {},
   "source": [
    "## Zadanie 4.1\n",
    "\n",
    "Przed chwilą trenowaliśmy model dla `top_customers`. Twoim zadaniem jest wytrenować model `top_products`\n",
    "\n",
    "\n",
    "### 💡 Podpowiedzi: \n",
    "\n",
    "1. Najpierw przygotuj zbiór `top_products`.\n",
    "2. Następnie przygotuj `df_products`, który będzie zawierał przydatne cechy (zainspiruj się jak to zrobiliśmy dla `df_customers`).\n",
    "3. Następnie przygotuj `feats`, `X` i `y`.\n",
    "4. Wytrenuj model (np. `DecisionTreeClassifier`). \n",
    "5. Podziel się wynikiem :) "
   ]
  },
  {
   "cell_type": "code",
   "execution_count": null,
   "id": "filled-unemployment",
   "metadata": {},
   "outputs": [],
   "source": [
    "## YOUR CODE HERE"
   ]
  },
  {
   "cell_type": "markdown",
   "id": "circular-armstrong",
   "metadata": {},
   "source": [
    "Jak **wykonasz** zadanie, należy zrobić:\n",
    "\n",
    "1. Zrzut ekranu na którym widać rozwiązania, wtedy dostaniesz bonus :)\n",
    "2. Wrzucić rozwiązanie na slacku do pokoju **[#dwthon_day4_done](https://bit.ly/30yqIWm)**\n",
    "3. Dostać bonus za dobrą robotę 💪 i jutro będzie kolejna porcja.\n",
    "\n",
    "*Uwaga! Jeśli masz problem z jakimś zadaniem, czegoś nie wiesz, to pamiętaj, że możesz zadawać pytania! Na tym polega nauka :) Pytania związane z 2 dniem DWthon zadawaj w kanale [#dwthon_day4](https://bit.ly/30zgHbn)*."
   ]
  },
  {
   "cell_type": "markdown",
   "id": "naked-identification",
   "metadata": {},
   "source": [
    "## Dodatkowe zadania\n",
    "\n",
    "\n",
    "Przechodzimy do dodatkowych zadań i rozważań. Nie musiz tego robić, ale chyba warto :)."
   ]
  },
  {
   "cell_type": "markdown",
   "id": "working-tonight",
   "metadata": {},
   "source": [
    "## 🧠 Włączmy myślenie krytycznie\n",
    "\n",
    "\n",
    "Pomyślmy, co tak dokładnie teraz robimy.\n",
    "\n",
    "Mamy listę naszych klientów w momencie X (ostatni zakup), ale przecież oś czasu jest bardzo ważna. Zbadajmy to na przykładzie."
   ]
  },
  {
   "cell_type": "code",
   "execution_count": 11,
   "id": "equivalent-myanmar",
   "metadata": {},
   "outputs": [
    {
     "data": {
      "text/plain": [
       "(Timestamp('2009-12-01 07:45:00'), Timestamp('2011-12-09 12:50:00'))"
      ]
     },
     "execution_count": 11,
     "metadata": {},
     "output_type": "execute_result"
    }
   ],
   "source": [
    "df[\"order_date\"].min(), df[\"order_date\"].max()"
   ]
  },
  {
   "cell_type": "markdown",
   "id": "touched-hudson",
   "metadata": {},
   "source": [
    "Mamy dane od `2009-12-01 07:45:00` do `2011-12-09 12:50:00`. \n",
    "\n",
    "Jak trenujemy model, to do modelu przekazujemy całą historię, jaką mamy na temat klienta. To wszystko powoduje, że model uczy się na sytuacjach, kiedy już o kliencie wiemy \"dość dużo\". Tak naprawdę może być tak, że już nie trzeba złożonego modelu, aby zobaczyć, że to jest klient z segmentu `top_customer`.\n",
    "\n",
    "Fajnie było trenować model trochę inaczej i wykrywać jego potencjał jeszcze na samym początku.\n",
    "\n",
    "Pomyśl o tym w ten sposób.\n",
    "\n",
    "\n",
    "Mamy historię o kliencie np. na 2 lata. Wiemy, że on jest w segmencie `top_customer`. Natomiast do tego segmentu dołączył się dopiero... powiedzmy po 15 miesiącach. Jeśli przesuniemy w czasie to pomiędzy 0-15 miesiącem nie było jednoznaczności, że ten klient będzie w `top_customer`, po 15 miesiącach już tam jest, więc nawet nie trzeba ML, aby to uznać.\n",
    "\n",
    "\n",
    "### Co możemy zrobić?\n",
    "No właśnie to jest dobre pytanie. Zrozumienie osi czasu w ML jest bardzo ważne i z mojego doświadczenia wynika, że właśnie tutaj popełnia się najwięcej błędów w szczególności przez początkujących.\n",
    "\n",
    "\n",
    "## 🧠 Włączmy myślenie krytycznie\n",
    "Porozważajmy, jak możemy wykorzystać naszą sytuację. \n",
    "\n",
    "1. Wiemy, czym się \"skończy\" (bo już jest w `top_customers`) lub tego jeszcze nie wiemy, bo ktoś tam będzie w przyszłości (danych tych nie mamy jeszcze).\n",
    "2. Ale chcemy pokazać modelowi tylko odcinek danych (np. znamy historię sprzed 2 lat, ale modelowi pokazujemy tylko pierwsze 10 miesięcy, 12 miesięcy , 15 miesięcy).\n",
    "\n",
    "\n",
    "Porozważaj, jak możemy trenować model, aby z jednej strony model dostawał jak najmniej informacji (czyli jak najszybciej był wstanie \"rozpoznać\" potencjał). Jakie są plusy i minusy (przynajmniej w Twoim odczuciu).\n",
    "\n",
    "\n",
    "#### ☝️Zwróć uwagę, że to nie chodzi o techniczną \"rozkminę\", jak to zrobić (jakoś to się napisze lub kogoś można zapytać). Chodzi bardziej, aby przemyśleć to koncepcyjnie, czyli pomyśleć, co chcemy osiągnąć :) \n",
    "\n",
    "Na czym nam zależy? Czy model ma nauczyć sie na już bardziej zaawansowanym \"stanie\" klienta, kiedy historia jest wystarczająco długa (np. 1-2 lata i tak już wiadoma, kto jest kto), czy bardziej wykrywać jak najwcześniej \"złoty potencjał\". To drugie brzmi jak coś, co ma znacznie wiecej wartości dodanej. Tutaj też Machine Learning może mieć przewagę nad \"klasyczną analityką\"."
   ]
  },
  {
   "cell_type": "markdown",
   "id": "occupied-exclusive",
   "metadata": {},
   "source": [
    "## 🤝🗣️ Uruchom kooperację i komunikację\n",
    "\n",
    "\n",
    "Fajnie byłoby o tym podyskutować :) \n",
    "\n",
    "\n",
    "#### ☝️ Podziel się swoimi przemyśleniami na slacku **[#dwthon_day4_ideas](https://bit.ly/3tcKIdn)**. Jeśli masz pomysł, ale nie masz kodu - poproś na slacku o pomoc, aby ktoś pomógł Ci napisać kod. Natomiast jeśli masz kod, to koniecznie podziel się. Dzięki temu ktoś inny będzie w stanie łatwo powtórzyć i podzielić się swoimi przemyśleniami. Dzięki temu każdy zyskuje :).\n",
    "\n",
    "Uwaga! Aby to było czytelne, proponuję dodawać tagi do wiadmości na samym początku.\n",
    "\n",
    "Na przykład.\n",
    "```\n",
    "#how_to_train_model\n",
    "\n",
    "Moje wnioski ...\n",
    "1. ...\n",
    "2. ...\n",
    "3. ...\n",
    "```\n",
    "\n",
    "Zawartość pisz, jak Ci jest wygodnie, ale zacznijmy od tagu `#how_to_train_model`, dzięki temu łatwiej będzie można filtrować wśród innych wiadomości.\n",
    "\n",
    "--- \n"
   ]
  },
  {
   "cell_type": "markdown",
   "id": "cutting-priest",
   "metadata": {},
   "source": [
    "\n",
    "## Twój Feedback \n",
    "\n",
    "Daj mi znać koniecznie, co sprawiło Ci przyjemność, co trudność oraz czego udało się nauczyć w tej krótkiej [ankiecie](https://bit.ly/3evstvs). Pozwoli mi ona ulepszyć zadania, a Tobie lepiej trakować swój rozwój: win-win 😇 "
   ]
  },
  {
   "cell_type": "markdown",
   "id": "latter-vacation",
   "metadata": {},
   "source": [
    "## Widzimy się jutro!  🙌"
   ]
  }
 ],
 "metadata": {
  "kernelspec": {
   "display_name": "Python 3",
   "language": "python",
   "name": "python3"
  },
  "language_info": {
   "codemirror_mode": {
    "name": "ipython",
    "version": 3
   },
   "file_extension": ".py",
   "mimetype": "text/x-python",
   "name": "python",
   "nbconvert_exporter": "python",
   "pygments_lexer": "ipython3",
   "version": "3.8.6"
  }
 },
 "nbformat": 4,
 "nbformat_minor": 5
}
