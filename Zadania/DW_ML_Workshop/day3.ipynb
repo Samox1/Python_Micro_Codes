{
 "cells": [
  {
   "cell_type": "markdown",
   "metadata": {},
   "source": [
    "# Dzień trzeci DWthon - Hack Outside the Box \n",
    "\n",
    "### Celem jest wynajdywać wyróżniające cechy dla grup 80/20\n",
    "\n",
    "To jest krok dalej od tego, że wiemy o zasadzie 80/20. Teraz próbujemy nauczyć się opisać obiekty (produkty, klienci, zamówienia itd) przy pomocy cech, które wyróżniają najważniejsze (to na czym nam zależy). Dzięki czemu możemy szybciej, łatwie i efektywniej ustawiać priorytety i zarządzać swoją pracą."
   ]
  },
  {
   "cell_type": "markdown",
   "metadata": {},
   "source": [
    "### Zanim zaczniemy | ważne (!)\n",
    "\n",
    "Każdy dzień DWthon - hack outside the box ma dedykowaną ankietę. Wypełnij ją zanim przejdziesz do nauki. Zajmie Ci to tylko 3 minutki ;) \n",
    "\n",
    "### [Wypełnij ankietę](https://bit.ly/2N13YLk)  i mierz deltę swego rozwoju :) "
   ]
  },
  {
   "cell_type": "markdown",
   "metadata": {},
   "source": [
    "### Gdzie zadawać pytania ❓ \n",
    "\n",
    "Jeśli napotkasz trudności podczas wykonywania zadań z tego notebooka, to koniecznie napisz w kanale [dwthon_day3](https://bit.ly/2N0iCCw)\n",
    "\n",
    "Pamiętaj, aby szczegółowo doprecyzować, z czym masz problem. Najlepiej wrzuć screen z kodem swoim lub błędem, który widzisz i napisz, którego zadania dotyczy :) "
   ]
  },
  {
   "cell_type": "code",
   "execution_count": 2,
   "metadata": {},
   "outputs": [
    {
     "data": {
      "text/html": [
       "<iframe style=\"height:500px;width:100%\" src=\"https://www.youtube.com/embed/QzfFluxbkyw\" frameborder=\"0\" allow=\"autoplay; encrypted-media\" allowfullscreen></iframe>\n"
      ],
      "text/plain": [
       "<IPython.core.display.HTML object>"
      ]
     },
     "metadata": {},
     "output_type": "display_data"
    }
   ],
   "source": [
    "%%html\n",
    "<iframe style=\"height:500px;width:100%\" src=\"https://www.youtube.com/embed/QzfFluxbkyw\" frameborder=\"0\" allow=\"autoplay; encrypted-media\" allowfullscreen></iframe>"
   ]
  },
  {
   "cell_type": "markdown",
   "metadata": {},
   "source": [
    "### Krok po kroku \n",
    "\n",
    "Nagrałem dla Ciebie także materiał wideo \"krok po kroku\". W wideo poniżej znajduje się dokładnie to, co w tym notebooku tylko tłumaczę wszystko, aby ułatwić Ci pracę i zrozumienie zagadnień i zadań :) Obejrzyj, jeśli potrzebujesz takiego dodatkowego wsparcia. "
   ]
  },
  {
   "cell_type": "code",
   "execution_count": 1,
   "metadata": {},
   "outputs": [
    {
     "data": {
      "text/html": [
       "<iframe style=\"height:500px;width:100%\" src=\"https://www.youtube.com/embed/bH8GIJLKMsE\" frameborder=\"0\" allow=\"autoplay; encrypted-media\" allowfullscreen></iframe>\n"
      ],
      "text/plain": [
       "<IPython.core.display.HTML object>"
      ]
     },
     "metadata": {},
     "output_type": "display_data"
    }
   ],
   "source": [
    "%%html\n",
    "<iframe style=\"height:500px;width:100%\" src=\"https://www.youtube.com/embed/bH8GIJLKMsE\" frameborder=\"0\" allow=\"autoplay; encrypted-media\" allowfullscreen></iframe>"
   ]
  },
  {
   "cell_type": "markdown",
   "metadata": {},
   "source": [
    "## Biblioteki\n",
    "\n",
    "Oprócz `pandas` wczytajmy graficzne `matplotlib` z ustawieniami (trochę będzie wykresów, w szczególności w dodatkowej części)."
   ]
  },
  {
   "cell_type": "code",
   "execution_count": 2,
   "metadata": {},
   "outputs": [],
   "source": [
    "import pandas as pd\n",
    "\n",
    "import matplotlib\n",
    "import matplotlib.pyplot as plt\n",
    "plt.style.use('ggplot')\n",
    "matplotlib.rcParams['figure.figsize'] = (12, 5)"
   ]
  },
  {
   "cell_type": "markdown",
   "metadata": {},
   "source": [
    "## Wczytajmy dane\n",
    "\n",
    "Pamiętasz, jak to zrobić, prawda? Używamy do tego funkcji `pd.read_hdf`."
   ]
  },
  {
   "cell_type": "code",
   "execution_count": 3,
   "metadata": {},
   "outputs": [
    {
     "name": "stdout",
     "output_type": "stream",
     "text": [
      "(820906, 9)\n"
     ]
    },
    {
     "data": {
      "text/html": [
       "<div>\n",
       "<style scoped>\n",
       "    .dataframe tbody tr th:only-of-type {\n",
       "        vertical-align: middle;\n",
       "    }\n",
       "\n",
       "    .dataframe tbody tr th {\n",
       "        vertical-align: top;\n",
       "    }\n",
       "\n",
       "    .dataframe thead th {\n",
       "        text-align: right;\n",
       "    }\n",
       "</style>\n",
       "<table border=\"1\" class=\"dataframe\">\n",
       "  <thead>\n",
       "    <tr style=\"text-align: right;\">\n",
       "      <th></th>\n",
       "      <th>order_id</th>\n",
       "      <th>customer_id</th>\n",
       "      <th>product_id</th>\n",
       "      <th>quantity</th>\n",
       "      <th>price_unit</th>\n",
       "      <th>price_total</th>\n",
       "      <th>country_id</th>\n",
       "      <th>order_date</th>\n",
       "      <th>is_canceled</th>\n",
       "    </tr>\n",
       "  </thead>\n",
       "  <tbody>\n",
       "    <tr>\n",
       "      <th>778843</th>\n",
       "      <td>50672</td>\n",
       "      <td>2813</td>\n",
       "      <td>11</td>\n",
       "      <td>3</td>\n",
       "      <td>375</td>\n",
       "      <td>1125</td>\n",
       "      <td>0</td>\n",
       "      <td>2010-11-17 14:31:00</td>\n",
       "      <td>False</td>\n",
       "    </tr>\n",
       "    <tr>\n",
       "      <th>524183</th>\n",
       "      <td>33915</td>\n",
       "      <td>460</td>\n",
       "      <td>64</td>\n",
       "      <td>3</td>\n",
       "      <td>254</td>\n",
       "      <td>762</td>\n",
       "      <td>0</td>\n",
       "      <td>2010-04-13 13:21:00</td>\n",
       "      <td>False</td>\n",
       "    </tr>\n",
       "    <tr>\n",
       "      <th>394722</th>\n",
       "      <td>24735</td>\n",
       "      <td>4268</td>\n",
       "      <td>920</td>\n",
       "      <td>1</td>\n",
       "      <td>85</td>\n",
       "      <td>85</td>\n",
       "      <td>0</td>\n",
       "      <td>2011-12-05 12:46:00</td>\n",
       "      <td>False</td>\n",
       "    </tr>\n",
       "    <tr>\n",
       "      <th>248551</th>\n",
       "      <td>17090</td>\n",
       "      <td>1863</td>\n",
       "      <td>278</td>\n",
       "      <td>10</td>\n",
       "      <td>165</td>\n",
       "      <td>1650</td>\n",
       "      <td>0</td>\n",
       "      <td>2011-09-15 14:05:00</td>\n",
       "      <td>False</td>\n",
       "    </tr>\n",
       "    <tr>\n",
       "      <th>521565</th>\n",
       "      <td>33738</td>\n",
       "      <td>3917</td>\n",
       "      <td>453</td>\n",
       "      <td>6</td>\n",
       "      <td>165</td>\n",
       "      <td>990</td>\n",
       "      <td>0</td>\n",
       "      <td>2010-04-11 10:47:00</td>\n",
       "      <td>False</td>\n",
       "    </tr>\n",
       "  </tbody>\n",
       "</table>\n",
       "</div>"
      ],
      "text/plain": [
       "        order_id  customer_id  product_id  quantity  price_unit  price_total  \\\n",
       "778843     50672         2813          11         3         375         1125   \n",
       "524183     33915          460          64         3         254          762   \n",
       "394722     24735         4268         920         1          85           85   \n",
       "248551     17090         1863         278        10         165         1650   \n",
       "521565     33738         3917         453         6         165          990   \n",
       "\n",
       "        country_id          order_date  is_canceled  \n",
       "778843           0 2010-11-17 14:31:00        False  \n",
       "524183           0 2010-04-13 13:21:00        False  \n",
       "394722           0 2011-12-05 12:46:00        False  \n",
       "248551           0 2011-09-15 14:05:00        False  \n",
       "521565           0 2010-04-11 10:47:00        False  "
      ]
     },
     "execution_count": 3,
     "metadata": {},
     "output_type": "execute_result"
    }
   ],
   "source": [
    "df = pd.read_hdf(\"../input/data.h5\")\n",
    "\n",
    "print(df.shape)\n",
    "df.sample(5)"
   ]
  },
  {
   "cell_type": "markdown",
   "metadata": {},
   "source": [
    "## Zmienna docelowa\n",
    "\n",
    "Chcemy wiedzieć, dokąd dążymy. Trzeba wybrać grupy/segmenty - wyłonić \"mniejszość\", która daje \"większość\".\n",
    "\n",
    "Przypomnijmy kod z poprzedniej lekcji i obliczmy sumę skumulowaną."
   ]
  },
  {
   "cell_type": "code",
   "execution_count": 4,
   "metadata": {},
   "outputs": [
    {
     "data": {
      "text/html": [
       "<div>\n",
       "<style scoped>\n",
       "    .dataframe tbody tr th:only-of-type {\n",
       "        vertical-align: middle;\n",
       "    }\n",
       "\n",
       "    .dataframe tbody tr th {\n",
       "        vertical-align: top;\n",
       "    }\n",
       "\n",
       "    .dataframe thead th {\n",
       "        text-align: right;\n",
       "    }\n",
       "</style>\n",
       "<table border=\"1\" class=\"dataframe\">\n",
       "  <thead>\n",
       "    <tr style=\"text-align: right;\">\n",
       "      <th></th>\n",
       "      <th>customer_id</th>\n",
       "      <th>customer_price_total</th>\n",
       "      <th>cumsum</th>\n",
       "    </tr>\n",
       "  </thead>\n",
       "  <tbody>\n",
       "    <tr>\n",
       "      <th>448</th>\n",
       "      <td>448</td>\n",
       "      <td>61130939</td>\n",
       "      <td>61130939</td>\n",
       "    </tr>\n",
       "    <tr>\n",
       "      <th>907</th>\n",
       "      <td>907</td>\n",
       "      <td>53007160</td>\n",
       "      <td>114138099</td>\n",
       "    </tr>\n",
       "    <tr>\n",
       "      <th>2647</th>\n",
       "      <td>2647</td>\n",
       "      <td>33695110</td>\n",
       "      <td>147833209</td>\n",
       "    </tr>\n",
       "    <tr>\n",
       "      <th>179</th>\n",
       "      <td>179</td>\n",
       "      <td>31039769</td>\n",
       "      <td>178872978</td>\n",
       "    </tr>\n",
       "    <tr>\n",
       "      <th>66</th>\n",
       "      <td>66</td>\n",
       "      <td>29774259</td>\n",
       "      <td>208647237</td>\n",
       "    </tr>\n",
       "  </tbody>\n",
       "</table>\n",
       "</div>"
      ],
      "text/plain": [
       "      customer_id  customer_price_total     cumsum\n",
       "448           448              61130939   61130939\n",
       "907           907              53007160  114138099\n",
       "2647         2647              33695110  147833209\n",
       "179           179              31039769  178872978\n",
       "66             66              29774259  208647237"
      ]
     },
     "execution_count": 4,
     "metadata": {},
     "output_type": "execute_result"
    }
   ],
   "source": [
    "df_customers = (\n",
    "    df[ [\"price_total\", \"customer_id\"] ]\n",
    "    .groupby(\"customer_id\")\n",
    "    .agg(\"sum\")\n",
    "    .reset_index()\n",
    "    .sort_values(by=\"price_total\", ascending=False)\n",
    "    .rename(columns={\"price_total\": \"customer_price_total\"})\n",
    ")\n",
    "\n",
    "\n",
    "df_customers[\"cumsum\"] = df_customers[\"customer_price_total\"].cumsum()\n",
    "df_customers.head(5)"
   ]
  },
  {
   "cell_type": "markdown",
   "metadata": {},
   "source": [
    "Teraz chcemy stworzyć nową kolumnę o nazwie `most_revenue_customer`, gdzie wartością może być `True` lub `False`. \n",
    "\n",
    "Wartość `True` będzie wtedy, kiedy konkretnie ten klient jest w gronie ~20% procent, które wytwarzają 80% przychodów."
   ]
  },
  {
   "cell_type": "code",
   "execution_count": 5,
   "metadata": {},
   "outputs": [
    {
     "data": {
      "text/plain": [
       "False    4555\n",
       "True     1324\n",
       "Name: most_revenue_customer, dtype: int64"
      ]
     },
     "execution_count": 5,
     "metadata": {},
     "output_type": "execute_result"
    }
   ],
   "source": [
    "value_80prc = int(df[\"price_total\"].sum() * 0.8)\n",
    "df_customers[\"most_revenue_customer\"] = df_customers[\"cumsum\"] < value_80prc\n",
    "\n",
    "df_customers[\"most_revenue_customer\"].value_counts()"
   ]
  },
  {
   "cell_type": "markdown",
   "metadata": {},
   "source": [
    "Na końcu pojawiło się `value_counts()`. Zapamiętaj tę funkcję, bo często warto mieć ją pod ręką, aby sprawdzić, jakie są unikalne wartości w kolumnie i w jakiej ilości.\n",
    "\n",
    "W naszym przypadku mamy `1324` klientów, którzy należą do grona  kluczowych klientów dla biznesu, ponieważ przynoszą firmie 80% przychodów. Jeśli \"zgubimy\" tych klientów, to firma będzie miała -80% przychodów. Jeśli pominiemy resztę, firma będzie miała jedynie -20%. Czuć różnicę, prawda? \n",
    "\n",
    "Swoją drogą w `.value_counts` można znormalizować wynik (podając argument `normalize=True`). Zobaczysz wtedy wynik wyrażony w procentach. Czasem to jest wygodne. Zobacz, jak to się robi 👀."
   ]
  },
  {
   "cell_type": "code",
   "execution_count": 6,
   "metadata": {},
   "outputs": [
    {
     "data": {
      "text/plain": [
       "False    0.774792\n",
       "True     0.225208\n",
       "Name: most_revenue_customer, dtype: float64"
      ]
     },
     "execution_count": 6,
     "metadata": {},
     "output_type": "execute_result"
    }
   ],
   "source": [
    "df_customers[\"most_revenue_customer\"].value_counts(normalize=True)"
   ]
  },
  {
   "cell_type": "markdown",
   "metadata": {},
   "source": [
    "Widzimy że `most_revenue_customer` (czyli wartość `True`) ma **22,5%** (przemnożyłem w locie `0.225208 * 100%` i zaokrągliłem do `22,5%` 😉).\n",
    "\n",
    "\n",
    "Zapiszmy do osobnego zbioru klientów, którzy wygenerowali 80% przychodu. Do tego użyjmy `unique()`, który zwróci nam listę ID klientów (unikalnych ID, czyli każdy ID będzie występował dokładnie raz). Dodatkowo wynik konwertujemy do zbioru (czyli `set`), ale to robimy po to, aby szybciej się liczyło, jak będziemy dalej używać tego zbioru (sprawdzanie obecności czy dany klient/produkt w zbiorze wykonuje się wtedy zauważalnie szybciej)."
   ]
  },
  {
   "cell_type": "code",
   "execution_count": 7,
   "metadata": {},
   "outputs": [
    {
     "data": {
      "text/plain": [
       "1324"
      ]
     },
     "execution_count": 7,
     "metadata": {},
     "output_type": "execute_result"
    }
   ],
   "source": [
    "top_customers = set(df_customers[ df_customers[\"most_revenue_customer\"] ][\"customer_id\"].unique())\n",
    "len(top_customers)"
   ]
  },
  {
   "cell_type": "markdown",
   "metadata": {},
   "source": [
    "Możemy teraz też dodać nową kolumnę `most_revenue_customer` w oryginalnym `df`. Używając funkcji `map` iterujemy wartość po wartości i sprawdzamy, czy klient (`customer_id`) jest w zbiorze `top_customers`. Są dwie możliwe odpowiedzi: tak lub nie (`True`/`False`)."
   ]
  },
  {
   "cell_type": "code",
   "execution_count": 8,
   "metadata": {},
   "outputs": [
    {
     "data": {
      "text/plain": [
       "True     539072\n",
       "False    281834\n",
       "Name: most_revenue_customer, dtype: int64"
      ]
     },
     "execution_count": 8,
     "metadata": {},
     "output_type": "execute_result"
    }
   ],
   "source": [
    "df[\"most_revenue_customer\"] = df[\"customer_id\"].map(lambda x: x in top_customers)\n",
    "df[\"most_revenue_customer\"].value_counts()"
   ]
  },
  {
   "cell_type": "markdown",
   "metadata": {},
   "source": [
    "Dodatkowo w tym przypadku pojawiła się `lambda`, tak zwana funkcja anonimowa. Akurat teraz nie będę wchodzić w szczegóły. Najważniejsze w tej funkcji `lambda x: x in top_customers` jest ciało tej funkcji, czyli ten warunek `x in top_customers`. Gdzie `x` to jest nazwa zmiennej, w tym przypadku `x` to `customer_id`. \n",
    "\n",
    "##### 🤔Jeśli na początek jest wiele niejasności i czujesz pewny dyskomfort 🤯, to jest normalne. Potrzebujesz trochę więcej czasu, aby to przyswoić. Też na ten temat jest osobny online kurs [\"Zacznij analizować dane w Python\"](https://bit.ly/3l3Hypw), gdzie przez 3 tygodnie jest więcej szczegółów między innymi o *lambda*, *pandas* i *numpy*. Wszystko, czego potrzebujesz, aby lepiej zacząć analizować dane w Python. Nie próbuj wszystkiego zrozumieć na raz! \n",
    "\n",
    "\n",
    "\n",
    "Zobaczmy też to w procentach."
   ]
  },
  {
   "cell_type": "code",
   "execution_count": 9,
   "metadata": {},
   "outputs": [
    {
     "data": {
      "text/plain": [
       "True     0.656679\n",
       "False    0.343321\n",
       "Name: most_revenue_customer, dtype: float64"
      ]
     },
     "execution_count": 9,
     "metadata": {},
     "output_type": "execute_result"
    }
   ],
   "source": [
    "df[\"most_revenue_customer\"].value_counts(normalize=True)"
   ]
  },
  {
   "cell_type": "markdown",
   "metadata": {},
   "source": [
    "Jak widać, najwięcej \"wierszy\" w naszym `df` wygenerowali klienci z segmentu `most_revenue_customer`. Co sugeruje, że ci klienci robili:\n",
    "- dużo zamówień; \n",
    "- zamawiali dużo różnych produktów w jednym zamówieniu. \n",
    "\n",
    "Sprawdzimy oba przypadki, aby lepiej zrozumieć, **co należy zrobić**, aby trafić do segmentu `most_revenue_customer`."
   ]
  },
  {
   "cell_type": "markdown",
   "metadata": {},
   "source": [
    "W takim razie wiemy, do czego chcemy dążyć. To i tak już dużo... 💪 Pomyśl przez chwilę, jak często wiesz, gdzie (i tym bardziej po co) zmierzasz? 🤔\n",
    "\n",
    "## Co z tego, że wiemy \"kto\", pytanie \"jak\"?\n",
    "Zarządzanie swoją energią jest kluczowe w życiu 🔋! Masz bardzo ograniczoną i skończoną liczbę energii. Po Twojej stronie jest decyzja, komu ją oddasz. Pomyśl, masz w kieszeni 100 zł. Możesz je wydać na wiele różnych sposobów, prawda? Zaczynając od tego, że możesz wyrzucić przez okno czy zakopać w ziemi, ale też możesz kupić książkę czy mini kurs i zainwestować w swój rozwój. Każda z tych decyzji wpłynie na to, gdzie będziesz za moment. To gdzie jesteś teraz to suma (skutek) wszystkich Twoich (świadomych lub nieświadomych) decyzji.\n",
    "\n",
    "\n",
    "#### Dlatego warto dbać o to, w jaki sposób zarządzasz swoją energią?\n",
    "\n",
    "Tak się składa, że część klientów przynosi większe dochody. To brzmi, że warto, aby takich klientów było więcej, prawda? Pytanie: jak można rozpoznać takich klientów patrząc w przyszłość, nie w przeszłość? Właściwie, jak możemy opisać takiego klienta?\n",
    "\n",
    "👀Zobacz, przed tym jak klient kupi jest bardzo dużo innych kosztów, np. koszty na reklamę. Dlatego fajnie byłoby z góry wiedzieć jak, czym się charakteryzuje \"idealny klient\" i najwięcej swojej uwagi i energii inwestować właśnie w pozyskanie takich osób, które potrzebują Twojego rozwiązania (produktu lub usługi). \n",
    "\n",
    "Innymi słowy, chcemy zrozumieć, czym się różnią \"idealni klienci\" od innych klientów. Swoją drogą tutaj słowa \"idealne\" można używać w wielu kontekstach: idealny klient, idealny produkt, idealne zamówienie, idealny okres czasu itd. To oznacza, że mamy sytuację, kiedy więcej można zrobić naturalnie łatwiej, bo jesteśmy we właściwym miejscu, z właściwym rozwiązaniem dla właściwych klientów itd.\n",
    "\n",
    "\n",
    "To brzmi, że każdy z tych wymiarów/obiektów (klient, produkt, zamówienie itd) posiada pewne właściwości, atrybuty lub cechy, dzięki którym możemy odróżnić \"idealne\" od \"innych\". W uczeniu maszynowym (ang. `machine learning`) takie właściwości nazywamy cechami (ang. `features`). Istnieje nawet proces (który jest bardzo ważny), jak tworzenie (wymyślanie) nowych cech, które lepiej opiszą obiekt (klient, produkt itd). Ten proces ma swoją nazwę - inżynieria cech (ang. `feature engineering`). \n",
    "\n",
    "Właśnie tym się zajmiemy :) \n",
    "\n",
    "\n",
    "## W jaki sposób możesz opisać klienta?\n",
    "\n",
    "Tworzenie nowych cech to bardziej sztuka niż nauka. Najlepiej to pokazywać na przykładach, bo nie ma uniwersalnego algorytmu. \n",
    "\n",
    "👀 Na pierwszy rzut oka może wydawać się, że mamy bardzo mało informacji o klientach, produktach (np. tylko ID), ale tak naprawdę jest tam znacznie więcej informacji, którą należy wydobyć.\n",
    "\n",
    "Zaczniemy od prostego przykładu związanego z klientami.\n",
    "\n",
    "### Ile klient ma zamówień?"
   ]
  },
  {
   "cell_type": "code",
   "execution_count": 10,
   "metadata": {},
   "outputs": [
    {
     "data": {
      "text/html": [
       "<div>\n",
       "<style scoped>\n",
       "    .dataframe tbody tr th:only-of-type {\n",
       "        vertical-align: middle;\n",
       "    }\n",
       "\n",
       "    .dataframe tbody tr th {\n",
       "        vertical-align: top;\n",
       "    }\n",
       "\n",
       "    .dataframe thead th {\n",
       "        text-align: right;\n",
       "    }\n",
       "</style>\n",
       "<table border=\"1\" class=\"dataframe\">\n",
       "  <thead>\n",
       "    <tr style=\"text-align: right;\">\n",
       "      <th></th>\n",
       "      <th>customer_id</th>\n",
       "      <th>count_orders</th>\n",
       "      <th>most_revenue_customer</th>\n",
       "    </tr>\n",
       "  </thead>\n",
       "  <tbody>\n",
       "    <tr>\n",
       "      <th>0</th>\n",
       "      <td>0</td>\n",
       "      <td>159</td>\n",
       "      <td>True</td>\n",
       "    </tr>\n",
       "    <tr>\n",
       "      <th>1</th>\n",
       "      <td>1</td>\n",
       "      <td>40</td>\n",
       "      <td>True</td>\n",
       "    </tr>\n",
       "    <tr>\n",
       "      <th>2</th>\n",
       "      <td>2</td>\n",
       "      <td>30</td>\n",
       "      <td>True</td>\n",
       "    </tr>\n",
       "    <tr>\n",
       "      <th>3</th>\n",
       "      <td>3</td>\n",
       "      <td>9</td>\n",
       "      <td>False</td>\n",
       "    </tr>\n",
       "    <tr>\n",
       "      <th>4</th>\n",
       "      <td>4</td>\n",
       "      <td>14</td>\n",
       "      <td>True</td>\n",
       "    </tr>\n",
       "    <tr>\n",
       "      <th>...</th>\n",
       "      <td>...</td>\n",
       "      <td>...</td>\n",
       "      <td>...</td>\n",
       "    </tr>\n",
       "    <tr>\n",
       "      <th>5874</th>\n",
       "      <td>5874</td>\n",
       "      <td>2</td>\n",
       "      <td>False</td>\n",
       "    </tr>\n",
       "    <tr>\n",
       "      <th>5875</th>\n",
       "      <td>5875</td>\n",
       "      <td>1</td>\n",
       "      <td>False</td>\n",
       "    </tr>\n",
       "    <tr>\n",
       "      <th>5876</th>\n",
       "      <td>5876</td>\n",
       "      <td>1</td>\n",
       "      <td>False</td>\n",
       "    </tr>\n",
       "    <tr>\n",
       "      <th>5877</th>\n",
       "      <td>5877</td>\n",
       "      <td>1</td>\n",
       "      <td>False</td>\n",
       "    </tr>\n",
       "    <tr>\n",
       "      <th>5878</th>\n",
       "      <td>5878</td>\n",
       "      <td>2</td>\n",
       "      <td>False</td>\n",
       "    </tr>\n",
       "  </tbody>\n",
       "</table>\n",
       "<p>5879 rows × 3 columns</p>\n",
       "</div>"
      ],
      "text/plain": [
       "      customer_id  count_orders  most_revenue_customer\n",
       "0               0           159                   True\n",
       "1               1            40                   True\n",
       "2               2            30                   True\n",
       "3               3             9                  False\n",
       "4               4            14                   True\n",
       "...           ...           ...                    ...\n",
       "5874         5874             2                  False\n",
       "5875         5875             1                  False\n",
       "5876         5876             1                  False\n",
       "5877         5877             1                  False\n",
       "5878         5878             2                  False\n",
       "\n",
       "[5879 rows x 3 columns]"
      ]
     },
     "execution_count": 10,
     "metadata": {},
     "output_type": "execute_result"
    }
   ],
   "source": [
    "df_customer_orders = (\n",
    "    df[ [\"customer_id\", \"order_id\"] ]\n",
    "        .groupby([\"customer_id\"])\n",
    "        .agg(lambda x: len(set(x)) )\n",
    "        .reset_index()\n",
    "        .rename(columns={\"order_id\": \"count_orders\"})\n",
    "        \n",
    ")\n",
    "\n",
    "df_customer_orders[\"most_revenue_customer\"] = df_customer_orders[\"customer_id\"].map(lambda x: x in top_customers)\n",
    "df_customer_orders"
   ]
  },
  {
   "cell_type": "markdown",
   "metadata": {},
   "source": [
    "☝️ Zwróć uwagę, że od razu też dodaliśmy nową kolumnę do `df_customer_orders` o nazwie `most_revenue_customer`, która ma `True` lub `False` jako wartość."
   ]
  },
  {
   "cell_type": "markdown",
   "metadata": {},
   "source": [
    "Widzimy, że `customer_id=0` ma 59 zamówień, `customer_id=5878` ma dwa zamówienia. Zróbmy na szybko `double-check`, aby upewnić się, że robimy to dobrze."
   ]
  },
  {
   "cell_type": "code",
   "execution_count": 11,
   "metadata": {},
   "outputs": [
    {
     "data": {
      "text/html": [
       "<div>\n",
       "<style scoped>\n",
       "    .dataframe tbody tr th:only-of-type {\n",
       "        vertical-align: middle;\n",
       "    }\n",
       "\n",
       "    .dataframe tbody tr th {\n",
       "        vertical-align: top;\n",
       "    }\n",
       "\n",
       "    .dataframe thead th {\n",
       "        text-align: right;\n",
       "    }\n",
       "</style>\n",
       "<table border=\"1\" class=\"dataframe\">\n",
       "  <thead>\n",
       "    <tr style=\"text-align: right;\">\n",
       "      <th></th>\n",
       "      <th>customer_id</th>\n",
       "      <th>order_id</th>\n",
       "      <th>product_id</th>\n",
       "      <th>order_date</th>\n",
       "    </tr>\n",
       "  </thead>\n",
       "  <tbody>\n",
       "    <tr>\n",
       "      <th>805795</th>\n",
       "      <td>5878</td>\n",
       "      <td>52178</td>\n",
       "      <td>694</td>\n",
       "      <td>2010-11-30 15:52:00</td>\n",
       "    </tr>\n",
       "    <tr>\n",
       "      <th>806122</th>\n",
       "      <td>5878</td>\n",
       "      <td>52202</td>\n",
       "      <td>694</td>\n",
       "      <td>2010-11-30 18:46:00</td>\n",
       "    </tr>\n",
       "  </tbody>\n",
       "</table>\n",
       "</div>"
      ],
      "text/plain": [
       "        customer_id  order_id  product_id          order_date\n",
       "805795         5878     52178         694 2010-11-30 15:52:00\n",
       "806122         5878     52202         694 2010-11-30 18:46:00"
      ]
     },
     "execution_count": 11,
     "metadata": {},
     "output_type": "execute_result"
    }
   ],
   "source": [
    "df[ df[\"customer_id\"] == 5878 ][ [\"customer_id\", \"order_id\", \"product_id\", \"order_date\"] ]"
   ]
  },
  {
   "cell_type": "markdown",
   "metadata": {},
   "source": [
    "Jak widać, wszystko zgadza się - `customer_id` ma dwa zamówienia. Co ciekawe to był ten sam produkt (`product_id=694`) i drugie zamówienie powstało za ~3h (2:54h). Potem już nie wrócił. Na podstawie tego można wymyślić już szereg rzeczy, co jeszcze można sprawdzić, ale na razie zostawmy to.\n",
    "\n",
    "Jak na razie już oprócz `customer_id` mamy drugą cechę `count_orders`, czyli ile zamówień dokonał ten klient.\n",
    "\n",
    "Zacznimy sprawdzać, czy faktycznie liczba zakupów \"pomaga\" trafić do segmentu klientów `most_revenue_customer`."
   ]
  },
  {
   "cell_type": "code",
   "execution_count": 12,
   "metadata": {},
   "outputs": [
    {
     "data": {
      "text/html": [
       "<div>\n",
       "<style scoped>\n",
       "    .dataframe tbody tr th:only-of-type {\n",
       "        vertical-align: middle;\n",
       "    }\n",
       "\n",
       "    .dataframe tbody tr th {\n",
       "        vertical-align: top;\n",
       "    }\n",
       "\n",
       "    .dataframe thead tr th {\n",
       "        text-align: left;\n",
       "    }\n",
       "\n",
       "    .dataframe thead tr:last-of-type th {\n",
       "        text-align: right;\n",
       "    }\n",
       "</style>\n",
       "<table border=\"1\" class=\"dataframe\">\n",
       "  <thead>\n",
       "    <tr>\n",
       "      <th></th>\n",
       "      <th colspan=\"5\" halign=\"left\">count_orders</th>\n",
       "    </tr>\n",
       "    <tr>\n",
       "      <th></th>\n",
       "      <th>mean</th>\n",
       "      <th>min</th>\n",
       "      <th>max</th>\n",
       "      <th>median</th>\n",
       "      <th>std</th>\n",
       "    </tr>\n",
       "    <tr>\n",
       "      <th>most_revenue_customer</th>\n",
       "      <th></th>\n",
       "      <th></th>\n",
       "      <th></th>\n",
       "      <th></th>\n",
       "      <th></th>\n",
       "    </tr>\n",
       "  </thead>\n",
       "  <tbody>\n",
       "    <tr>\n",
       "      <th>False</th>\n",
       "      <td>3.446542</td>\n",
       "      <td>1</td>\n",
       "      <td>30</td>\n",
       "      <td>2</td>\n",
       "      <td>2.913319</td>\n",
       "    </tr>\n",
       "    <tr>\n",
       "      <th>True</th>\n",
       "      <td>21.305891</td>\n",
       "      <td>1</td>\n",
       "      <td>468</td>\n",
       "      <td>15</td>\n",
       "      <td>27.836488</td>\n",
       "    </tr>\n",
       "  </tbody>\n",
       "</table>\n",
       "</div>"
      ],
      "text/plain": [
       "                      count_orders                           \n",
       "                              mean min  max median        std\n",
       "most_revenue_customer                                        \n",
       "False                     3.446542   1   30      2   2.913319\n",
       "True                     21.305891   1  468     15  27.836488"
      ]
     },
     "execution_count": 12,
     "metadata": {},
     "output_type": "execute_result"
    }
   ],
   "source": [
    "(\n",
    "    df_customer_orders[ [\"most_revenue_customer\", \"count_orders\"] ]\n",
    "    .groupby(\"most_revenue_customer\")\n",
    "    .agg(['mean', 'min', 'max', 'median', 'std'])\n",
    ")"
   ]
  },
  {
   "cell_type": "markdown",
   "metadata": {},
   "source": [
    "### Wnioski\n",
    "\n",
    "- `min=1` dla `most_revenue_customer=True`\n",
    "Widzimy, że jest przypadek, kiedy klient ma tylko jedno zamówienie, ale trafił do `most_revenue_customer` (warto sprawdzić, o co chodziło w tym przypadku, pewnie o rozmiar zamówienia);\n",
    "- `max` dla `most_revenue_customer=True` 468, w przypadku `most_revenue_customer=False` maksymalna wartość 30. Brzmi, że każdy kto ma więcej niż 30 zamówień trafia do `most_revenue_customer`. Prawdopodobnie to jest próg, który przekracza pewną kwotę (taka hipoteza, warto sprawdzić).\n",
    "- mediana (czyli połowa) dla `most_revenue_customer=True` jest 15 (to oznacza, że połowa klientów posiada co najmniej 15+ zamówień lub odwrotnie) w przypadku `most_revenue_customer=False` połowa klientów ma tylko 3 zamówienia.\n",
    "\n",
    "Nasuwa się jeszcze kilka innych wniosków.\n",
    "\n",
    "\n",
    "Czas na zadania. Przeprowadź podobną analizę dla produktów.\n",
    "\n",
    "## Zadanie 3.1\n",
    "\n",
    "\n",
    "Ostatnio przygotowaliśmy zbiór `top_customers`. Teraz zróbmy podobnie tylko dla produktów i wynik zapiszmy do zmiennej o nazwie `top_products`.\n",
    "\n",
    "### 💡 Podpowiedźi\n",
    "\n",
    "1. Najpierw trzeba wyliczyć `most_revenue_product` z możliwymi odpowiedziami `True` lub `False`.  \n",
    "2. W tym celu warto policzyć `cumsum` dla produktów (czyli pogrupwać).  \n",
    "3. Wyżej już to zrobiliśmy dla  `df_customers`, teraz ma powstać identyczna `df_products`. \n",
    "4. Załóż, że większość to 80% `value_80prc = int(df[\"price_total\"].sum() * 0.8`.\n",
    "5. Wtedy możesz policzyć `most_revenue_product` w taki sposób `df_products[\"most_revenue_product\"] = df_products[\"cumsum\"] < value_80prc`.   \n",
    "6. I na koniec `set(df_products[ df_products[\"most_revenue_product\"] ][\"product_id\"].unique())`.\n",
    "7. Wynik przypisz do zmiennej z pkt. 6 `top_products`.\n",
    "\n",
    "\n",
    "### Jeśli nadal masz pytania, śmiało pytaj 🙏 na slacku na kanale [#dwthon_day3](https://bit.ly/3qzFjv0)! Pamiętaj od pytań rozpoczyna się nauka. To jest bardzo dobrze, że masz pytanie :) "
   ]
  },
  {
   "cell_type": "code",
   "execution_count": null,
   "metadata": {},
   "outputs": [],
   "source": [
    "### YOUR CODE HERE"
   ]
  },
  {
   "cell_type": "markdown",
   "metadata": {},
   "source": [
    "Jak **wykonasz** zadanie, należy zrobić:\n",
    "\n",
    "1. Zrzut ekranu na którym widać rozwiązania, wtedy dostaniesz bonus :)\n",
    "2. Wrzucić rozwiązanie na slacku do pokoju **[#dwthon_day3_done](https://stat.dataworkshop.eu/r?u=https://dataworkshopclub.slack.com/archives/C01QFU9MW8K)**\n",
    "3. Dostać bonus za dobrą robotę 💪 i jutro będzie kolejna porcja.\n",
    "\n",
    "*Uwaga! Jeśli masz problem z jakimś zadaniem, czegoś nie wiesz, to pamiętaj, że możesz zadawać pytania! Na tym polega nauka :) Pytania związane z 2 dniem DWthon zadawaj w kanale [#dwthon_day3](https://stat.dataworkshop.eu/r?u=https://dataworkshopclub.slack.com/archives/C01QFN93AAE)*."
   ]
  },
  {
   "cell_type": "markdown",
   "metadata": {},
   "source": [
    "## Dodatkowe zadania"
   ]
  },
  {
   "cell_type": "markdown",
   "metadata": {},
   "source": [
    "Warto pójść krok dalej, jeśli masz energię i \"rozebrać\" 🤔 zamówienia na mniejsze \"kawałki\". Każde zamówienie składa się z produktów. \n",
    "\n",
    "Sprawdźmy np. jakie produkty klient kupił co najmniej raz. "
   ]
  },
  {
   "cell_type": "code",
   "execution_count": 13,
   "metadata": {},
   "outputs": [
    {
     "data": {
      "text/html": [
       "<div>\n",
       "<style scoped>\n",
       "    .dataframe tbody tr th:only-of-type {\n",
       "        vertical-align: middle;\n",
       "    }\n",
       "\n",
       "    .dataframe tbody tr th {\n",
       "        vertical-align: top;\n",
       "    }\n",
       "\n",
       "    .dataframe thead th {\n",
       "        text-align: right;\n",
       "    }\n",
       "</style>\n",
       "<table border=\"1\" class=\"dataframe\">\n",
       "  <thead>\n",
       "    <tr style=\"text-align: right;\">\n",
       "      <th></th>\n",
       "      <th>customer_id</th>\n",
       "      <th>count_unique_products</th>\n",
       "      <th>most_revenue_customer</th>\n",
       "    </tr>\n",
       "  </thead>\n",
       "  <tbody>\n",
       "    <tr>\n",
       "      <th>0</th>\n",
       "      <td>0</td>\n",
       "      <td>93</td>\n",
       "      <td>True</td>\n",
       "    </tr>\n",
       "    <tr>\n",
       "      <th>1</th>\n",
       "      <td>1</td>\n",
       "      <td>184</td>\n",
       "      <td>True</td>\n",
       "    </tr>\n",
       "    <tr>\n",
       "      <th>2</th>\n",
       "      <td>2</td>\n",
       "      <td>139</td>\n",
       "      <td>True</td>\n",
       "    </tr>\n",
       "    <tr>\n",
       "      <th>3</th>\n",
       "      <td>3</td>\n",
       "      <td>40</td>\n",
       "      <td>False</td>\n",
       "    </tr>\n",
       "    <tr>\n",
       "      <th>4</th>\n",
       "      <td>4</td>\n",
       "      <td>11</td>\n",
       "      <td>True</td>\n",
       "    </tr>\n",
       "    <tr>\n",
       "      <th>...</th>\n",
       "      <td>...</td>\n",
       "      <td>...</td>\n",
       "      <td>...</td>\n",
       "    </tr>\n",
       "    <tr>\n",
       "      <th>5874</th>\n",
       "      <td>5874</td>\n",
       "      <td>46</td>\n",
       "      <td>False</td>\n",
       "    </tr>\n",
       "    <tr>\n",
       "      <th>5875</th>\n",
       "      <td>5875</td>\n",
       "      <td>21</td>\n",
       "      <td>False</td>\n",
       "    </tr>\n",
       "    <tr>\n",
       "      <th>5876</th>\n",
       "      <td>5876</td>\n",
       "      <td>69</td>\n",
       "      <td>False</td>\n",
       "    </tr>\n",
       "    <tr>\n",
       "      <th>5877</th>\n",
       "      <td>5877</td>\n",
       "      <td>33</td>\n",
       "      <td>False</td>\n",
       "    </tr>\n",
       "    <tr>\n",
       "      <th>5878</th>\n",
       "      <td>5878</td>\n",
       "      <td>1</td>\n",
       "      <td>False</td>\n",
       "    </tr>\n",
       "  </tbody>\n",
       "</table>\n",
       "<p>5879 rows × 3 columns</p>\n",
       "</div>"
      ],
      "text/plain": [
       "      customer_id  count_unique_products  most_revenue_customer\n",
       "0               0                     93                   True\n",
       "1               1                    184                   True\n",
       "2               2                    139                   True\n",
       "3               3                     40                  False\n",
       "4               4                     11                   True\n",
       "...           ...                    ...                    ...\n",
       "5874         5874                     46                  False\n",
       "5875         5875                     21                  False\n",
       "5876         5876                     69                  False\n",
       "5877         5877                     33                  False\n",
       "5878         5878                      1                  False\n",
       "\n",
       "[5879 rows x 3 columns]"
      ]
     },
     "execution_count": 13,
     "metadata": {},
     "output_type": "execute_result"
    }
   ],
   "source": [
    "df_customer_products = (\n",
    "    df[ [\"customer_id\", \"product_id\"] ]\n",
    "        .groupby([\"customer_id\"])\n",
    "        .agg(lambda x: len(set(x)) )\n",
    "        .reset_index()\n",
    "        .rename(columns={\"product_id\": \"count_unique_products\"})\n",
    "        \n",
    ")\n",
    "\n",
    "df_customer_products[\"most_revenue_customer\"] = df_customer_products[\"customer_id\"].map(lambda x: x in top_customers)\n",
    "df_customer_products"
   ]
  },
  {
   "cell_type": "markdown",
   "metadata": {},
   "source": [
    "Widzimy, że np. `customer_id=0` kupił co najmniej w jednej sztuce 93 produkty. Dla przykładu `customer_id=5878` kupił tylko jeden rodzaj produktu. Zróbmy teraz podobną analizę jak powyżej. Pomogę Ci."
   ]
  },
  {
   "cell_type": "code",
   "execution_count": 14,
   "metadata": {},
   "outputs": [
    {
     "data": {
      "text/html": [
       "<div>\n",
       "<style scoped>\n",
       "    .dataframe tbody tr th:only-of-type {\n",
       "        vertical-align: middle;\n",
       "    }\n",
       "\n",
       "    .dataframe tbody tr th {\n",
       "        vertical-align: top;\n",
       "    }\n",
       "\n",
       "    .dataframe thead tr th {\n",
       "        text-align: left;\n",
       "    }\n",
       "\n",
       "    .dataframe thead tr:last-of-type th {\n",
       "        text-align: right;\n",
       "    }\n",
       "</style>\n",
       "<table border=\"1\" class=\"dataframe\">\n",
       "  <thead>\n",
       "    <tr>\n",
       "      <th></th>\n",
       "      <th colspan=\"5\" halign=\"left\">count_unique_products</th>\n",
       "    </tr>\n",
       "    <tr>\n",
       "      <th></th>\n",
       "      <th>mean</th>\n",
       "      <th>min</th>\n",
       "      <th>max</th>\n",
       "      <th>median</th>\n",
       "      <th>std</th>\n",
       "    </tr>\n",
       "    <tr>\n",
       "      <th>most_revenue_customer</th>\n",
       "      <th></th>\n",
       "      <th></th>\n",
       "      <th></th>\n",
       "      <th></th>\n",
       "      <th></th>\n",
       "    </tr>\n",
       "  </thead>\n",
       "  <tbody>\n",
       "    <tr>\n",
       "      <th>False</th>\n",
       "      <td>47.309330</td>\n",
       "      <td>1</td>\n",
       "      <td>408</td>\n",
       "      <td>32</td>\n",
       "      <td>49.811765</td>\n",
       "    </tr>\n",
       "    <tr>\n",
       "      <th>True</th>\n",
       "      <td>189.253776</td>\n",
       "      <td>1</td>\n",
       "      <td>2353</td>\n",
       "      <td>152</td>\n",
       "      <td>174.096217</td>\n",
       "    </tr>\n",
       "  </tbody>\n",
       "</table>\n",
       "</div>"
      ],
      "text/plain": [
       "                      count_unique_products                             \n",
       "                                       mean min   max median         std\n",
       "most_revenue_customer                                                   \n",
       "False                             47.309330   1   408     32   49.811765\n",
       "True                             189.253776   1  2353    152  174.096217"
      ]
     },
     "execution_count": 14,
     "metadata": {},
     "output_type": "execute_result"
    }
   ],
   "source": [
    "(\n",
    "    df_customer_products[ [\"most_revenue_customer\", \"count_unique_products\"] ]\n",
    "    .groupby(\"most_revenue_customer\")\n",
    "    .agg(['mean', 'min', 'max', 'median', 'std'])\n",
    ")"
   ]
  },
  {
   "cell_type": "markdown",
   "metadata": {},
   "source": [
    "## 🧠 Włączmy myślenie krytycznie\n",
    "\n",
    "Pomyśl co to oznacza? Wyciągnij wnioski i porozważaj (postaw hipotezy, które warto sprawdzić)."
   ]
  },
  {
   "cell_type": "markdown",
   "metadata": {},
   "source": [
    "## 🤝🗣️ Uruchom kooperację i komunikację\n",
    "\n",
    "\n",
    "#### ☝️ Podziel się swoimi przemyśleniami na slacku **[#dwthon_day3_ideas](https://stat.dataworkshop.eu/r?u=https://dataworkshopclub.slack.com/archives/C01QFNACP8A)**. Jeśli masz pomysł, ale nie masz kodu - poproś na slacku o pomoc, aby ktoś pomógł Ci napisać kod. Natomiast jeśli masz kod, to koniecznie podziel się. Dzięki temu ktoś inny będzie w stanie łatwo powtórzyć i podzielić się swoimi przemyśleniami. Dzięki temu każdy zyskuje :).\n",
    "\n",
    "\n",
    "Uwaga! Aby to było czytelne, proponuję dodawać tagi do wiaodmości na samym początku.\n",
    "\n",
    "Na przykład.\n",
    "\n",
    "```\n",
    "#df_customer_products\n",
    "\n",
    "Moje wnioski ...\n",
    "1. ...\n",
    "2. ...\n",
    "3. ...\n",
    "```\n",
    "\n",
    "Zawartość pisz, jak Ci jest wygodnie, ale zacznijmy od tagu `#df_customer_products`, dzięki temu łatwiej będzie filtrować wśród innych wiadomości."
   ]
  },
  {
   "cell_type": "markdown",
   "metadata": {},
   "source": [
    "## 🧠 Włączmy myślenie krytycznie\n",
    "\n",
    "\n",
    "Tak się składa, że w naszym życiu ważną rolę odgrywa czas. Jeśli o tym porozważasz, to branie pod uwagę osi czasu jest bardzo istotne. Wyobraź sobie, że od jutra zakazują pojęcia czasu (podczas \"pandemii\" nawet to może \"przejść\" 😉), to co wtedy?  To co to oznacza dla Ciebie?\n",
    "\n",
    "\n",
    "No właśnie. Ciężko. Czas jest bardzo istotny. Od tego zależy większość naszych aktywności. W kontekście tego zadania, czas bardzo wpływa na to, kiedy kupujemy prezenty.\n",
    "\n",
    "\n",
    "Z mojego doświadczenia wynika, że w analizie danych ważne są konteksty. Czas jest jednym z kluczowym kontekstów, o którym zawsze warto pamiętać! Pokażę Ci na przykładzie, dlaczego zwracam tak dużą uwagę na \"czas\"."
   ]
  },
  {
   "cell_type": "code",
   "execution_count": 15,
   "metadata": {},
   "outputs": [
    {
     "data": {
      "image/png": "[encoded data removed]",
      "text/plain": [
       "<Figure size 864x360 with 1 Axes>"
      ]
     },
     "metadata": {},
     "output_type": "display_data"
    }
   ],
   "source": [
    "df.index = df.order_date\n",
    "df[ ['price_total'] ].resample('m').agg(\"sum\").plot(title=\"Revenue per Month\");"
   ]
  },
  {
   "cell_type": "markdown",
   "metadata": {},
   "source": [
    "Na wykresie widać, że przychody bardzo zależą od miesiąca. Właściwie nawet można pokazać miesiące, w których materializuje się 80% przychodów. Też widać powtarzalność. Późna jesień i początek zimy brzmią jako najatrakcyjniejsze okresy w sprzedaży.\n",
    "\n",
    "Kilka zdań technicznych.\n",
    "\n",
    "- `df.index = df.order_date` przypisaliśmy do indeksu daty, aby można było stosować `resample`.\n",
    "- `resample('M')` to jest funkcja, która bardzo ułatwia życie przy pracy z osią czasu. Podobny efekt można osiągnąć też przy pomocy `groupby`, ale więcej trzeba się namęczyć. \n",
    "- parametr `M` w `resample` oznacza `month` (czyli miesiąc), pozbieraj dane per miesiąc, można tam wstawić `d` od `day` (dzień) lub nawet `7d`, wtedy będzie co 7 dni. Sprawdźmy :)"
   ]
  },
  {
   "cell_type": "code",
   "execution_count": 16,
   "metadata": {},
   "outputs": [
    {
     "data": {
      "image/png": "[encoded data removed]",
      "text/plain": [
       "<Figure size 864x360 with 1 Axes>"
      ]
     },
     "metadata": {},
     "output_type": "display_data"
    }
   ],
   "source": [
    "df[ ['price_total'] ].resample('d').agg(\"sum\").plot(title=\"Revenue per Day\");"
   ]
  },
  {
   "cell_type": "code",
   "execution_count": 17,
   "metadata": {},
   "outputs": [
    {
     "data": {
      "image/png": "[encoded data removed]",
      "text/plain": [
       "<Figure size 864x360 with 1 Axes>"
      ]
     },
     "metadata": {},
     "output_type": "display_data"
    }
   ],
   "source": [
    "df[ ['price_total'] ].resample('7d').agg(\"sum\").plot(title=\"Revenue per 7 Days\");"
   ]
  },
  {
   "cell_type": "markdown",
   "metadata": {},
   "source": [
    "- `agg(\"sum\")` oznacza funkcję agregującą sumę, ale może być coś innego, np. `max`, `min`, `median`, `std` lub wszystko na raz.  Sprawdźmy.  \n",
    "\n",
    "⌛️ Uwaga, ta komórka liczy się dłużej!"
   ]
  },
  {
   "cell_type": "code",
   "execution_count": 18,
   "metadata": {},
   "outputs": [
    {
     "data": {
      "image/png": "[encoded data removed]",
      "text/plain": [
       "<Figure size 864x360 with 1 Axes>"
      ]
     },
     "metadata": {},
     "output_type": "display_data"
    }
   ],
   "source": [
    "df[ ['price_total'] ].resample('1m').agg([\"mean\", \"median\"]).plot(title=\"Revenue per 7 Days\");"
   ]
  },
  {
   "cell_type": "markdown",
   "metadata": {},
   "source": [
    "Widac, że czasem `max` znacząco wyróżnia się. Brzmi jako temat, o którym można porozważać \"dlaczego\" tak się dzieje.\n",
    "\n",
    "Dodatkowo możemy zrobić  `count` (w sztukach), tylko wtedy przełączamy się na `product_id` lub `order_id`. Sprawdźmy liczbę zamówień per miesiąc."
   ]
  },
  {
   "cell_type": "code",
   "execution_count": 19,
   "metadata": {},
   "outputs": [
    {
     "data": {
      "image/png": "[encoded data removed]",
      "text/plain": [
       "<Figure size 864x360 with 1 Axes>"
      ]
     },
     "metadata": {},
     "output_type": "display_data"
    }
   ],
   "source": [
    "df[ ['order_id'] ].resample('1m').agg(lambda x: len(set(x)) ).plot(title=\"Count of Orders per Month\");"
   ]
  },
  {
   "cell_type": "markdown",
   "metadata": {},
   "source": [
    "## 🤝🗣️ Uruchom kooperację i komunikację\n",
    "\n",
    "\n",
    "W tej lekcji już było poruszonych wiele pomysłów, co można posprawdzać w danych. Zaczęlismy od tego, że badaliśmy `top_clients`. Można zrobić podobnie dla `top_products`!\n",
    "\n",
    "\n",
    "\n",
    "\n",
    "#### ☝️ Podziel się swoimi przemyśleniami na slacku **[#dwthon_day3_ideas](https://bit.ly/3rs5m8N)**. Jeśli masz pomysł, ale nie masz kodu - poproś na slacku o pomoc, aby ktoś pomógł Ci napisać kod. Natomiast jeśli masz kod, to koniecznie podziel się. Dzięki temu ktoś inny będzie w stanie łatwo powtórzyć i podzielić się swoimi przemyśleniami. Dzięki temu każdy zyskuje :).\n",
    "\n",
    "Uwaga! Aby to było czytelne, proponuję dodawać tagi do wiadmości na samym początku.\n",
    "\n",
    "Na przykład.\n",
    "```\n",
    "#top_products\n",
    "\n",
    "Moje wnioski ...\n",
    "1. ...\n",
    "2. ...\n",
    "3. ...\n",
    "```\n",
    "\n",
    "Zawartość pisz, jak Ci jest wygodnie, ale zacznijmy od tagu `#top_products`, dzięki temu łatwiej będzie można filtrować wśród innych wiadomości.\n",
    "\n",
    "--- \n"
   ]
  },
  {
   "cell_type": "markdown",
   "metadata": {},
   "source": [
    "## Twój Feedback \n",
    "\n",
    "Daj mi znać koniecznie, co sprawiło Ci przyjemność, co trudność oraz czego udało się nauczyć w tej krótkiej [ankiecie](https://bit.ly/3qxsIJ1). Pozwoli mi ona ulepszyć zadania, a Tobie lepiej trakować swój rozwój: win-win 😇 "
   ]
  },
  {
   "cell_type": "markdown",
   "metadata": {},
   "source": [
    "## Widzimy się jutro!  🙌"
   ]
  },
  {
   "cell_type": "code",
   "execution_count": null,
   "metadata": {},
   "outputs": [],
   "source": []
  }
 ],
 "metadata": {
  "kernelspec": {
   "display_name": "Python 3",
   "language": "python",
   "name": "python3"
  },
  "language_info": {
   "codemirror_mode": {
    "name": "ipython",
    "version": 3
   },
   "file_extension": ".py",
   "mimetype": "text/x-python",
   "name": "python",
   "nbconvert_exporter": "python",
   "pygments_lexer": "ipython3",
   "version": "3.8.6"
  }
 },
 "nbformat": 4,
 "nbformat_minor": 4
}
